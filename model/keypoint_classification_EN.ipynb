{
  "cells": [
    {
      "cell_type": "code",
      "execution_count": 57,
      "metadata": {
        "id": "igMyGnjE9hEp"
      },
      "outputs": [],
      "source": [
        "import csv\n",
        "\n",
        "import numpy as np\n",
        "import tensorflow as tf\n",
        "from sklearn.model_selection import train_test_split\n",
        "\n",
        "RANDOM_SEED = 42"
      ]
    },
    {
      "cell_type": "markdown",
      "metadata": {
        "id": "t2HDvhIu9hEr"
      },
      "source": [
        "# Specify each path"
      ]
    },
    {
      "cell_type": "code",
      "execution_count": 58,
      "metadata": {
        "id": "9NvZP2Zn9hEy"
      },
      "outputs": [],
      "source": [
        "dataset = 'model/keypoint_classifier/Alphabet_keys.csv'\n",
        "model_save_path = 'model/keypoint_classifier/keypoint_classifier_updated.keras'\n",
        "tflite_save_path = 'model/keypoint_classifier/keypoint_classifier.tflite'"
      ]
    },
    {
      "cell_type": "markdown",
      "metadata": {
        "id": "s5oMH7x19hEz"
      },
      "source": [
        "# Set number of classes"
      ]
    },
    {
      "cell_type": "code",
      "execution_count": 79,
      "metadata": {
        "id": "du4kodXL9hEz"
      },
      "outputs": [],
      "source": [
        "NUM_CLASSES = 26"
      ]
    },
    {
      "cell_type": "markdown",
      "metadata": {
        "id": "XjnL0uso9hEz"
      },
      "source": [
        "# Dataset reading"
      ]
    },
    {
      "cell_type": "code",
      "execution_count": 80,
      "metadata": {
        "id": "QT5ZqtEz9hE0"
      },
      "outputs": [],
      "source": [
        "X_dataset = np.loadtxt(dataset, delimiter=',', dtype='float32', usecols=list(range(1, (21 * 2) + 1)))"
      ]
    },
    {
      "cell_type": "code",
      "execution_count": 81,
      "metadata": {
        "id": "QmoKFsp49hE0"
      },
      "outputs": [],
      "source": [
        "y_dataset = np.loadtxt(dataset, delimiter=',', dtype='int32', usecols=(0))"
      ]
    },
    {
      "cell_type": "code",
      "execution_count": 82,
      "metadata": {
        "id": "xQU7JTZ_9hE0"
      },
      "outputs": [],
      "source": [
        "X_train, X_test, y_train, y_test = train_test_split(X_dataset, y_dataset, train_size=0.75, random_state=RANDOM_SEED)"
      ]
    },
    {
      "cell_type": "markdown",
      "metadata": {
        "id": "mxK_lETT9hE0"
      },
      "source": [
        "# Model building"
      ]
    },
    {
      "cell_type": "code",
      "execution_count": 83,
      "metadata": {
        "id": "vHBmUf1t9hE1"
      },
      "outputs": [],
      "source": [
        "model = tf.keras.models.Sequential([\n",
        "    tf.keras.layers.Input((21 * 2, )),\n",
        "    tf.keras.layers.Dropout(0.2),\n",
        "    tf.keras.layers.Dense(20, activation='relu'),\n",
        "    tf.keras.layers.Dropout(0.4),\n",
        "    tf.keras.layers.Dense(10, activation='relu'),\n",
        "    tf.keras.layers.Dense(NUM_CLASSES, activation='softmax')\n",
        "])"
      ]
    },
    {
      "cell_type": "code",
      "execution_count": 84,
      "metadata": {
        "colab": {
          "base_uri": "https://localhost:8080/"
        },
        "id": "ypqky9tc9hE1",
        "outputId": "5db082bb-30e3-4110-bf63-a1ee777ecd46"
      },
      "outputs": [
        {
          "data": {
            "text/html": [
              "<pre style=\"white-space:pre;overflow-x:auto;line-height:normal;font-family:Menlo,'DejaVu Sans Mono',consolas,'Courier New',monospace\"><span style=\"font-weight: bold\">Model: \"sequential_4\"</span>\n",
              "</pre>\n"
            ],
            "text/plain": [
              "\u001b[1mModel: \"sequential_4\"\u001b[0m\n"
            ]
          },
          "metadata": {},
          "output_type": "display_data"
        },
        {
          "data": {
            "text/html": [
              "<pre style=\"white-space:pre;overflow-x:auto;line-height:normal;font-family:Menlo,'DejaVu Sans Mono',consolas,'Courier New',monospace\">┏━━━━━━━━━━━━━━━━━━━━━━━━━━━━━━━━━┳━━━━━━━━━━━━━━━━━━━━━━━━┳━━━━━━━━━━━━━━━┓\n",
              "┃<span style=\"font-weight: bold\"> Layer (type)                    </span>┃<span style=\"font-weight: bold\"> Output Shape           </span>┃<span style=\"font-weight: bold\">       Param # </span>┃\n",
              "┡━━━━━━━━━━━━━━━━━━━━━━━━━━━━━━━━━╇━━━━━━━━━━━━━━━━━━━━━━━━╇━━━━━━━━━━━━━━━┩\n",
              "│ dropout_8 (<span style=\"color: #0087ff; text-decoration-color: #0087ff\">Dropout</span>)             │ (<span style=\"color: #00d7ff; text-decoration-color: #00d7ff\">None</span>, <span style=\"color: #00af00; text-decoration-color: #00af00\">42</span>)             │             <span style=\"color: #00af00; text-decoration-color: #00af00\">0</span> │\n",
              "├─────────────────────────────────┼────────────────────────┼───────────────┤\n",
              "│ dense_12 (<span style=\"color: #0087ff; text-decoration-color: #0087ff\">Dense</span>)                │ (<span style=\"color: #00d7ff; text-decoration-color: #00d7ff\">None</span>, <span style=\"color: #00af00; text-decoration-color: #00af00\">20</span>)             │           <span style=\"color: #00af00; text-decoration-color: #00af00\">860</span> │\n",
              "├─────────────────────────────────┼────────────────────────┼───────────────┤\n",
              "│ dropout_9 (<span style=\"color: #0087ff; text-decoration-color: #0087ff\">Dropout</span>)             │ (<span style=\"color: #00d7ff; text-decoration-color: #00d7ff\">None</span>, <span style=\"color: #00af00; text-decoration-color: #00af00\">20</span>)             │             <span style=\"color: #00af00; text-decoration-color: #00af00\">0</span> │\n",
              "├─────────────────────────────────┼────────────────────────┼───────────────┤\n",
              "│ dense_13 (<span style=\"color: #0087ff; text-decoration-color: #0087ff\">Dense</span>)                │ (<span style=\"color: #00d7ff; text-decoration-color: #00d7ff\">None</span>, <span style=\"color: #00af00; text-decoration-color: #00af00\">10</span>)             │           <span style=\"color: #00af00; text-decoration-color: #00af00\">210</span> │\n",
              "├─────────────────────────────────┼────────────────────────┼───────────────┤\n",
              "│ dense_14 (<span style=\"color: #0087ff; text-decoration-color: #0087ff\">Dense</span>)                │ (<span style=\"color: #00d7ff; text-decoration-color: #00d7ff\">None</span>, <span style=\"color: #00af00; text-decoration-color: #00af00\">26</span>)             │           <span style=\"color: #00af00; text-decoration-color: #00af00\">286</span> │\n",
              "└─────────────────────────────────┴────────────────────────┴───────────────┘\n",
              "</pre>\n"
            ],
            "text/plain": [
              "┏━━━━━━━━━━━━━━━━━━━━━━━━━━━━━━━━━┳━━━━━━━━━━━━━━━━━━━━━━━━┳━━━━━━━━━━━━━━━┓\n",
              "┃\u001b[1m \u001b[0m\u001b[1mLayer (type)                   \u001b[0m\u001b[1m \u001b[0m┃\u001b[1m \u001b[0m\u001b[1mOutput Shape          \u001b[0m\u001b[1m \u001b[0m┃\u001b[1m \u001b[0m\u001b[1m      Param #\u001b[0m\u001b[1m \u001b[0m┃\n",
              "┡━━━━━━━━━━━━━━━━━━━━━━━━━━━━━━━━━╇━━━━━━━━━━━━━━━━━━━━━━━━╇━━━━━━━━━━━━━━━┩\n",
              "│ dropout_8 (\u001b[38;5;33mDropout\u001b[0m)             │ (\u001b[38;5;45mNone\u001b[0m, \u001b[38;5;34m42\u001b[0m)             │             \u001b[38;5;34m0\u001b[0m │\n",
              "├─────────────────────────────────┼────────────────────────┼───────────────┤\n",
              "│ dense_12 (\u001b[38;5;33mDense\u001b[0m)                │ (\u001b[38;5;45mNone\u001b[0m, \u001b[38;5;34m20\u001b[0m)             │           \u001b[38;5;34m860\u001b[0m │\n",
              "├─────────────────────────────────┼────────────────────────┼───────────────┤\n",
              "│ dropout_9 (\u001b[38;5;33mDropout\u001b[0m)             │ (\u001b[38;5;45mNone\u001b[0m, \u001b[38;5;34m20\u001b[0m)             │             \u001b[38;5;34m0\u001b[0m │\n",
              "├─────────────────────────────────┼────────────────────────┼───────────────┤\n",
              "│ dense_13 (\u001b[38;5;33mDense\u001b[0m)                │ (\u001b[38;5;45mNone\u001b[0m, \u001b[38;5;34m10\u001b[0m)             │           \u001b[38;5;34m210\u001b[0m │\n",
              "├─────────────────────────────────┼────────────────────────┼───────────────┤\n",
              "│ dense_14 (\u001b[38;5;33mDense\u001b[0m)                │ (\u001b[38;5;45mNone\u001b[0m, \u001b[38;5;34m26\u001b[0m)             │           \u001b[38;5;34m286\u001b[0m │\n",
              "└─────────────────────────────────┴────────────────────────┴───────────────┘\n"
            ]
          },
          "metadata": {},
          "output_type": "display_data"
        },
        {
          "data": {
            "text/html": [
              "<pre style=\"white-space:pre;overflow-x:auto;line-height:normal;font-family:Menlo,'DejaVu Sans Mono',consolas,'Courier New',monospace\"><span style=\"font-weight: bold\"> Total params: </span><span style=\"color: #00af00; text-decoration-color: #00af00\">1,356</span> (5.30 KB)\n",
              "</pre>\n"
            ],
            "text/plain": [
              "\u001b[1m Total params: \u001b[0m\u001b[38;5;34m1,356\u001b[0m (5.30 KB)\n"
            ]
          },
          "metadata": {},
          "output_type": "display_data"
        },
        {
          "data": {
            "text/html": [
              "<pre style=\"white-space:pre;overflow-x:auto;line-height:normal;font-family:Menlo,'DejaVu Sans Mono',consolas,'Courier New',monospace\"><span style=\"font-weight: bold\"> Trainable params: </span><span style=\"color: #00af00; text-decoration-color: #00af00\">1,356</span> (5.30 KB)\n",
              "</pre>\n"
            ],
            "text/plain": [
              "\u001b[1m Trainable params: \u001b[0m\u001b[38;5;34m1,356\u001b[0m (5.30 KB)\n"
            ]
          },
          "metadata": {},
          "output_type": "display_data"
        },
        {
          "data": {
            "text/html": [
              "<pre style=\"white-space:pre;overflow-x:auto;line-height:normal;font-family:Menlo,'DejaVu Sans Mono',consolas,'Courier New',monospace\"><span style=\"font-weight: bold\"> Non-trainable params: </span><span style=\"color: #00af00; text-decoration-color: #00af00\">0</span> (0.00 B)\n",
              "</pre>\n"
            ],
            "text/plain": [
              "\u001b[1m Non-trainable params: \u001b[0m\u001b[38;5;34m0\u001b[0m (0.00 B)\n"
            ]
          },
          "metadata": {},
          "output_type": "display_data"
        }
      ],
      "source": [
        "model.summary()  # tf.keras.utils.plot_model(model, show_shapes=True)"
      ]
    },
    {
      "cell_type": "code",
      "execution_count": 85,
      "metadata": {
        "id": "MbMjOflQ9hE1"
      },
      "outputs": [],
      "source": [
        "# Model checkpoint callback\n",
        "cp_callback = tf.keras.callbacks.ModelCheckpoint(\n",
        "    model_save_path, verbose=1, save_weights_only=False)\n",
        "# Callback for early stopping\n",
        "es_callback = tf.keras.callbacks.EarlyStopping(patience=20, verbose=1)"
      ]
    },
    {
      "cell_type": "code",
      "execution_count": 87,
      "metadata": {},
      "outputs": [],
      "source": [
        "from tensorflow.keras.callbacks import  ReduceLROnPlateau\n",
        "reduce_lr_callback = ReduceLROnPlateau(\n",
        "    monitor='val_loss',      # Metric to monitor\n",
        "    factor=0.5,              # Reduce LR by this factor\n",
        "    patience=5,              # Epochs with no improvement to wait\n",
        "    min_lr=1e-6,             # Minimum LR\n",
        "    verbose=1                # Print updates\n",
        ")"
      ]
    },
    {
      "cell_type": "code",
      "execution_count": 88,
      "metadata": {
        "id": "c3Dac0M_9hE2"
      },
      "outputs": [],
      "source": [
        "# Model compilation\n",
        "model.compile(\n",
        "    optimizer='adam',\n",
        "    loss='sparse_categorical_crossentropy',\n",
        "    metrics=['accuracy']\n",
        ")"
      ]
    },
    {
      "cell_type": "markdown",
      "metadata": {
        "id": "7XI0j1Iu9hE2"
      },
      "source": [
        "# Model training"
      ]
    },
    {
      "cell_type": "code",
      "execution_count": 89,
      "metadata": {
        "colab": {
          "base_uri": "https://localhost:8080/"
        },
        "id": "WirBl-JE9hE3",
        "outputId": "71b30ca2-8294-4d9d-8aa2-800d90d399de",
        "scrolled": true
      },
      "outputs": [
        {
          "name": "stdout",
          "output_type": "stream",
          "text": [
            "Epoch 1/1000\n",
            "\u001b[1m125/147\u001b[0m \u001b[32m━━━━━━━━━━━━━━━━━\u001b[0m\u001b[37m━━━\u001b[0m \u001b[1m0s\u001b[0m 2ms/step - accuracy: 0.0478 - loss: 3.2678\n",
            "Epoch 1: saving model to model/keypoint_classifier/keypoint_classifier_updated.keras\n",
            "\u001b[1m147/147\u001b[0m \u001b[32m━━━━━━━━━━━━━━━━━━━━\u001b[0m\u001b[37m\u001b[0m \u001b[1m2s\u001b[0m 5ms/step - accuracy: 0.0513 - loss: 3.2558 - val_accuracy: 0.2073 - val_loss: 2.9900 - learning_rate: 0.0010\n",
            "Epoch 2/1000\n",
            "\u001b[1m128/147\u001b[0m \u001b[32m━━━━━━━━━━━━━━━━━\u001b[0m\u001b[37m━━━\u001b[0m \u001b[1m0s\u001b[0m 2ms/step - accuracy: 0.1315 - loss: 2.9723\n",
            "Epoch 2: saving model to model/keypoint_classifier/keypoint_classifier_updated.keras\n",
            "\u001b[1m147/147\u001b[0m \u001b[32m━━━━━━━━━━━━━━━━━━━━\u001b[0m\u001b[37m\u001b[0m \u001b[1m1s\u001b[0m 3ms/step - accuracy: 0.1331 - loss: 2.9589 - val_accuracy: 0.2432 - val_loss: 2.5499 - learning_rate: 0.0010\n",
            "Epoch 3/1000\n",
            "\u001b[1m128/147\u001b[0m \u001b[32m━━━━━━━━━━━━━━━━━\u001b[0m\u001b[37m━━━\u001b[0m \u001b[1m0s\u001b[0m 2ms/step - accuracy: 0.1882 - loss: 2.6209\n",
            "Epoch 3: saving model to model/keypoint_classifier/keypoint_classifier_updated.keras\n",
            "\u001b[1m147/147\u001b[0m \u001b[32m━━━━━━━━━━━━━━━━━━━━\u001b[0m\u001b[37m\u001b[0m \u001b[1m1s\u001b[0m 3ms/step - accuracy: 0.1899 - loss: 2.6122 - val_accuracy: 0.3414 - val_loss: 2.2018 - learning_rate: 0.0010\n",
            "Epoch 4/1000\n",
            "\u001b[1m143/147\u001b[0m \u001b[32m━━━━━━━━━━━━━━━━━━━\u001b[0m\u001b[37m━\u001b[0m \u001b[1m0s\u001b[0m 2ms/step - accuracy: 0.2468 - loss: 2.3511\n",
            "Epoch 4: saving model to model/keypoint_classifier/keypoint_classifier_updated.keras\n",
            "\u001b[1m147/147\u001b[0m \u001b[32m━━━━━━━━━━━━━━━━━━━━\u001b[0m\u001b[37m\u001b[0m \u001b[1m1s\u001b[0m 4ms/step - accuracy: 0.2470 - loss: 2.3492 - val_accuracy: 0.4239 - val_loss: 1.9246 - learning_rate: 0.0010\n",
            "Epoch 5/1000\n",
            "\u001b[1m125/147\u001b[0m \u001b[32m━━━━━━━━━━━━━━━━━\u001b[0m\u001b[37m━━━\u001b[0m \u001b[1m0s\u001b[0m 2ms/step - accuracy: 0.2958 - loss: 2.1455\n",
            "Epoch 5: saving model to model/keypoint_classifier/keypoint_classifier_updated.keras\n",
            "\u001b[1m147/147\u001b[0m \u001b[32m━━━━━━━━━━━━━━━━━━━━\u001b[0m\u001b[37m\u001b[0m \u001b[1m1s\u001b[0m 4ms/step - accuracy: 0.2972 - loss: 2.1404 - val_accuracy: 0.5189 - val_loss: 1.6971 - learning_rate: 0.0010\n",
            "Epoch 6/1000\n",
            "\u001b[1m143/147\u001b[0m \u001b[32m━━━━━━━━━━━━━━━━━━━\u001b[0m\u001b[37m━\u001b[0m \u001b[1m0s\u001b[0m 2ms/step - accuracy: 0.3224 - loss: 2.0000\n",
            "Epoch 6: saving model to model/keypoint_classifier/keypoint_classifier_updated.keras\n",
            "\u001b[1m147/147\u001b[0m \u001b[32m━━━━━━━━━━━━━━━━━━━━\u001b[0m\u001b[37m\u001b[0m \u001b[1m1s\u001b[0m 4ms/step - accuracy: 0.3224 - loss: 1.9996 - val_accuracy: 0.5750 - val_loss: 1.5672 - learning_rate: 0.0010\n",
            "Epoch 7/1000\n",
            "\u001b[1m128/147\u001b[0m \u001b[32m━━━━━━━━━━━━━━━━━\u001b[0m\u001b[37m━━━\u001b[0m \u001b[1m0s\u001b[0m 2ms/step - accuracy: 0.3445 - loss: 1.9116\n",
            "Epoch 7: saving model to model/keypoint_classifier/keypoint_classifier_updated.keras\n",
            "\u001b[1m147/147\u001b[0m \u001b[32m━━━━━━━━━━━━━━━━━━━━\u001b[0m\u001b[37m\u001b[0m \u001b[1m1s\u001b[0m 3ms/step - accuracy: 0.3454 - loss: 1.9089 - val_accuracy: 0.5962 - val_loss: 1.4414 - learning_rate: 0.0010\n",
            "Epoch 8/1000\n",
            "\u001b[1m132/147\u001b[0m \u001b[32m━━━━━━━━━━━━━━━━━\u001b[0m\u001b[37m━━━\u001b[0m \u001b[1m0s\u001b[0m 2ms/step - accuracy: 0.3722 - loss: 1.8255\n",
            "Epoch 8: saving model to model/keypoint_classifier/keypoint_classifier_updated.keras\n",
            "\u001b[1m147/147\u001b[0m \u001b[32m━━━━━━━━━━━━━━━━━━━━\u001b[0m\u001b[37m\u001b[0m \u001b[1m1s\u001b[0m 3ms/step - accuracy: 0.3727 - loss: 1.8239 - val_accuracy: 0.7064 - val_loss: 1.3599 - learning_rate: 0.0010\n",
            "Epoch 9/1000\n",
            "\u001b[1m127/147\u001b[0m \u001b[32m━━━━━━━━━━━━━━━━━\u001b[0m\u001b[37m━━━\u001b[0m \u001b[1m0s\u001b[0m 2ms/step - accuracy: 0.3915 - loss: 1.7651\n",
            "Epoch 9: saving model to model/keypoint_classifier/keypoint_classifier_updated.keras\n",
            "\u001b[1m147/147\u001b[0m \u001b[32m━━━━━━━━━━━━━━━━━━━━\u001b[0m\u001b[37m\u001b[0m \u001b[1m1s\u001b[0m 4ms/step - accuracy: 0.3919 - loss: 1.7630 - val_accuracy: 0.7198 - val_loss: 1.2894 - learning_rate: 0.0010\n",
            "Epoch 10/1000\n",
            "\u001b[1m130/147\u001b[0m \u001b[32m━━━━━━━━━━━━━━━━━\u001b[0m\u001b[37m━━━\u001b[0m \u001b[1m0s\u001b[0m 2ms/step - accuracy: 0.4092 - loss: 1.7010\n",
            "Epoch 10: saving model to model/keypoint_classifier/keypoint_classifier_updated.keras\n",
            "\u001b[1m147/147\u001b[0m \u001b[32m━━━━━━━━━━━━━━━━━━━━\u001b[0m\u001b[37m\u001b[0m \u001b[1m1s\u001b[0m 3ms/step - accuracy: 0.4096 - loss: 1.6996 - val_accuracy: 0.7201 - val_loss: 1.2194 - learning_rate: 0.0010\n",
            "Epoch 11/1000\n",
            "\u001b[1m128/147\u001b[0m \u001b[32m━━━━━━━━━━━━━━━━━\u001b[0m\u001b[37m━━━\u001b[0m \u001b[1m0s\u001b[0m 2ms/step - accuracy: 0.4085 - loss: 1.6651\n",
            "Epoch 11: saving model to model/keypoint_classifier/keypoint_classifier_updated.keras\n",
            "\u001b[1m147/147\u001b[0m \u001b[32m━━━━━━━━━━━━━━━━━━━━\u001b[0m\u001b[37m\u001b[0m \u001b[1m1s\u001b[0m 3ms/step - accuracy: 0.4101 - loss: 1.6621 - val_accuracy: 0.7382 - val_loss: 1.1426 - learning_rate: 0.0010\n",
            "Epoch 12/1000\n",
            "\u001b[1m123/147\u001b[0m \u001b[32m━━━━━━━━━━━━━━━━\u001b[0m\u001b[37m━━━━\u001b[0m \u001b[1m0s\u001b[0m 2ms/step - accuracy: 0.4369 - loss: 1.6161\n",
            "Epoch 12: saving model to model/keypoint_classifier/keypoint_classifier_updated.keras\n",
            "\u001b[1m147/147\u001b[0m \u001b[32m━━━━━━━━━━━━━━━━━━━━\u001b[0m\u001b[37m\u001b[0m \u001b[1m1s\u001b[0m 3ms/step - accuracy: 0.4366 - loss: 1.6146 - val_accuracy: 0.7621 - val_loss: 1.0951 - learning_rate: 0.0010\n",
            "Epoch 13/1000\n",
            "\u001b[1m146/147\u001b[0m \u001b[32m━━━━━━━━━━━━━━━━━━━\u001b[0m\u001b[37m━\u001b[0m \u001b[1m0s\u001b[0m 2ms/step - accuracy: 0.4463 - loss: 1.5940\n",
            "Epoch 13: saving model to model/keypoint_classifier/keypoint_classifier_updated.keras\n",
            "\u001b[1m147/147\u001b[0m \u001b[32m━━━━━━━━━━━━━━━━━━━━\u001b[0m\u001b[37m\u001b[0m \u001b[1m1s\u001b[0m 4ms/step - accuracy: 0.4463 - loss: 1.5938 - val_accuracy: 0.7681 - val_loss: 1.0593 - learning_rate: 0.0010\n",
            "Epoch 14/1000\n",
            "\u001b[1m147/147\u001b[0m \u001b[32m━━━━━━━━━━━━━━━━━━━━\u001b[0m\u001b[37m\u001b[0m \u001b[1m0s\u001b[0m 2ms/step - accuracy: 0.4448 - loss: 1.5636\n",
            "Epoch 14: saving model to model/keypoint_classifier/keypoint_classifier_updated.keras\n",
            "\u001b[1m147/147\u001b[0m \u001b[32m━━━━━━━━━━━━━━━━━━━━\u001b[0m\u001b[37m\u001b[0m \u001b[1m1s\u001b[0m 4ms/step - accuracy: 0.4449 - loss: 1.5635 - val_accuracy: 0.7549 - val_loss: 1.0332 - learning_rate: 0.0010\n",
            "Epoch 15/1000\n",
            "\u001b[1m146/147\u001b[0m \u001b[32m━━━━━━━━━━━━━━━━━━━\u001b[0m\u001b[37m━\u001b[0m \u001b[1m0s\u001b[0m 2ms/step - accuracy: 0.4507 - loss: 1.5528\n",
            "Epoch 15: saving model to model/keypoint_classifier/keypoint_classifier_updated.keras\n",
            "\u001b[1m147/147\u001b[0m \u001b[32m━━━━━━━━━━━━━━━━━━━━\u001b[0m\u001b[37m\u001b[0m \u001b[1m1s\u001b[0m 4ms/step - accuracy: 0.4507 - loss: 1.5528 - val_accuracy: 0.7645 - val_loss: 1.0208 - learning_rate: 0.0010\n",
            "Epoch 16/1000\n",
            "\u001b[1m131/147\u001b[0m \u001b[32m━━━━━━━━━━━━━━━━━\u001b[0m\u001b[37m━━━\u001b[0m \u001b[1m0s\u001b[0m 2ms/step - accuracy: 0.4699 - loss: 1.5087\n",
            "Epoch 16: saving model to model/keypoint_classifier/keypoint_classifier_updated.keras\n",
            "\u001b[1m147/147\u001b[0m \u001b[32m━━━━━━━━━━━━━━━━━━━━\u001b[0m\u001b[37m\u001b[0m \u001b[1m1s\u001b[0m 3ms/step - accuracy: 0.4696 - loss: 1.5094 - val_accuracy: 0.7804 - val_loss: 0.9946 - learning_rate: 0.0010\n",
            "Epoch 17/1000\n",
            "\u001b[1m145/147\u001b[0m \u001b[32m━━━━━━━━━━━━━━━━━━━\u001b[0m\u001b[37m━\u001b[0m \u001b[1m0s\u001b[0m 2ms/step - accuracy: 0.4654 - loss: 1.5083\n",
            "Epoch 17: saving model to model/keypoint_classifier/keypoint_classifier_updated.keras\n",
            "\u001b[1m147/147\u001b[0m \u001b[32m━━━━━━━━━━━━━━━━━━━━\u001b[0m\u001b[37m\u001b[0m \u001b[1m1s\u001b[0m 4ms/step - accuracy: 0.4655 - loss: 1.5082 - val_accuracy: 0.7890 - val_loss: 0.9588 - learning_rate: 0.0010\n",
            "Epoch 18/1000\n",
            "\u001b[1m146/147\u001b[0m \u001b[32m━━━━━━━━━━━━━━━━━━━\u001b[0m\u001b[37m━\u001b[0m \u001b[1m0s\u001b[0m 2ms/step - accuracy: 0.4765 - loss: 1.4675\n",
            "Epoch 18: saving model to model/keypoint_classifier/keypoint_classifier_updated.keras\n",
            "\u001b[1m147/147\u001b[0m \u001b[32m━━━━━━━━━━━━━━━━━━━━\u001b[0m\u001b[37m\u001b[0m \u001b[1m1s\u001b[0m 4ms/step - accuracy: 0.4765 - loss: 1.4675 - val_accuracy: 0.7870 - val_loss: 0.9392 - learning_rate: 0.0010\n",
            "Epoch 19/1000\n",
            "\u001b[1m124/147\u001b[0m \u001b[32m━━━━━━━━━━━━━━━━\u001b[0m\u001b[37m━━━━\u001b[0m \u001b[1m0s\u001b[0m 2ms/step - accuracy: 0.4862 - loss: 1.4626\n",
            "Epoch 19: saving model to model/keypoint_classifier/keypoint_classifier_updated.keras\n",
            "\u001b[1m147/147\u001b[0m \u001b[32m━━━━━━━━━━━━━━━━━━━━\u001b[0m\u001b[37m\u001b[0m \u001b[1m1s\u001b[0m 4ms/step - accuracy: 0.4859 - loss: 1.4647 - val_accuracy: 0.8271 - val_loss: 0.9249 - learning_rate: 0.0010\n",
            "Epoch 20/1000\n",
            "\u001b[1m146/147\u001b[0m \u001b[32m━━━━━━━━━━━━━━━━━━━\u001b[0m\u001b[37m━\u001b[0m \u001b[1m0s\u001b[0m 2ms/step - accuracy: 0.4830 - loss: 1.4590\n",
            "Epoch 20: saving model to model/keypoint_classifier/keypoint_classifier_updated.keras\n",
            "\u001b[1m147/147\u001b[0m \u001b[32m━━━━━━━━━━━━━━━━━━━━\u001b[0m\u001b[37m\u001b[0m \u001b[1m1s\u001b[0m 4ms/step - accuracy: 0.4831 - loss: 1.4590 - val_accuracy: 0.8077 - val_loss: 0.9004 - learning_rate: 0.0010\n",
            "Epoch 21/1000\n",
            "\u001b[1m144/147\u001b[0m \u001b[32m━━━━━━━━━━━━━━━━━━━\u001b[0m\u001b[37m━\u001b[0m \u001b[1m0s\u001b[0m 2ms/step - accuracy: 0.4764 - loss: 1.4609\n",
            "Epoch 21: saving model to model/keypoint_classifier/keypoint_classifier_updated.keras\n",
            "\u001b[1m147/147\u001b[0m \u001b[32m━━━━━━━━━━━━━━━━━━━━\u001b[0m\u001b[37m\u001b[0m \u001b[1m1s\u001b[0m 4ms/step - accuracy: 0.4767 - loss: 1.4607 - val_accuracy: 0.8137 - val_loss: 0.8769 - learning_rate: 0.0010\n",
            "Epoch 22/1000\n",
            "\u001b[1m124/147\u001b[0m \u001b[32m━━━━━━━━━━━━━━━━\u001b[0m\u001b[37m━━━━\u001b[0m \u001b[1m0s\u001b[0m 2ms/step - accuracy: 0.5004 - loss: 1.4260\n",
            "Epoch 22: saving model to model/keypoint_classifier/keypoint_classifier_updated.keras\n",
            "\u001b[1m147/147\u001b[0m \u001b[32m━━━━━━━━━━━━━━━━━━━━\u001b[0m\u001b[37m\u001b[0m \u001b[1m1s\u001b[0m 3ms/step - accuracy: 0.5000 - loss: 1.4263 - val_accuracy: 0.8139 - val_loss: 0.8728 - learning_rate: 0.0010\n",
            "Epoch 23/1000\n",
            "\u001b[1m138/147\u001b[0m \u001b[32m━━━━━━━━━━━━━━━━━━\u001b[0m\u001b[37m━━\u001b[0m \u001b[1m0s\u001b[0m 2ms/step - accuracy: 0.4942 - loss: 1.4363\n",
            "Epoch 23: saving model to model/keypoint_classifier/keypoint_classifier_updated.keras\n",
            "\u001b[1m147/147\u001b[0m \u001b[32m━━━━━━━━━━━━━━━━━━━━\u001b[0m\u001b[37m\u001b[0m \u001b[1m1s\u001b[0m 3ms/step - accuracy: 0.4945 - loss: 1.4355 - val_accuracy: 0.8219 - val_loss: 0.8530 - learning_rate: 0.0010\n",
            "Epoch 24/1000\n",
            "\u001b[1m132/147\u001b[0m \u001b[32m━━━━━━━━━━━━━━━━━\u001b[0m\u001b[37m━━━\u001b[0m \u001b[1m0s\u001b[0m 2ms/step - accuracy: 0.4999 - loss: 1.4199\n",
            "Epoch 24: saving model to model/keypoint_classifier/keypoint_classifier_updated.keras\n",
            "\u001b[1m147/147\u001b[0m \u001b[32m━━━━━━━━━━━━━━━━━━━━\u001b[0m\u001b[37m\u001b[0m \u001b[1m1s\u001b[0m 3ms/step - accuracy: 0.5003 - loss: 1.4198 - val_accuracy: 0.8166 - val_loss: 0.8494 - learning_rate: 0.0010\n",
            "Epoch 25/1000\n",
            "\u001b[1m128/147\u001b[0m \u001b[32m━━━━━━━━━━━━━━━━━\u001b[0m\u001b[37m━━━\u001b[0m \u001b[1m0s\u001b[0m 2ms/step - accuracy: 0.5021 - loss: 1.4137\n",
            "Epoch 25: saving model to model/keypoint_classifier/keypoint_classifier_updated.keras\n",
            "\u001b[1m147/147\u001b[0m \u001b[32m━━━━━━━━━━━━━━━━━━━━\u001b[0m\u001b[37m\u001b[0m \u001b[1m1s\u001b[0m 4ms/step - accuracy: 0.5026 - loss: 1.4130 - val_accuracy: 0.8169 - val_loss: 0.8288 - learning_rate: 0.0010\n",
            "Epoch 26/1000\n",
            "\u001b[1m147/147\u001b[0m \u001b[32m━━━━━━━━━━━━━━━━━━━━\u001b[0m\u001b[37m\u001b[0m \u001b[1m0s\u001b[0m 2ms/step - accuracy: 0.5174 - loss: 1.3795\n",
            "Epoch 26: saving model to model/keypoint_classifier/keypoint_classifier_updated.keras\n",
            "\u001b[1m147/147\u001b[0m \u001b[32m━━━━━━━━━━━━━━━━━━━━\u001b[0m\u001b[37m\u001b[0m \u001b[1m1s\u001b[0m 4ms/step - accuracy: 0.5174 - loss: 1.3795 - val_accuracy: 0.8327 - val_loss: 0.8220 - learning_rate: 0.0010\n",
            "Epoch 27/1000\n",
            "\u001b[1m130/147\u001b[0m \u001b[32m━━━━━━━━━━━━━━━━━\u001b[0m\u001b[37m━━━\u001b[0m \u001b[1m0s\u001b[0m 2ms/step - accuracy: 0.5223 - loss: 1.3706\n",
            "Epoch 27: saving model to model/keypoint_classifier/keypoint_classifier_updated.keras\n",
            "\u001b[1m147/147\u001b[0m \u001b[32m━━━━━━━━━━━━━━━━━━━━\u001b[0m\u001b[37m\u001b[0m \u001b[1m1s\u001b[0m 3ms/step - accuracy: 0.5221 - loss: 1.3716 - val_accuracy: 0.8410 - val_loss: 0.8062 - learning_rate: 0.0010\n",
            "Epoch 28/1000\n",
            "\u001b[1m147/147\u001b[0m \u001b[32m━━━━━━━━━━━━━━━━━━━━\u001b[0m\u001b[37m\u001b[0m \u001b[1m0s\u001b[0m 2ms/step - accuracy: 0.5156 - loss: 1.3749\n",
            "Epoch 28: saving model to model/keypoint_classifier/keypoint_classifier_updated.keras\n",
            "\u001b[1m147/147\u001b[0m \u001b[32m━━━━━━━━━━━━━━━━━━━━\u001b[0m\u001b[37m\u001b[0m \u001b[1m1s\u001b[0m 4ms/step - accuracy: 0.5157 - loss: 1.3749 - val_accuracy: 0.8365 - val_loss: 0.7909 - learning_rate: 0.0010\n",
            "Epoch 29/1000\n",
            "\u001b[1m124/147\u001b[0m \u001b[32m━━━━━━━━━━━━━━━━\u001b[0m\u001b[37m━━━━\u001b[0m \u001b[1m0s\u001b[0m 2ms/step - accuracy: 0.5279 - loss: 1.3629\n",
            "Epoch 29: saving model to model/keypoint_classifier/keypoint_classifier_updated.keras\n",
            "\u001b[1m147/147\u001b[0m \u001b[32m━━━━━━━━━━━━━━━━━━━━\u001b[0m\u001b[37m\u001b[0m \u001b[1m1s\u001b[0m 4ms/step - accuracy: 0.5274 - loss: 1.3641 - val_accuracy: 0.8342 - val_loss: 0.7923 - learning_rate: 0.0010\n",
            "Epoch 30/1000\n",
            "\u001b[1m144/147\u001b[0m \u001b[32m━━━━━━━━━━━━━━━━━━━\u001b[0m\u001b[37m━\u001b[0m \u001b[1m0s\u001b[0m 2ms/step - accuracy: 0.5172 - loss: 1.3658\n",
            "Epoch 30: saving model to model/keypoint_classifier/keypoint_classifier_updated.keras\n",
            "\u001b[1m147/147\u001b[0m \u001b[32m━━━━━━━━━━━━━━━━━━━━\u001b[0m\u001b[37m\u001b[0m \u001b[1m1s\u001b[0m 4ms/step - accuracy: 0.5173 - loss: 1.3656 - val_accuracy: 0.8428 - val_loss: 0.7758 - learning_rate: 0.0010\n",
            "Epoch 31/1000\n",
            "\u001b[1m128/147\u001b[0m \u001b[32m━━━━━━━━━━━━━━━━━\u001b[0m\u001b[37m━━━\u001b[0m \u001b[1m0s\u001b[0m 2ms/step - accuracy: 0.5249 - loss: 1.3591\n",
            "Epoch 31: saving model to model/keypoint_classifier/keypoint_classifier_updated.keras\n",
            "\u001b[1m147/147\u001b[0m \u001b[32m━━━━━━━━━━━━━━━━━━━━\u001b[0m\u001b[37m\u001b[0m \u001b[1m1s\u001b[0m 3ms/step - accuracy: 0.5251 - loss: 1.3597 - val_accuracy: 0.8318 - val_loss: 0.7640 - learning_rate: 0.0010\n",
            "Epoch 32/1000\n",
            "\u001b[1m128/147\u001b[0m \u001b[32m━━━━━━━━━━━━━━━━━\u001b[0m\u001b[37m━━━\u001b[0m \u001b[1m0s\u001b[0m 2ms/step - accuracy: 0.5275 - loss: 1.3651\n",
            "Epoch 32: saving model to model/keypoint_classifier/keypoint_classifier_updated.keras\n",
            "\u001b[1m147/147\u001b[0m \u001b[32m━━━━━━━━━━━━━━━━━━━━\u001b[0m\u001b[37m\u001b[0m \u001b[1m1s\u001b[0m 3ms/step - accuracy: 0.5277 - loss: 1.3641 - val_accuracy: 0.8342 - val_loss: 0.7770 - learning_rate: 0.0010\n",
            "Epoch 33/1000\n",
            "\u001b[1m125/147\u001b[0m \u001b[32m━━━━━━━━━━━━━━━━━\u001b[0m\u001b[37m━━━\u001b[0m \u001b[1m0s\u001b[0m 2ms/step - accuracy: 0.5400 - loss: 1.3477\n",
            "Epoch 33: saving model to model/keypoint_classifier/keypoint_classifier_updated.keras\n",
            "\u001b[1m147/147\u001b[0m \u001b[32m━━━━━━━━━━━━━━━━━━━━\u001b[0m\u001b[37m\u001b[0m \u001b[1m1s\u001b[0m 4ms/step - accuracy: 0.5398 - loss: 1.3468 - val_accuracy: 0.8423 - val_loss: 0.7571 - learning_rate: 0.0010\n",
            "Epoch 34/1000\n",
            "\u001b[1m127/147\u001b[0m \u001b[32m━━━━━━━━━━━━━━━━━\u001b[0m\u001b[37m━━━\u001b[0m \u001b[1m0s\u001b[0m 2ms/step - accuracy: 0.5341 - loss: 1.3405\n",
            "Epoch 34: saving model to model/keypoint_classifier/keypoint_classifier_updated.keras\n",
            "\u001b[1m147/147\u001b[0m \u001b[32m━━━━━━━━━━━━━━━━━━━━\u001b[0m\u001b[37m\u001b[0m \u001b[1m1s\u001b[0m 3ms/step - accuracy: 0.5340 - loss: 1.3415 - val_accuracy: 0.8538 - val_loss: 0.7486 - learning_rate: 0.0010\n",
            "Epoch 35/1000\n",
            "\u001b[1m137/147\u001b[0m \u001b[32m━━━━━━━━━━━━━━━━━━\u001b[0m\u001b[37m━━\u001b[0m \u001b[1m0s\u001b[0m 2ms/step - accuracy: 0.5377 - loss: 1.3402\n",
            "Epoch 35: saving model to model/keypoint_classifier/keypoint_classifier_updated.keras\n",
            "\u001b[1m147/147\u001b[0m \u001b[32m━━━━━━━━━━━━━━━━━━━━\u001b[0m\u001b[37m\u001b[0m \u001b[1m1s\u001b[0m 4ms/step - accuracy: 0.5377 - loss: 1.3400 - val_accuracy: 0.8487 - val_loss: 0.7426 - learning_rate: 0.0010\n",
            "Epoch 36/1000\n",
            "\u001b[1m127/147\u001b[0m \u001b[32m━━━━━━━━━━━━━━━━━\u001b[0m\u001b[37m━━━\u001b[0m \u001b[1m0s\u001b[0m 2ms/step - accuracy: 0.5452 - loss: 1.3043\n",
            "Epoch 36: saving model to model/keypoint_classifier/keypoint_classifier_updated.keras\n",
            "\u001b[1m147/147\u001b[0m \u001b[32m━━━━━━━━━━━━━━━━━━━━\u001b[0m\u001b[37m\u001b[0m \u001b[1m1s\u001b[0m 4ms/step - accuracy: 0.5451 - loss: 1.3059 - val_accuracy: 0.8506 - val_loss: 0.7217 - learning_rate: 0.0010\n",
            "Epoch 37/1000\n",
            "\u001b[1m126/147\u001b[0m \u001b[32m━━━━━━━━━━━━━━━━━\u001b[0m\u001b[37m━━━\u001b[0m \u001b[1m0s\u001b[0m 2ms/step - accuracy: 0.5447 - loss: 1.3285\n",
            "Epoch 37: saving model to model/keypoint_classifier/keypoint_classifier_updated.keras\n",
            "\u001b[1m147/147\u001b[0m \u001b[32m━━━━━━━━━━━━━━━━━━━━\u001b[0m\u001b[37m\u001b[0m \u001b[1m1s\u001b[0m 4ms/step - accuracy: 0.5447 - loss: 1.3294 - val_accuracy: 0.8648 - val_loss: 0.7264 - learning_rate: 0.0010\n",
            "Epoch 38/1000\n",
            "\u001b[1m124/147\u001b[0m \u001b[32m━━━━━━━━━━━━━━━━\u001b[0m\u001b[37m━━━━\u001b[0m \u001b[1m0s\u001b[0m 2ms/step - accuracy: 0.5432 - loss: 1.3190\n",
            "Epoch 38: saving model to model/keypoint_classifier/keypoint_classifier_updated.keras\n",
            "\u001b[1m147/147\u001b[0m \u001b[32m━━━━━━━━━━━━━━━━━━━━\u001b[0m\u001b[37m\u001b[0m \u001b[1m1s\u001b[0m 4ms/step - accuracy: 0.5441 - loss: 1.3167 - val_accuracy: 0.8732 - val_loss: 0.7108 - learning_rate: 0.0010\n",
            "Epoch 39/1000\n",
            "\u001b[1m128/147\u001b[0m \u001b[32m━━━━━━━━━━━━━━━━━\u001b[0m\u001b[37m━━━\u001b[0m \u001b[1m0s\u001b[0m 2ms/step - accuracy: 0.5486 - loss: 1.3253\n",
            "Epoch 39: saving model to model/keypoint_classifier/keypoint_classifier_updated.keras\n",
            "\u001b[1m147/147\u001b[0m \u001b[32m━━━━━━━━━━━━━━━━━━━━\u001b[0m\u001b[37m\u001b[0m \u001b[1m1s\u001b[0m 4ms/step - accuracy: 0.5487 - loss: 1.3243 - val_accuracy: 0.8633 - val_loss: 0.6988 - learning_rate: 0.0010\n",
            "Epoch 40/1000\n",
            "\u001b[1m129/147\u001b[0m \u001b[32m━━━━━━━━━━━━━━━━━\u001b[0m\u001b[37m━━━\u001b[0m \u001b[1m0s\u001b[0m 2ms/step - accuracy: 0.5508 - loss: 1.3079\n",
            "Epoch 40: saving model to model/keypoint_classifier/keypoint_classifier_updated.keras\n",
            "\u001b[1m147/147\u001b[0m \u001b[32m━━━━━━━━━━━━━━━━━━━━\u001b[0m\u001b[37m\u001b[0m \u001b[1m1s\u001b[0m 3ms/step - accuracy: 0.5511 - loss: 1.3070 - val_accuracy: 0.8554 - val_loss: 0.7087 - learning_rate: 0.0010\n",
            "Epoch 41/1000\n",
            "\u001b[1m133/147\u001b[0m \u001b[32m━━━━━━━━━━━━━━━━━━\u001b[0m\u001b[37m━━\u001b[0m \u001b[1m0s\u001b[0m 2ms/step - accuracy: 0.5516 - loss: 1.3094\n",
            "Epoch 41: saving model to model/keypoint_classifier/keypoint_classifier_updated.keras\n",
            "\u001b[1m147/147\u001b[0m \u001b[32m━━━━━━━━━━━━━━━━━━━━\u001b[0m\u001b[37m\u001b[0m \u001b[1m1s\u001b[0m 3ms/step - accuracy: 0.5519 - loss: 1.3079 - val_accuracy: 0.8900 - val_loss: 0.6867 - learning_rate: 0.0010\n",
            "Epoch 42/1000\n",
            "\u001b[1m127/147\u001b[0m \u001b[32m━━━━━━━━━━━━━━━━━\u001b[0m\u001b[37m━━━\u001b[0m \u001b[1m0s\u001b[0m 2ms/step - accuracy: 0.5477 - loss: 1.2927\n",
            "Epoch 42: saving model to model/keypoint_classifier/keypoint_classifier_updated.keras\n",
            "\u001b[1m147/147\u001b[0m \u001b[32m━━━━━━━━━━━━━━━━━━━━\u001b[0m\u001b[37m\u001b[0m \u001b[1m1s\u001b[0m 4ms/step - accuracy: 0.5489 - loss: 1.2912 - val_accuracy: 0.8461 - val_loss: 0.6820 - learning_rate: 0.0010\n",
            "Epoch 43/1000\n",
            "\u001b[1m129/147\u001b[0m \u001b[32m━━━━━━━━━━━━━━━━━\u001b[0m\u001b[37m━━━\u001b[0m \u001b[1m0s\u001b[0m 2ms/step - accuracy: 0.5451 - loss: 1.3112\n",
            "Epoch 43: saving model to model/keypoint_classifier/keypoint_classifier_updated.keras\n",
            "\u001b[1m147/147\u001b[0m \u001b[32m━━━━━━━━━━━━━━━━━━━━\u001b[0m\u001b[37m\u001b[0m \u001b[1m1s\u001b[0m 4ms/step - accuracy: 0.5456 - loss: 1.3100 - val_accuracy: 0.8657 - val_loss: 0.6803 - learning_rate: 0.0010\n",
            "Epoch 44/1000\n",
            "\u001b[1m130/147\u001b[0m \u001b[32m━━━━━━━━━━━━━━━━━\u001b[0m\u001b[37m━━━\u001b[0m \u001b[1m0s\u001b[0m 2ms/step - accuracy: 0.5521 - loss: 1.3022\n",
            "Epoch 44: saving model to model/keypoint_classifier/keypoint_classifier_updated.keras\n",
            "\u001b[1m147/147\u001b[0m \u001b[32m━━━━━━━━━━━━━━━━━━━━\u001b[0m\u001b[37m\u001b[0m \u001b[1m1s\u001b[0m 3ms/step - accuracy: 0.5528 - loss: 1.3000 - val_accuracy: 0.8750 - val_loss: 0.6703 - learning_rate: 0.0010\n",
            "Epoch 45/1000\n",
            "\u001b[1m140/147\u001b[0m \u001b[32m━━━━━━━━━━━━━━━━━━━\u001b[0m\u001b[37m━\u001b[0m \u001b[1m0s\u001b[0m 2ms/step - accuracy: 0.5655 - loss: 1.2715\n",
            "Epoch 45: saving model to model/keypoint_classifier/keypoint_classifier_updated.keras\n",
            "\u001b[1m147/147\u001b[0m \u001b[32m━━━━━━━━━━━━━━━━━━━━\u001b[0m\u001b[37m\u001b[0m \u001b[1m1s\u001b[0m 3ms/step - accuracy: 0.5655 - loss: 1.2719 - val_accuracy: 0.8838 - val_loss: 0.6672 - learning_rate: 0.0010\n",
            "Epoch 46/1000\n",
            "\u001b[1m125/147\u001b[0m \u001b[32m━━━━━━━━━━━━━━━━━\u001b[0m\u001b[37m━━━\u001b[0m \u001b[1m0s\u001b[0m 2ms/step - accuracy: 0.5558 - loss: 1.2957\n",
            "Epoch 46: saving model to model/keypoint_classifier/keypoint_classifier_updated.keras\n",
            "\u001b[1m147/147\u001b[0m \u001b[32m━━━━━━━━━━━━━━━━━━━━\u001b[0m\u001b[37m\u001b[0m \u001b[1m1s\u001b[0m 3ms/step - accuracy: 0.5564 - loss: 1.2948 - val_accuracy: 0.8729 - val_loss: 0.6607 - learning_rate: 0.0010\n",
            "Epoch 47/1000\n",
            "\u001b[1m147/147\u001b[0m \u001b[32m━━━━━━━━━━━━━━━━━━━━\u001b[0m\u001b[37m\u001b[0m \u001b[1m0s\u001b[0m 2ms/step - accuracy: 0.5610 - loss: 1.2812\n",
            "Epoch 47: saving model to model/keypoint_classifier/keypoint_classifier_updated.keras\n",
            "\u001b[1m147/147\u001b[0m \u001b[32m━━━━━━━━━━━━━━━━━━━━\u001b[0m\u001b[37m\u001b[0m \u001b[1m1s\u001b[0m 4ms/step - accuracy: 0.5611 - loss: 1.2812 - val_accuracy: 0.8570 - val_loss: 0.6614 - learning_rate: 0.0010\n",
            "Epoch 48/1000\n",
            "\u001b[1m126/147\u001b[0m \u001b[32m━━━━━━━━━━━━━━━━━\u001b[0m\u001b[37m━━━\u001b[0m \u001b[1m0s\u001b[0m 2ms/step - accuracy: 0.5558 - loss: 1.2741\n",
            "Epoch 48: saving model to model/keypoint_classifier/keypoint_classifier_updated.keras\n",
            "\u001b[1m147/147\u001b[0m \u001b[32m━━━━━━━━━━━━━━━━━━━━\u001b[0m\u001b[37m\u001b[0m \u001b[1m1s\u001b[0m 4ms/step - accuracy: 0.5570 - loss: 1.2741 - val_accuracy: 0.8779 - val_loss: 0.6530 - learning_rate: 0.0010\n",
            "Epoch 49/1000\n",
            "\u001b[1m132/147\u001b[0m \u001b[32m━━━━━━━━━━━━━━━━━\u001b[0m\u001b[37m━━━\u001b[0m \u001b[1m0s\u001b[0m 2ms/step - accuracy: 0.5718 - loss: 1.2489\n",
            "Epoch 49: saving model to model/keypoint_classifier/keypoint_classifier_updated.keras\n",
            "\u001b[1m147/147\u001b[0m \u001b[32m━━━━━━━━━━━━━━━━━━━━\u001b[0m\u001b[37m\u001b[0m \u001b[1m1s\u001b[0m 4ms/step - accuracy: 0.5711 - loss: 1.2505 - val_accuracy: 0.8825 - val_loss: 0.6514 - learning_rate: 0.0010\n",
            "Epoch 50/1000\n",
            "\u001b[1m128/147\u001b[0m \u001b[32m━━━━━━━━━━━━━━━━━\u001b[0m\u001b[37m━━━\u001b[0m \u001b[1m0s\u001b[0m 2ms/step - accuracy: 0.5676 - loss: 1.2668\n",
            "Epoch 50: saving model to model/keypoint_classifier/keypoint_classifier_updated.keras\n",
            "\u001b[1m147/147\u001b[0m \u001b[32m━━━━━━━━━━━━━━━━━━━━\u001b[0m\u001b[37m\u001b[0m \u001b[1m1s\u001b[0m 4ms/step - accuracy: 0.5680 - loss: 1.2653 - val_accuracy: 0.8713 - val_loss: 0.6526 - learning_rate: 0.0010\n",
            "Epoch 51/1000\n",
            "\u001b[1m127/147\u001b[0m \u001b[32m━━━━━━━━━━━━━━━━━\u001b[0m\u001b[37m━━━\u001b[0m \u001b[1m0s\u001b[0m 2ms/step - accuracy: 0.5705 - loss: 1.2479\n",
            "Epoch 51: saving model to model/keypoint_classifier/keypoint_classifier_updated.keras\n",
            "\u001b[1m147/147\u001b[0m \u001b[32m━━━━━━━━━━━━━━━━━━━━\u001b[0m\u001b[37m\u001b[0m \u001b[1m1s\u001b[0m 3ms/step - accuracy: 0.5707 - loss: 1.2479 - val_accuracy: 0.8817 - val_loss: 0.6386 - learning_rate: 0.0010\n",
            "Epoch 52/1000\n",
            "\u001b[1m144/147\u001b[0m \u001b[32m━━━━━━━━━━━━━━━━━━━\u001b[0m\u001b[37m━\u001b[0m \u001b[1m0s\u001b[0m 2ms/step - accuracy: 0.5757 - loss: 1.2552\n",
            "Epoch 52: saving model to model/keypoint_classifier/keypoint_classifier_updated.keras\n",
            "\u001b[1m147/147\u001b[0m \u001b[32m━━━━━━━━━━━━━━━━━━━━\u001b[0m\u001b[37m\u001b[0m \u001b[1m1s\u001b[0m 4ms/step - accuracy: 0.5757 - loss: 1.2554 - val_accuracy: 0.8617 - val_loss: 0.6362 - learning_rate: 0.0010\n",
            "Epoch 53/1000\n",
            "\u001b[1m138/147\u001b[0m \u001b[32m━━━━━━━━━━━━━━━━━━\u001b[0m\u001b[37m━━\u001b[0m \u001b[1m0s\u001b[0m 2ms/step - accuracy: 0.5713 - loss: 1.2574\n",
            "Epoch 53: saving model to model/keypoint_classifier/keypoint_classifier_updated.keras\n",
            "\u001b[1m147/147\u001b[0m \u001b[32m━━━━━━━━━━━━━━━━━━━━\u001b[0m\u001b[37m\u001b[0m \u001b[1m1s\u001b[0m 3ms/step - accuracy: 0.5714 - loss: 1.2570 - val_accuracy: 0.8798 - val_loss: 0.6296 - learning_rate: 0.0010\n",
            "Epoch 54/1000\n",
            "\u001b[1m129/147\u001b[0m \u001b[32m━━━━━━━━━━━━━━━━━\u001b[0m\u001b[37m━━━\u001b[0m \u001b[1m0s\u001b[0m 2ms/step - accuracy: 0.5726 - loss: 1.2578\n",
            "Epoch 54: saving model to model/keypoint_classifier/keypoint_classifier_updated.keras\n",
            "\u001b[1m147/147\u001b[0m \u001b[32m━━━━━━━━━━━━━━━━━━━━\u001b[0m\u001b[37m\u001b[0m \u001b[1m1s\u001b[0m 3ms/step - accuracy: 0.5729 - loss: 1.2568 - val_accuracy: 0.8750 - val_loss: 0.6378 - learning_rate: 0.0010\n",
            "Epoch 55/1000\n",
            "\u001b[1m146/147\u001b[0m \u001b[32m━━━━━━━━━━━━━━━━━━━\u001b[0m\u001b[37m━\u001b[0m \u001b[1m0s\u001b[0m 2ms/step - accuracy: 0.5722 - loss: 1.2503\n",
            "Epoch 55: saving model to model/keypoint_classifier/keypoint_classifier_updated.keras\n",
            "\u001b[1m147/147\u001b[0m \u001b[32m━━━━━━━━━━━━━━━━━━━━\u001b[0m\u001b[37m\u001b[0m \u001b[1m1s\u001b[0m 4ms/step - accuracy: 0.5722 - loss: 1.2504 - val_accuracy: 0.8850 - val_loss: 0.6166 - learning_rate: 0.0010\n",
            "Epoch 56/1000\n",
            "\u001b[1m125/147\u001b[0m \u001b[32m━━━━━━━━━━━━━━━━━\u001b[0m\u001b[37m━━━\u001b[0m \u001b[1m0s\u001b[0m 2ms/step - accuracy: 0.5751 - loss: 1.2367\n",
            "Epoch 56: saving model to model/keypoint_classifier/keypoint_classifier_updated.keras\n",
            "\u001b[1m147/147\u001b[0m \u001b[32m━━━━━━━━━━━━━━━━━━━━\u001b[0m\u001b[37m\u001b[0m \u001b[1m1s\u001b[0m 4ms/step - accuracy: 0.5754 - loss: 1.2352 - val_accuracy: 0.8691 - val_loss: 0.6219 - learning_rate: 0.0010\n",
            "Epoch 57/1000\n",
            "\u001b[1m123/147\u001b[0m \u001b[32m━━━━━━━━━━━━━━━━\u001b[0m\u001b[37m━━━━\u001b[0m \u001b[1m0s\u001b[0m 2ms/step - accuracy: 0.5790 - loss: 1.2355\n",
            "Epoch 57: saving model to model/keypoint_classifier/keypoint_classifier_updated.keras\n",
            "\u001b[1m147/147\u001b[0m \u001b[32m━━━━━━━━━━━━━━━━━━━━\u001b[0m\u001b[37m\u001b[0m \u001b[1m1s\u001b[0m 4ms/step - accuracy: 0.5785 - loss: 1.2363 - val_accuracy: 0.8852 - val_loss: 0.6179 - learning_rate: 0.0010\n",
            "Epoch 58/1000\n",
            "\u001b[1m130/147\u001b[0m \u001b[32m━━━━━━━━━━━━━━━━━\u001b[0m\u001b[37m━━━\u001b[0m \u001b[1m0s\u001b[0m 2ms/step - accuracy: 0.5766 - loss: 1.2366\n",
            "Epoch 58: saving model to model/keypoint_classifier/keypoint_classifier_updated.keras\n",
            "\u001b[1m147/147\u001b[0m \u001b[32m━━━━━━━━━━━━━━━━━━━━\u001b[0m\u001b[37m\u001b[0m \u001b[1m1s\u001b[0m 3ms/step - accuracy: 0.5761 - loss: 1.2377 - val_accuracy: 0.8718 - val_loss: 0.6139 - learning_rate: 0.0010\n",
            "Epoch 59/1000\n",
            "\u001b[1m123/147\u001b[0m \u001b[32m━━━━━━━━━━━━━━━━\u001b[0m\u001b[37m━━━━\u001b[0m \u001b[1m0s\u001b[0m 2ms/step - accuracy: 0.5791 - loss: 1.2371\n",
            "Epoch 59: saving model to model/keypoint_classifier/keypoint_classifier_updated.keras\n",
            "\u001b[1m147/147\u001b[0m \u001b[32m━━━━━━━━━━━━━━━━━━━━\u001b[0m\u001b[37m\u001b[0m \u001b[1m1s\u001b[0m 4ms/step - accuracy: 0.5792 - loss: 1.2361 - val_accuracy: 0.9013 - val_loss: 0.6040 - learning_rate: 0.0010\n",
            "Epoch 60/1000\n",
            "\u001b[1m136/147\u001b[0m \u001b[32m━━━━━━━━━━━━━━━━━━\u001b[0m\u001b[37m━━\u001b[0m \u001b[1m0s\u001b[0m 2ms/step - accuracy: 0.5886 - loss: 1.2202\n",
            "Epoch 60: saving model to model/keypoint_classifier/keypoint_classifier_updated.keras\n",
            "\u001b[1m147/147\u001b[0m \u001b[32m━━━━━━━━━━━━━━━━━━━━\u001b[0m\u001b[37m\u001b[0m \u001b[1m1s\u001b[0m 3ms/step - accuracy: 0.5882 - loss: 1.2210 - val_accuracy: 0.8897 - val_loss: 0.6045 - learning_rate: 0.0010\n",
            "Epoch 61/1000\n",
            "\u001b[1m125/147\u001b[0m \u001b[32m━━━━━━━━━━━━━━━━━\u001b[0m\u001b[37m━━━\u001b[0m \u001b[1m0s\u001b[0m 2ms/step - accuracy: 0.5869 - loss: 1.2231\n",
            "Epoch 61: saving model to model/keypoint_classifier/keypoint_classifier_updated.keras\n",
            "\u001b[1m147/147\u001b[0m \u001b[32m━━━━━━━━━━━━━━━━━━━━\u001b[0m\u001b[37m\u001b[0m \u001b[1m1s\u001b[0m 3ms/step - accuracy: 0.5864 - loss: 1.2236 - val_accuracy: 0.8793 - val_loss: 0.6113 - learning_rate: 0.0010\n",
            "Epoch 62/1000\n",
            "\u001b[1m133/147\u001b[0m \u001b[32m━━━━━━━━━━━━━━━━━━\u001b[0m\u001b[37m━━\u001b[0m \u001b[1m0s\u001b[0m 2ms/step - accuracy: 0.5814 - loss: 1.2319\n",
            "Epoch 62: saving model to model/keypoint_classifier/keypoint_classifier_updated.keras\n",
            "\u001b[1m147/147\u001b[0m \u001b[32m━━━━━━━━━━━━━━━━━━━━\u001b[0m\u001b[37m\u001b[0m \u001b[1m1s\u001b[0m 3ms/step - accuracy: 0.5809 - loss: 1.2325 - val_accuracy: 0.8716 - val_loss: 0.6186 - learning_rate: 0.0010\n",
            "Epoch 63/1000\n",
            "\u001b[1m138/147\u001b[0m \u001b[32m━━━━━━━━━━━━━━━━━━\u001b[0m\u001b[37m━━\u001b[0m \u001b[1m0s\u001b[0m 2ms/step - accuracy: 0.5800 - loss: 1.2364\n",
            "Epoch 63: saving model to model/keypoint_classifier/keypoint_classifier_updated.keras\n",
            "\u001b[1m147/147\u001b[0m \u001b[32m━━━━━━━━━━━━━━━━━━━━\u001b[0m\u001b[37m\u001b[0m \u001b[1m1s\u001b[0m 3ms/step - accuracy: 0.5799 - loss: 1.2361 - val_accuracy: 0.8952 - val_loss: 0.5970 - learning_rate: 0.0010\n",
            "Epoch 64/1000\n",
            "\u001b[1m125/147\u001b[0m \u001b[32m━━━━━━━━━━━━━━━━━\u001b[0m\u001b[37m━━━\u001b[0m \u001b[1m0s\u001b[0m 2ms/step - accuracy: 0.5837 - loss: 1.2263\n",
            "Epoch 64: saving model to model/keypoint_classifier/keypoint_classifier_updated.keras\n",
            "\u001b[1m147/147\u001b[0m \u001b[32m━━━━━━━━━━━━━━━━━━━━\u001b[0m\u001b[37m\u001b[0m \u001b[1m1s\u001b[0m 4ms/step - accuracy: 0.5840 - loss: 1.2256 - val_accuracy: 0.8788 - val_loss: 0.5922 - learning_rate: 0.0010\n",
            "Epoch 65/1000\n",
            "\u001b[1m141/147\u001b[0m \u001b[32m━━━━━━━━━━━━━━━━━━━\u001b[0m\u001b[37m━\u001b[0m \u001b[1m0s\u001b[0m 2ms/step - accuracy: 0.5786 - loss: 1.2421\n",
            "Epoch 65: saving model to model/keypoint_classifier/keypoint_classifier_updated.keras\n",
            "\u001b[1m147/147\u001b[0m \u001b[32m━━━━━━━━━━━━━━━━━━━━\u001b[0m\u001b[37m\u001b[0m \u001b[1m1s\u001b[0m 4ms/step - accuracy: 0.5789 - loss: 1.2414 - val_accuracy: 0.8538 - val_loss: 0.6122 - learning_rate: 0.0010\n",
            "Epoch 66/1000\n",
            "\u001b[1m147/147\u001b[0m \u001b[32m━━━━━━━━━━━━━━━━━━━━\u001b[0m\u001b[37m\u001b[0m \u001b[1m0s\u001b[0m 2ms/step - accuracy: 0.5762 - loss: 1.2373\n",
            "Epoch 66: saving model to model/keypoint_classifier/keypoint_classifier_updated.keras\n",
            "\u001b[1m147/147\u001b[0m \u001b[32m━━━━━━━━━━━━━━━━━━━━\u001b[0m\u001b[37m\u001b[0m \u001b[1m1s\u001b[0m 4ms/step - accuracy: 0.5763 - loss: 1.2372 - val_accuracy: 0.8750 - val_loss: 0.5971 - learning_rate: 0.0010\n",
            "Epoch 67/1000\n",
            "\u001b[1m122/147\u001b[0m \u001b[32m━━━━━━━━━━━━━━━━\u001b[0m\u001b[37m━━━━\u001b[0m \u001b[1m0s\u001b[0m 2ms/step - accuracy: 0.5902 - loss: 1.2216\n",
            "Epoch 67: saving model to model/keypoint_classifier/keypoint_classifier_updated.keras\n",
            "\u001b[1m147/147\u001b[0m \u001b[32m━━━━━━━━━━━━━━━━━━━━\u001b[0m\u001b[37m\u001b[0m \u001b[1m1s\u001b[0m 4ms/step - accuracy: 0.5891 - loss: 1.2220 - val_accuracy: 0.8584 - val_loss: 0.6021 - learning_rate: 0.0010\n",
            "Epoch 68/1000\n",
            "\u001b[1m147/147\u001b[0m \u001b[32m━━━━━━━━━━━━━━━━━━━━\u001b[0m\u001b[37m\u001b[0m \u001b[1m0s\u001b[0m 2ms/step - accuracy: 0.5887 - loss: 1.1958\n",
            "Epoch 68: saving model to model/keypoint_classifier/keypoint_classifier_updated.keras\n",
            "\u001b[1m147/147\u001b[0m \u001b[32m━━━━━━━━━━━━━━━━━━━━\u001b[0m\u001b[37m\u001b[0m \u001b[1m1s\u001b[0m 4ms/step - accuracy: 0.5887 - loss: 1.1959 - val_accuracy: 0.8820 - val_loss: 0.5942 - learning_rate: 0.0010\n",
            "Epoch 69/1000\n",
            "\u001b[1m125/147\u001b[0m \u001b[32m━━━━━━━━━━━━━━━━━\u001b[0m\u001b[37m━━━\u001b[0m \u001b[1m0s\u001b[0m 2ms/step - accuracy: 0.5855 - loss: 1.2241\n",
            "Epoch 69: saving model to model/keypoint_classifier/keypoint_classifier_updated.keras\n",
            "\n",
            "Epoch 69: ReduceLROnPlateau reducing learning rate to 0.0005000000237487257.\n",
            "\u001b[1m147/147\u001b[0m \u001b[32m━━━━━━━━━━━━━━━━━━━━\u001b[0m\u001b[37m\u001b[0m \u001b[1m1s\u001b[0m 3ms/step - accuracy: 0.5854 - loss: 1.2245 - val_accuracy: 0.8705 - val_loss: 0.5989 - learning_rate: 0.0010\n",
            "Epoch 70/1000\n",
            "\u001b[1m144/147\u001b[0m \u001b[32m━━━━━━━━━━━━━━━━━━━\u001b[0m\u001b[37m━\u001b[0m \u001b[1m0s\u001b[0m 2ms/step - accuracy: 0.5951 - loss: 1.1923\n",
            "Epoch 70: saving model to model/keypoint_classifier/keypoint_classifier_updated.keras\n",
            "\u001b[1m147/147\u001b[0m \u001b[32m━━━━━━━━━━━━━━━━━━━━\u001b[0m\u001b[37m\u001b[0m \u001b[1m1s\u001b[0m 4ms/step - accuracy: 0.5951 - loss: 1.1925 - val_accuracy: 0.8814 - val_loss: 0.5843 - learning_rate: 5.0000e-04\n",
            "Epoch 71/1000\n",
            "\u001b[1m126/147\u001b[0m \u001b[32m━━━━━━━━━━━━━━━━━\u001b[0m\u001b[37m━━━\u001b[0m \u001b[1m0s\u001b[0m 2ms/step - accuracy: 0.5900 - loss: 1.2237\n",
            "Epoch 71: saving model to model/keypoint_classifier/keypoint_classifier_updated.keras\n",
            "\u001b[1m147/147\u001b[0m \u001b[32m━━━━━━━━━━━━━━━━━━━━\u001b[0m\u001b[37m\u001b[0m \u001b[1m1s\u001b[0m 3ms/step - accuracy: 0.5898 - loss: 1.2231 - val_accuracy: 0.8755 - val_loss: 0.5861 - learning_rate: 5.0000e-04\n",
            "Epoch 72/1000\n",
            "\u001b[1m147/147\u001b[0m \u001b[32m━━━━━━━━━━━━━━━━━━━━\u001b[0m\u001b[37m\u001b[0m \u001b[1m0s\u001b[0m 2ms/step - accuracy: 0.5947 - loss: 1.1917\n",
            "Epoch 72: saving model to model/keypoint_classifier/keypoint_classifier_updated.keras\n",
            "\u001b[1m147/147\u001b[0m \u001b[32m━━━━━━━━━━━━━━━━━━━━\u001b[0m\u001b[37m\u001b[0m \u001b[1m1s\u001b[0m 4ms/step - accuracy: 0.5947 - loss: 1.1918 - val_accuracy: 0.8798 - val_loss: 0.5843 - learning_rate: 5.0000e-04\n",
            "Epoch 73/1000\n",
            "\u001b[1m141/147\u001b[0m \u001b[32m━━━━━━━━━━━━━━━━━━━\u001b[0m\u001b[37m━\u001b[0m \u001b[1m0s\u001b[0m 2ms/step - accuracy: 0.5866 - loss: 1.2061\n",
            "Epoch 73: saving model to model/keypoint_classifier/keypoint_classifier_updated.keras\n",
            "\u001b[1m147/147\u001b[0m \u001b[32m━━━━━━━━━━━━━━━━━━━━\u001b[0m\u001b[37m\u001b[0m \u001b[1m1s\u001b[0m 4ms/step - accuracy: 0.5869 - loss: 1.2058 - val_accuracy: 0.8963 - val_loss: 0.5821 - learning_rate: 5.0000e-04\n",
            "Epoch 74/1000\n",
            "\u001b[1m145/147\u001b[0m \u001b[32m━━━━━━━━━━━━━━━━━━━\u001b[0m\u001b[37m━\u001b[0m \u001b[1m0s\u001b[0m 2ms/step - accuracy: 0.5886 - loss: 1.1974\n",
            "Epoch 74: saving model to model/keypoint_classifier/keypoint_classifier_updated.keras\n",
            "\u001b[1m147/147\u001b[0m \u001b[32m━━━━━━━━━━━━━━━━━━━━\u001b[0m\u001b[37m\u001b[0m \u001b[1m1s\u001b[0m 4ms/step - accuracy: 0.5886 - loss: 1.1974 - val_accuracy: 0.8708 - val_loss: 0.5825 - learning_rate: 5.0000e-04\n",
            "Epoch 75/1000\n",
            "\u001b[1m125/147\u001b[0m \u001b[32m━━━━━━━━━━━━━━━━━\u001b[0m\u001b[37m━━━\u001b[0m \u001b[1m0s\u001b[0m 2ms/step - accuracy: 0.5908 - loss: 1.2014\n",
            "Epoch 75: saving model to model/keypoint_classifier/keypoint_classifier_updated.keras\n",
            "\u001b[1m147/147\u001b[0m \u001b[32m━━━━━━━━━━━━━━━━━━━━\u001b[0m\u001b[37m\u001b[0m \u001b[1m1s\u001b[0m 4ms/step - accuracy: 0.5907 - loss: 1.2018 - val_accuracy: 0.8656 - val_loss: 0.5973 - learning_rate: 5.0000e-04\n",
            "Epoch 76/1000\n",
            "\u001b[1m123/147\u001b[0m \u001b[32m━━━━━━━━━━━━━━━━\u001b[0m\u001b[37m━━━━\u001b[0m \u001b[1m0s\u001b[0m 2ms/step - accuracy: 0.5952 - loss: 1.1977\n",
            "Epoch 76: saving model to model/keypoint_classifier/keypoint_classifier_updated.keras\n",
            "\u001b[1m147/147\u001b[0m \u001b[32m━━━━━━━━━━━━━━━━━━━━\u001b[0m\u001b[37m\u001b[0m \u001b[1m1s\u001b[0m 4ms/step - accuracy: 0.5947 - loss: 1.1974 - val_accuracy: 0.8783 - val_loss: 0.5920 - learning_rate: 5.0000e-04\n",
            "Epoch 77/1000\n",
            "\u001b[1m147/147\u001b[0m \u001b[32m━━━━━━━━━━━━━━━━━━━━\u001b[0m\u001b[37m\u001b[0m \u001b[1m0s\u001b[0m 2ms/step - accuracy: 0.5966 - loss: 1.2028\n",
            "Epoch 77: saving model to model/keypoint_classifier/keypoint_classifier_updated.keras\n",
            "\u001b[1m147/147\u001b[0m \u001b[32m━━━━━━━━━━━━━━━━━━━━\u001b[0m\u001b[37m\u001b[0m \u001b[1m1s\u001b[0m 4ms/step - accuracy: 0.5966 - loss: 1.2028 - val_accuracy: 0.8831 - val_loss: 0.5869 - learning_rate: 5.0000e-04\n",
            "Epoch 78/1000\n",
            "\u001b[1m143/147\u001b[0m \u001b[32m━━━━━━━━━━━━━━━━━━━\u001b[0m\u001b[37m━\u001b[0m \u001b[1m0s\u001b[0m 2ms/step - accuracy: 0.5961 - loss: 1.2046\n",
            "Epoch 78: saving model to model/keypoint_classifier/keypoint_classifier_updated.keras\n",
            "\n",
            "Epoch 78: ReduceLROnPlateau reducing learning rate to 0.0002500000118743628.\n",
            "\u001b[1m147/147\u001b[0m \u001b[32m━━━━━━━━━━━━━━━━━━━━\u001b[0m\u001b[37m\u001b[0m \u001b[1m1s\u001b[0m 4ms/step - accuracy: 0.5961 - loss: 1.2047 - val_accuracy: 0.8718 - val_loss: 0.5832 - learning_rate: 5.0000e-04\n",
            "Epoch 79/1000\n",
            "\u001b[1m136/147\u001b[0m \u001b[32m━━━━━━━━━━━━━━━━━━\u001b[0m\u001b[37m━━\u001b[0m \u001b[1m0s\u001b[0m 2ms/step - accuracy: 0.5890 - loss: 1.1973\n",
            "Epoch 79: saving model to model/keypoint_classifier/keypoint_classifier_updated.keras\n",
            "\u001b[1m147/147\u001b[0m \u001b[32m━━━━━━━━━━━━━━━━━━━━\u001b[0m\u001b[37m\u001b[0m \u001b[1m1s\u001b[0m 4ms/step - accuracy: 0.5894 - loss: 1.1971 - val_accuracy: 0.8815 - val_loss: 0.5829 - learning_rate: 2.5000e-04\n",
            "Epoch 80/1000\n",
            "\u001b[1m128/147\u001b[0m \u001b[32m━━━━━━━━━━━━━━━━━\u001b[0m\u001b[37m━━━\u001b[0m \u001b[1m0s\u001b[0m 2ms/step - accuracy: 0.5993 - loss: 1.1799\n",
            "Epoch 80: saving model to model/keypoint_classifier/keypoint_classifier_updated.keras\n",
            "\u001b[1m147/147\u001b[0m \u001b[32m━━━━━━━━━━━━━━━━━━━━\u001b[0m\u001b[37m\u001b[0m \u001b[1m1s\u001b[0m 3ms/step - accuracy: 0.5990 - loss: 1.1812 - val_accuracy: 0.8853 - val_loss: 0.5800 - learning_rate: 2.5000e-04\n",
            "Epoch 81/1000\n",
            "\u001b[1m128/147\u001b[0m \u001b[32m━━━━━━━━━━━━━━━━━\u001b[0m\u001b[37m━━━\u001b[0m \u001b[1m0s\u001b[0m 2ms/step - accuracy: 0.5994 - loss: 1.1741\n",
            "Epoch 81: saving model to model/keypoint_classifier/keypoint_classifier_updated.keras\n",
            "\u001b[1m147/147\u001b[0m \u001b[32m━━━━━━━━━━━━━━━━━━━━\u001b[0m\u001b[37m\u001b[0m \u001b[1m1s\u001b[0m 3ms/step - accuracy: 0.5987 - loss: 1.1754 - val_accuracy: 0.8761 - val_loss: 0.5825 - learning_rate: 2.5000e-04\n",
            "Epoch 82/1000\n",
            "\u001b[1m145/147\u001b[0m \u001b[32m━━━━━━━━━━━━━━━━━━━\u001b[0m\u001b[37m━\u001b[0m \u001b[1m0s\u001b[0m 2ms/step - accuracy: 0.5954 - loss: 1.1970\n",
            "Epoch 82: saving model to model/keypoint_classifier/keypoint_classifier_updated.keras\n",
            "\u001b[1m147/147\u001b[0m \u001b[32m━━━━━━━━━━━━━━━━━━━━\u001b[0m\u001b[37m\u001b[0m \u001b[1m1s\u001b[0m 4ms/step - accuracy: 0.5953 - loss: 1.1971 - val_accuracy: 0.8834 - val_loss: 0.5839 - learning_rate: 2.5000e-04\n",
            "Epoch 83/1000\n",
            "\u001b[1m134/147\u001b[0m \u001b[32m━━━━━━━━━━━━━━━━━━\u001b[0m\u001b[37m━━\u001b[0m \u001b[1m0s\u001b[0m 2ms/step - accuracy: 0.5930 - loss: 1.1953\n",
            "Epoch 83: saving model to model/keypoint_classifier/keypoint_classifier_updated.keras\n",
            "\u001b[1m147/147\u001b[0m \u001b[32m━━━━━━━━━━━━━━━━━━━━\u001b[0m\u001b[37m\u001b[0m \u001b[1m1s\u001b[0m 3ms/step - accuracy: 0.5928 - loss: 1.1957 - val_accuracy: 0.8828 - val_loss: 0.5825 - learning_rate: 2.5000e-04\n",
            "Epoch 84/1000\n",
            "\u001b[1m147/147\u001b[0m \u001b[32m━━━━━━━━━━━━━━━━━━━━\u001b[0m\u001b[37m\u001b[0m \u001b[1m0s\u001b[0m 2ms/step - accuracy: 0.5880 - loss: 1.2078\n",
            "Epoch 84: saving model to model/keypoint_classifier/keypoint_classifier_updated.keras\n",
            "\u001b[1m147/147\u001b[0m \u001b[32m━━━━━━━━━━━━━━━━━━━━\u001b[0m\u001b[37m\u001b[0m \u001b[1m1s\u001b[0m 4ms/step - accuracy: 0.5880 - loss: 1.2077 - val_accuracy: 0.8791 - val_loss: 0.5720 - learning_rate: 2.5000e-04\n",
            "Epoch 85/1000\n",
            "\u001b[1m144/147\u001b[0m \u001b[32m━━━━━━━━━━━━━━━━━━━\u001b[0m\u001b[37m━\u001b[0m \u001b[1m0s\u001b[0m 2ms/step - accuracy: 0.5965 - loss: 1.2014\n",
            "Epoch 85: saving model to model/keypoint_classifier/keypoint_classifier_updated.keras\n",
            "\u001b[1m147/147\u001b[0m \u001b[32m━━━━━━━━━━━━━━━━━━━━\u001b[0m\u001b[37m\u001b[0m \u001b[1m1s\u001b[0m 4ms/step - accuracy: 0.5965 - loss: 1.2013 - val_accuracy: 0.8763 - val_loss: 0.5784 - learning_rate: 2.5000e-04\n",
            "Epoch 86/1000\n",
            "\u001b[1m146/147\u001b[0m \u001b[32m━━━━━━━━━━━━━━━━━━━\u001b[0m\u001b[37m━\u001b[0m \u001b[1m0s\u001b[0m 2ms/step - accuracy: 0.5956 - loss: 1.1943\n",
            "Epoch 86: saving model to model/keypoint_classifier/keypoint_classifier_updated.keras\n",
            "\u001b[1m147/147\u001b[0m \u001b[32m━━━━━━━━━━━━━━━━━━━━\u001b[0m\u001b[37m\u001b[0m \u001b[1m1s\u001b[0m 4ms/step - accuracy: 0.5956 - loss: 1.1942 - val_accuracy: 0.8798 - val_loss: 0.5758 - learning_rate: 2.5000e-04\n",
            "Epoch 87/1000\n",
            "\u001b[1m146/147\u001b[0m \u001b[32m━━━━━━━━━━━━━━━━━━━\u001b[0m\u001b[37m━\u001b[0m \u001b[1m0s\u001b[0m 2ms/step - accuracy: 0.5857 - loss: 1.2019\n",
            "Epoch 87: saving model to model/keypoint_classifier/keypoint_classifier_updated.keras\n",
            "\u001b[1m147/147\u001b[0m \u001b[32m━━━━━━━━━━━━━━━━━━━━\u001b[0m\u001b[37m\u001b[0m \u001b[1m1s\u001b[0m 4ms/step - accuracy: 0.5857 - loss: 1.2019 - val_accuracy: 0.8849 - val_loss: 0.5860 - learning_rate: 2.5000e-04\n",
            "Epoch 88/1000\n",
            "\u001b[1m125/147\u001b[0m \u001b[32m━━━━━━━━━━━━━━━━━\u001b[0m\u001b[37m━━━\u001b[0m \u001b[1m0s\u001b[0m 2ms/step - accuracy: 0.5934 - loss: 1.1959\n",
            "Epoch 88: saving model to model/keypoint_classifier/keypoint_classifier_updated.keras\n",
            "\u001b[1m147/147\u001b[0m \u001b[32m━━━━━━━━━━━━━━━━━━━━\u001b[0m\u001b[37m\u001b[0m \u001b[1m1s\u001b[0m 4ms/step - accuracy: 0.5938 - loss: 1.1940 - val_accuracy: 0.8868 - val_loss: 0.5809 - learning_rate: 2.5000e-04\n",
            "Epoch 89/1000\n",
            "\u001b[1m145/147\u001b[0m \u001b[32m━━━━━━━━━━━━━━━━━━━\u001b[0m\u001b[37m━\u001b[0m \u001b[1m0s\u001b[0m 2ms/step - accuracy: 0.5926 - loss: 1.2070\n",
            "Epoch 89: saving model to model/keypoint_classifier/keypoint_classifier_updated.keras\n",
            "\n",
            "Epoch 89: ReduceLROnPlateau reducing learning rate to 0.0001250000059371814.\n",
            "\u001b[1m147/147\u001b[0m \u001b[32m━━━━━━━━━━━━━━━━━━━━\u001b[0m\u001b[37m\u001b[0m \u001b[1m1s\u001b[0m 4ms/step - accuracy: 0.5925 - loss: 1.2069 - val_accuracy: 0.8804 - val_loss: 0.5800 - learning_rate: 2.5000e-04\n",
            "Epoch 90/1000\n",
            "\u001b[1m123/147\u001b[0m \u001b[32m━━━━━━━━━━━━━━━━\u001b[0m\u001b[37m━━━━\u001b[0m \u001b[1m0s\u001b[0m 2ms/step - accuracy: 0.6070 - loss: 1.1721\n",
            "Epoch 90: saving model to model/keypoint_classifier/keypoint_classifier_updated.keras\n",
            "\u001b[1m147/147\u001b[0m \u001b[32m━━━━━━━━━━━━━━━━━━━━\u001b[0m\u001b[37m\u001b[0m \u001b[1m1s\u001b[0m 4ms/step - accuracy: 0.6055 - loss: 1.1766 - val_accuracy: 0.8841 - val_loss: 0.5819 - learning_rate: 1.2500e-04\n",
            "Epoch 91/1000\n",
            "\u001b[1m147/147\u001b[0m \u001b[32m━━━━━━━━━━━━━━━━━━━━\u001b[0m\u001b[37m\u001b[0m \u001b[1m0s\u001b[0m 2ms/step - accuracy: 0.5989 - loss: 1.1813\n",
            "Epoch 91: saving model to model/keypoint_classifier/keypoint_classifier_updated.keras\n",
            "\u001b[1m147/147\u001b[0m \u001b[32m━━━━━━━━━━━━━━━━━━━━\u001b[0m\u001b[37m\u001b[0m \u001b[1m1s\u001b[0m 4ms/step - accuracy: 0.5989 - loss: 1.1813 - val_accuracy: 0.8786 - val_loss: 0.5806 - learning_rate: 1.2500e-04\n",
            "Epoch 92/1000\n",
            "\u001b[1m129/147\u001b[0m \u001b[32m━━━━━━━━━━━━━━━━━\u001b[0m\u001b[37m━━━\u001b[0m \u001b[1m0s\u001b[0m 2ms/step - accuracy: 0.5869 - loss: 1.1984\n",
            "Epoch 92: saving model to model/keypoint_classifier/keypoint_classifier_updated.keras\n",
            "\u001b[1m147/147\u001b[0m \u001b[32m━━━━━━━━━━━━━━━━━━━━\u001b[0m\u001b[37m\u001b[0m \u001b[1m1s\u001b[0m 3ms/step - accuracy: 0.5877 - loss: 1.1977 - val_accuracy: 0.8820 - val_loss: 0.5790 - learning_rate: 1.2500e-04\n",
            "Epoch 93/1000\n",
            "\u001b[1m126/147\u001b[0m \u001b[32m━━━━━━━━━━━━━━━━━\u001b[0m\u001b[37m━━━\u001b[0m \u001b[1m0s\u001b[0m 2ms/step - accuracy: 0.5994 - loss: 1.1857\n",
            "Epoch 93: saving model to model/keypoint_classifier/keypoint_classifier_updated.keras\n",
            "\u001b[1m147/147\u001b[0m \u001b[32m━━━━━━━━━━━━━━━━━━━━\u001b[0m\u001b[37m\u001b[0m \u001b[1m1s\u001b[0m 3ms/step - accuracy: 0.5985 - loss: 1.1877 - val_accuracy: 0.8853 - val_loss: 0.5821 - learning_rate: 1.2500e-04\n",
            "Epoch 94/1000\n",
            "\u001b[1m134/147\u001b[0m \u001b[32m━━━━━━━━━━━━━━━━━━\u001b[0m\u001b[37m━━\u001b[0m \u001b[1m0s\u001b[0m 2ms/step - accuracy: 0.5842 - loss: 1.1948\n",
            "Epoch 94: saving model to model/keypoint_classifier/keypoint_classifier_updated.keras\n",
            "\n",
            "Epoch 94: ReduceLROnPlateau reducing learning rate to 6.25000029685907e-05.\n",
            "\u001b[1m147/147\u001b[0m \u001b[32m━━━━━━━━━━━━━━━━━━━━\u001b[0m\u001b[37m\u001b[0m \u001b[1m1s\u001b[0m 3ms/step - accuracy: 0.5845 - loss: 1.1948 - val_accuracy: 0.8810 - val_loss: 0.5818 - learning_rate: 1.2500e-04\n",
            "Epoch 95/1000\n",
            "\u001b[1m123/147\u001b[0m \u001b[32m━━━━━━━━━━━━━━━━\u001b[0m\u001b[37m━━━━\u001b[0m \u001b[1m0s\u001b[0m 2ms/step - accuracy: 0.5980 - loss: 1.1762\n",
            "Epoch 95: saving model to model/keypoint_classifier/keypoint_classifier_updated.keras\n",
            "\u001b[1m147/147\u001b[0m \u001b[32m━━━━━━━━━━━━━━━━━━━━\u001b[0m\u001b[37m\u001b[0m \u001b[1m1s\u001b[0m 3ms/step - accuracy: 0.5978 - loss: 1.1793 - val_accuracy: 0.8825 - val_loss: 0.5808 - learning_rate: 6.2500e-05\n",
            "Epoch 96/1000\n",
            "\u001b[1m125/147\u001b[0m \u001b[32m━━━━━━━━━━━━━━━━━\u001b[0m\u001b[37m━━━\u001b[0m \u001b[1m0s\u001b[0m 2ms/step - accuracy: 0.5975 - loss: 1.1734\n",
            "Epoch 96: saving model to model/keypoint_classifier/keypoint_classifier_updated.keras\n",
            "\u001b[1m147/147\u001b[0m \u001b[32m━━━━━━━━━━━━━━━━━━━━\u001b[0m\u001b[37m\u001b[0m \u001b[1m1s\u001b[0m 3ms/step - accuracy: 0.5970 - loss: 1.1757 - val_accuracy: 0.8850 - val_loss: 0.5786 - learning_rate: 6.2500e-05\n",
            "Epoch 97/1000\n",
            "\u001b[1m132/147\u001b[0m \u001b[32m━━━━━━━━━━━━━━━━━\u001b[0m\u001b[37m━━━\u001b[0m \u001b[1m0s\u001b[0m 2ms/step - accuracy: 0.5912 - loss: 1.2026\n",
            "Epoch 97: saving model to model/keypoint_classifier/keypoint_classifier_updated.keras\n",
            "\u001b[1m147/147\u001b[0m \u001b[32m━━━━━━━━━━━━━━━━━━━━\u001b[0m\u001b[37m\u001b[0m \u001b[1m1s\u001b[0m 3ms/step - accuracy: 0.5917 - loss: 1.2016 - val_accuracy: 0.8849 - val_loss: 0.5782 - learning_rate: 6.2500e-05\n",
            "Epoch 98/1000\n",
            "\u001b[1m143/147\u001b[0m \u001b[32m━━━━━━━━━━━━━━━━━━━\u001b[0m\u001b[37m━\u001b[0m \u001b[1m0s\u001b[0m 2ms/step - accuracy: 0.5910 - loss: 1.1926\n",
            "Epoch 98: saving model to model/keypoint_classifier/keypoint_classifier_updated.keras\n",
            "\u001b[1m147/147\u001b[0m \u001b[32m━━━━━━━━━━━━━━━━━━━━\u001b[0m\u001b[37m\u001b[0m \u001b[1m1s\u001b[0m 4ms/step - accuracy: 0.5911 - loss: 1.1927 - val_accuracy: 0.8839 - val_loss: 0.5785 - learning_rate: 6.2500e-05\n",
            "Epoch 99/1000\n",
            "\u001b[1m132/147\u001b[0m \u001b[32m━━━━━━━━━━━━━━━━━\u001b[0m\u001b[37m━━━\u001b[0m \u001b[1m0s\u001b[0m 2ms/step - accuracy: 0.5865 - loss: 1.1918\n",
            "Epoch 99: saving model to model/keypoint_classifier/keypoint_classifier_updated.keras\n",
            "\n",
            "Epoch 99: ReduceLROnPlateau reducing learning rate to 3.125000148429535e-05.\n",
            "\u001b[1m147/147\u001b[0m \u001b[32m━━━━━━━━━━━━━━━━━━━━\u001b[0m\u001b[37m\u001b[0m \u001b[1m1s\u001b[0m 3ms/step - accuracy: 0.5871 - loss: 1.1909 - val_accuracy: 0.8852 - val_loss: 0.5780 - learning_rate: 6.2500e-05\n",
            "Epoch 100/1000\n",
            "\u001b[1m127/147\u001b[0m \u001b[32m━━━━━━━━━━━━━━━━━\u001b[0m\u001b[37m━━━\u001b[0m \u001b[1m0s\u001b[0m 2ms/step - accuracy: 0.5912 - loss: 1.2039\n",
            "Epoch 100: saving model to model/keypoint_classifier/keypoint_classifier_updated.keras\n",
            "\u001b[1m147/147\u001b[0m \u001b[32m━━━━━━━━━━━━━━━━━━━━\u001b[0m\u001b[37m\u001b[0m \u001b[1m1s\u001b[0m 3ms/step - accuracy: 0.5912 - loss: 1.2038 - val_accuracy: 0.8873 - val_loss: 0.5781 - learning_rate: 3.1250e-05\n",
            "Epoch 101/1000\n",
            "\u001b[1m129/147\u001b[0m \u001b[32m━━━━━━━━━━━━━━━━━\u001b[0m\u001b[37m━━━\u001b[0m \u001b[1m0s\u001b[0m 2ms/step - accuracy: 0.5867 - loss: 1.2028\n",
            "Epoch 101: saving model to model/keypoint_classifier/keypoint_classifier_updated.keras\n",
            "\u001b[1m147/147\u001b[0m \u001b[32m━━━━━━━━━━━━━━━━━━━━\u001b[0m\u001b[37m\u001b[0m \u001b[1m1s\u001b[0m 3ms/step - accuracy: 0.5873 - loss: 1.2017 - val_accuracy: 0.8858 - val_loss: 0.5799 - learning_rate: 3.1250e-05\n",
            "Epoch 102/1000\n",
            "\u001b[1m137/147\u001b[0m \u001b[32m━━━━━━━━━━━━━━━━━━\u001b[0m\u001b[37m━━\u001b[0m \u001b[1m0s\u001b[0m 2ms/step - accuracy: 0.6082 - loss: 1.1684\n",
            "Epoch 102: saving model to model/keypoint_classifier/keypoint_classifier_updated.keras\n",
            "\u001b[1m147/147\u001b[0m \u001b[32m━━━━━━━━━━━━━━━━━━━━\u001b[0m\u001b[37m\u001b[0m \u001b[1m1s\u001b[0m 3ms/step - accuracy: 0.6077 - loss: 1.1685 - val_accuracy: 0.8834 - val_loss: 0.5797 - learning_rate: 3.1250e-05\n",
            "Epoch 103/1000\n",
            "\u001b[1m146/147\u001b[0m \u001b[32m━━━━━━━━━━━━━━━━━━━\u001b[0m\u001b[37m━\u001b[0m \u001b[1m0s\u001b[0m 2ms/step - accuracy: 0.5953 - loss: 1.2014\n",
            "Epoch 103: saving model to model/keypoint_classifier/keypoint_classifier_updated.keras\n",
            "\u001b[1m147/147\u001b[0m \u001b[32m━━━━━━━━━━━━━━━━━━━━\u001b[0m\u001b[37m\u001b[0m \u001b[1m1s\u001b[0m 4ms/step - accuracy: 0.5954 - loss: 1.2013 - val_accuracy: 0.8825 - val_loss: 0.5782 - learning_rate: 3.1250e-05\n",
            "Epoch 104/1000\n",
            "\u001b[1m134/147\u001b[0m \u001b[32m━━━━━━━━━━━━━━━━━━\u001b[0m\u001b[37m━━\u001b[0m \u001b[1m0s\u001b[0m 2ms/step - accuracy: 0.5944 - loss: 1.2083\n",
            "Epoch 104: saving model to model/keypoint_classifier/keypoint_classifier_updated.keras\n",
            "\n",
            "Epoch 104: ReduceLROnPlateau reducing learning rate to 1.5625000742147677e-05.\n",
            "\u001b[1m147/147\u001b[0m \u001b[32m━━━━━━━━━━━━━━━━━━━━\u001b[0m\u001b[37m\u001b[0m \u001b[1m1s\u001b[0m 3ms/step - accuracy: 0.5944 - loss: 1.2074 - val_accuracy: 0.8857 - val_loss: 0.5774 - learning_rate: 3.1250e-05\n",
            "Epoch 104: early stopping\n"
          ]
        },
        {
          "data": {
            "text/plain": [
              "<keras.src.callbacks.history.History at 0x27d8a2a82b0>"
            ]
          },
          "execution_count": 89,
          "metadata": {},
          "output_type": "execute_result"
        }
      ],
      "source": [
        "model.fit(\n",
        "    X_train,\n",
        "    y_train,\n",
        "    epochs=1000,\n",
        "    batch_size=128,\n",
        "    validation_data=(X_test, y_test),\n",
        "    callbacks=[cp_callback, es_callback, reduce_lr_callback]\n",
        ")"
      ]
    },
    {
      "cell_type": "code",
      "execution_count": 90,
      "metadata": {
        "colab": {
          "base_uri": "https://localhost:8080/"
        },
        "id": "pxvb2Y299hE3",
        "outputId": "59eb3185-2e37-4b9e-bc9d-ab1b8ac29b7f"
      },
      "outputs": [
        {
          "name": "stdout",
          "output_type": "stream",
          "text": [
            "\u001b[1m49/49\u001b[0m \u001b[32m━━━━━━━━━━━━━━━━━━━━\u001b[0m\u001b[37m\u001b[0m \u001b[1m0s\u001b[0m 2ms/step - accuracy: 0.8905 - loss: 0.5815\n"
          ]
        }
      ],
      "source": [
        "# Model evaluation\n",
        "val_loss, val_acc = model.evaluate(X_test, y_test, batch_size=128)"
      ]
    },
    {
      "cell_type": "code",
      "execution_count": 91,
      "metadata": {
        "id": "RBkmDeUW9hE4"
      },
      "outputs": [],
      "source": [
        "# Loading the saved model\n",
        "model = tf.keras.models.load_model(model_save_path)"
      ]
    },
    {
      "cell_type": "code",
      "execution_count": 92,
      "metadata": {
        "colab": {
          "base_uri": "https://localhost:8080/"
        },
        "id": "tFz9Tb0I9hE4",
        "outputId": "1c3b3528-54ae-4ee2-ab04-77429211cbef"
      },
      "outputs": [
        {
          "name": "stdout",
          "output_type": "stream",
          "text": [
            "\u001b[1m1/1\u001b[0m \u001b[32m━━━━━━━━━━━━━━━━━━━━\u001b[0m\u001b[37m\u001b[0m \u001b[1m0s\u001b[0m 76ms/step\n",
            "[3.8777739e-02 1.3177214e-05 2.5975189e-09 7.0125629e-06 8.7926798e-03\n",
            " 1.0595300e-07 1.0811567e-03 6.8765767e-05 2.4101585e-03 8.3753290e-03\n",
            " 2.2558419e-01 2.2188961e-07 2.5660422e-06 1.6111106e-06 4.5915956e-05\n",
            " 1.8958835e-11 3.7065885e-08 3.2550117e-04 5.8993898e-02 4.9573797e-01\n",
            " 3.7781736e-06 1.9299551e-07 2.3749652e-11 1.4892888e-01 1.0123953e-02\n",
            " 7.2526239e-04]\n",
            "19\n"
          ]
        }
      ],
      "source": [
        "# Inference test\n",
        "predict_result = model.predict(np.array([X_test[0]]))\n",
        "print(np.squeeze(predict_result))\n",
        "print(np.argmax(np.squeeze(predict_result)))"
      ]
    },
    {
      "cell_type": "markdown",
      "metadata": {
        "id": "S3U4yNWx9hE4"
      },
      "source": [
        "# Confusion matrix"
      ]
    },
    {
      "cell_type": "code",
      "execution_count": 93,
      "metadata": {
        "colab": {
          "base_uri": "https://localhost:8080/",
          "height": 582
        },
        "id": "AP1V6SCk9hE5",
        "outputId": "08e41a80-7a4a-4619-8125-ecc371368d19"
      },
      "outputs": [
        {
          "name": "stdout",
          "output_type": "stream",
          "text": [
            "\u001b[1m196/196\u001b[0m \u001b[32m━━━━━━━━━━━━━━━━━━━━\u001b[0m\u001b[37m\u001b[0m \u001b[1m0s\u001b[0m 1ms/step\n"
          ]
        },
        {
          "data": {
            "image/png": "[encoded data removed]",
            "text/plain": [
              "<Figure size 700x600 with 2 Axes>"
            ]
          },
          "metadata": {},
          "output_type": "display_data"
        },
        {
          "name": "stdout",
          "output_type": "stream",
          "text": [
            "Classification Report\n",
            "              precision    recall  f1-score   support\n",
            "\n",
            "           0       0.98      0.52      0.68       192\n",
            "           1       0.99      0.91      0.94       151\n",
            "           2       0.78      0.82      0.80       282\n",
            "           3       0.91      0.96      0.94       284\n",
            "           4       0.97      0.94      0.96       232\n",
            "           5       0.84      0.79      0.81       226\n",
            "           6       0.99      1.00      0.99       215\n",
            "           7       0.99      1.00      1.00       215\n",
            "           8       0.99      0.99      0.99       298\n",
            "           9       0.99      0.99      0.99       289\n",
            "          10       0.77      0.95      0.85       222\n",
            "          11       1.00      1.00      1.00       195\n",
            "          12       0.96      0.82      0.89       194\n",
            "          13       0.88      0.98      0.92       241\n",
            "          14       0.81      0.80      0.81       233\n",
            "          15       1.00      1.00      1.00       252\n",
            "          16       1.00      1.00      1.00       261\n",
            "          17       1.00      0.03      0.05       235\n",
            "          18       0.76      0.98      0.85       284\n",
            "          19       0.96      0.93      0.94       227\n",
            "          20       0.49      1.00      0.66       266\n",
            "          21       0.81      0.68      0.74       236\n",
            "          22       0.97      1.00      0.98       265\n",
            "          23       0.97      0.80      0.88       274\n",
            "          24       1.00      1.00      1.00       248\n",
            "          25       0.99      0.99      0.99       254\n",
            "\n",
            "    accuracy                           0.89      6271\n",
            "   macro avg       0.92      0.88      0.87      6271\n",
            "weighted avg       0.91      0.89      0.87      6271\n",
            "\n"
          ]
        }
      ],
      "source": [
        "import pandas as pd\n",
        "import seaborn as sns\n",
        "import matplotlib.pyplot as plt\n",
        "from sklearn.metrics import confusion_matrix, classification_report\n",
        "\n",
        "def print_confusion_matrix(y_true, y_pred, report=True):\n",
        "    labels = sorted(list(set(y_true)))\n",
        "    cmx_data = confusion_matrix(y_true, y_pred, labels=labels)\n",
        "    \n",
        "    df_cmx = pd.DataFrame(cmx_data, index=labels, columns=labels)\n",
        " \n",
        "    fig, ax = plt.subplots(figsize=(7, 6))\n",
        "    sns.heatmap(df_cmx, annot=True, fmt='g' ,square=False)\n",
        "    ax.set_ylim(len(set(y_true)), 0)\n",
        "    plt.show()\n",
        "    \n",
        "    if report:\n",
        "        print('Classification Report')\n",
        "        print(classification_report(y_test, y_pred))\n",
        "\n",
        "Y_pred = model.predict(X_test)\n",
        "y_pred = np.argmax(Y_pred, axis=1)\n",
        "\n",
        "print_confusion_matrix(y_test, y_pred)"
      ]
    },
    {
      "cell_type": "markdown",
      "metadata": {
        "id": "FNP6aqzc9hE5"
      },
      "source": [
        "# Convert to model for Tensorflow-Lite"
      ]
    },
    {
      "cell_type": "code",
      "execution_count": 94,
      "metadata": {
        "id": "ODjnYyld9hE6"
      },
      "outputs": [],
      "source": [
        "# Save as a model dedicated to inference\n",
        "model.save(model_save_path, include_optimizer=False)"
      ]
    },
    {
      "cell_type": "code",
      "execution_count": 95,
      "metadata": {
        "colab": {
          "base_uri": "https://localhost:8080/"
        },
        "id": "zRfuK8Y59hE6",
        "outputId": "a4ca585c-b5d5-4244-8291-8674063209bb"
      },
      "outputs": [
        {
          "name": "stdout",
          "output_type": "stream",
          "text": [
            "INFO:tensorflow:Assets written to: C:\\Users\\ARAVIN~1\\AppData\\Local\\Temp\\tmpv8bb2b3s\\assets\n"
          ]
        },
        {
          "name": "stderr",
          "output_type": "stream",
          "text": [
            "INFO:tensorflow:Assets written to: C:\\Users\\ARAVIN~1\\AppData\\Local\\Temp\\tmpv8bb2b3s\\assets\n"
          ]
        },
        {
          "name": "stdout",
          "output_type": "stream",
          "text": [
            "Saved artifact at 'C:\\Users\\ARAVIN~1\\AppData\\Local\\Temp\\tmpv8bb2b3s'. The following endpoints are available:\n",
            "\n",
            "* Endpoint 'serve'\n",
            "  args_0 (POSITIONAL_ONLY): TensorSpec(shape=(None, 42), dtype=tf.float32, name='input_layer_4')\n",
            "Output Type:\n",
            "  TensorSpec(shape=(None, 26), dtype=tf.float32, name=None)\n",
            "Captures:\n",
            "  2738405316208: TensorSpec(shape=(), dtype=tf.resource, name=None)\n",
            "  2738390439536: TensorSpec(shape=(), dtype=tf.resource, name=None)\n",
            "  2738394826528: TensorSpec(shape=(), dtype=tf.resource, name=None)\n",
            "  2738390241520: TensorSpec(shape=(), dtype=tf.resource, name=None)\n",
            "  2738403629536: TensorSpec(shape=(), dtype=tf.resource, name=None)\n",
            "  2738403629184: TensorSpec(shape=(), dtype=tf.resource, name=None)\n"
          ]
        },
        {
          "data": {
            "text/plain": [
              "7540"
            ]
          },
          "execution_count": 95,
          "metadata": {},
          "output_type": "execute_result"
        }
      ],
      "source": [
        "# Transform model (quantization)\n",
        "\n",
        "converter = tf.lite.TFLiteConverter.from_keras_model(model)\n",
        "converter.optimizations = [tf.lite.Optimize.DEFAULT]\n",
        "tflite_quantized_model = converter.convert()\n",
        "\n",
        "open(tflite_save_path, 'wb').write(tflite_quantized_model)"
      ]
    },
    {
      "cell_type": "markdown",
      "metadata": {
        "id": "CHBPBXdx9hE6"
      },
      "source": [
        "# Inference test"
      ]
    },
    {
      "cell_type": "code",
      "execution_count": 96,
      "metadata": {
        "id": "mGAzLocO9hE7"
      },
      "outputs": [
        {
          "name": "stderr",
          "output_type": "stream",
          "text": [
            "c:\\Softwares\\All Programs\\New\\repo\\lib\\site-packages\\tensorflow\\lite\\python\\interpreter.py:457: UserWarning:     Warning: tf.lite.Interpreter is deprecated and is scheduled for deletion in\n",
            "    TF 2.20. Please use the LiteRT interpreter from the ai_edge_litert package.\n",
            "    See the [migration guide](https://ai.google.dev/edge/litert/migration)\n",
            "    for details.\n",
            "    \n",
            "  warnings.warn(_INTERPRETER_DELETION_WARNING)\n"
          ]
        }
      ],
      "source": [
        "interpreter = tf.lite.Interpreter(model_path=tflite_save_path)\n",
        "interpreter.allocate_tensors()"
      ]
    },
    {
      "cell_type": "code",
      "execution_count": 97,
      "metadata": {
        "id": "oQuDK8YS9hE7"
      },
      "outputs": [],
      "source": [
        "# Get I / O tensor\n",
        "input_details = interpreter.get_input_details()\n",
        "output_details = interpreter.get_output_details()"
      ]
    },
    {
      "cell_type": "code",
      "execution_count": 98,
      "metadata": {
        "id": "2_ixAf_l9hE7"
      },
      "outputs": [],
      "source": [
        "interpreter.set_tensor(input_details[0]['index'], np.array([X_test[0]]))"
      ]
    },
    {
      "cell_type": "code",
      "execution_count": 99,
      "metadata": {
        "colab": {
          "base_uri": "https://localhost:8080/"
        },
        "id": "s4FoAnuc9hE7",
        "outputId": "91f18257-8d8b-4ef3-c558-e9b5f94fabbf",
        "scrolled": true
      },
      "outputs": [
        {
          "name": "stdout",
          "output_type": "stream",
          "text": [
            "CPU times: total: 0 ns\n",
            "Wall time: 913 µs\n"
          ]
        }
      ],
      "source": [
        "%%time\n",
        "# Inference implementation\n",
        "interpreter.invoke()\n",
        "tflite_results = interpreter.get_tensor(output_details[0]['index'])"
      ]
    },
    {
      "cell_type": "code",
      "execution_count": 100,
      "metadata": {
        "colab": {
          "base_uri": "https://localhost:8080/"
        },
        "id": "vONjp19J9hE8",
        "outputId": "77205e24-fd00-42c4-f7b6-e06e527c2cba"
      },
      "outputs": [
        {
          "name": "stdout",
          "output_type": "stream",
          "text": [
            "[3.87777276e-02 1.31772031e-05 2.59751420e-09 7.01255703e-06\n",
            " 8.79267789e-03 1.05952914e-07 1.08115887e-03 6.87658394e-05\n",
            " 2.41015898e-03 8.37532990e-03 2.25584015e-01 2.21889422e-07\n",
            " 2.56604244e-06 1.61111075e-06 4.59159637e-05 1.89588380e-11\n",
            " 3.70659592e-08 3.25501198e-04 5.89938797e-02 4.95738059e-01\n",
            " 3.77817423e-06 1.92995529e-07 2.37496099e-11 1.48928836e-01\n",
            " 1.01239523e-02 7.25262507e-04]\n",
            "19\n"
          ]
        }
      ],
      "source": [
        "print(np.squeeze(tflite_results))\n",
        "print(np.argmax(np.squeeze(tflite_results)))"
      ]
    }
  ],
  "metadata": {
    "accelerator": "GPU",
    "colab": {
      "collapsed_sections": [],
      "name": "keypoint_classification_EN.ipynb",
      "provenance": [],
      "toc_visible": true
    },
    "kernelspec": {
      "display_name": "repo",
      "language": "python",
      "name": "python3"
    },
    "language_info": {
      "codemirror_mode": {
        "name": "ipython",
        "version": 3
      },
      "file_extension": ".py",
      "mimetype": "text/x-python",
      "name": "python",
      "nbconvert_exporter": "python",
      "pygments_lexer": "ipython3",
      "version": "3.9.9"
    }
  },
  "nbformat": 4,
  "nbformat_minor": 0
}
