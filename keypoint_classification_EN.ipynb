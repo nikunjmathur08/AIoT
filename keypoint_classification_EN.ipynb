{
  "cells": [
    {
      "cell_type": "code",
      "execution_count": 1,
      "metadata": {
        "id": "igMyGnjE9hEp"
      },
      "outputs": [],
      "source": [
        "import csv\n",
        "\n",
        "import numpy as np\n",
        "import tensorflow as tf\n",
        "from sklearn.model_selection import train_test_split\n",
        "\n",
        "RANDOM_SEED = 42"
      ]
    },
    {
      "cell_type": "markdown",
      "metadata": {
        "id": "t2HDvhIu9hEr"
      },
      "source": [
        "# Specify each path"
      ]
    },
    {
      "cell_type": "code",
      "execution_count": 2,
      "metadata": {
        "id": "9NvZP2Zn9hEy"
      },
      "outputs": [],
      "source": [
        "dataset = 'model/keypoint_classifier/Alphabet_keys.csv'\n",
        "model_save_path = 'model/keypoint_classifier/keypoint_classifier_updated3.keras'\n",
        "tflite_save_path = 'model/keypoint_classifier/keypoint_classifier3.tflite'"
      ]
    },
    {
      "cell_type": "markdown",
      "metadata": {
        "id": "s5oMH7x19hEz"
      },
      "source": [
        "# Set number of classes"
      ]
    },
    {
      "cell_type": "code",
      "execution_count": 3,
      "metadata": {
        "id": "du4kodXL9hEz"
      },
      "outputs": [],
      "source": [
        "NUM_CLASSES = 26"
      ]
    },
    {
      "cell_type": "markdown",
      "metadata": {
        "id": "XjnL0uso9hEz"
      },
      "source": [
        "# Dataset reading"
      ]
    },
    {
      "cell_type": "code",
      "execution_count": 4,
      "metadata": {
        "id": "QT5ZqtEz9hE0"
      },
      "outputs": [],
      "source": [
        "X_dataset = np.loadtxt(dataset, delimiter=',', dtype='float32', usecols=list(range(1, (21 * 2) + 1)))"
      ]
    },
    {
      "cell_type": "code",
      "execution_count": 5,
      "metadata": {
        "id": "QmoKFsp49hE0"
      },
      "outputs": [],
      "source": [
        "y_dataset = np.loadtxt(dataset, delimiter=',', dtype='int32', usecols=(0))"
      ]
    },
    {
      "cell_type": "code",
      "execution_count": 6,
      "metadata": {
        "id": "xQU7JTZ_9hE0"
      },
      "outputs": [],
      "source": [
        "def augment_keypoints(keypoints, labels, num_augmented=2):\n",
        "    \"\"\"Create augmented versions of keypoints with small noise\"\"\"\n",
        "    augmented_data = []\n",
        "    augmented_labels = []\n",
        "    \n",
        "    for i, sample in enumerate(keypoints):\n",
        "        label = labels[i]  # Use the passed labels parameter instead of y_dataset\n",
        "        # Add original\n",
        "        augmented_data.append(sample)\n",
        "        augmented_labels.append(label)\n",
        "        \n",
        "        # Create augmented versions\n",
        "        for _ in range(num_augmented):\n",
        "            # Add small random noise to coordinates\n",
        "            noise = np.random.normal(0, 0.03, sample.shape)  # Small Gaussian noise\n",
        "            augmented = sample + noise\n",
        "            augmented_data.append(augmented)\n",
        "            augmented_labels.append(label)\n",
        "    \n",
        "    return np.array(augmented_data), np.array(augmented_labels)\n",
        "\n",
        "X_train_raw, X_test, y_train_raw, y_test = train_test_split(\n",
        "    X_dataset, y_dataset, test_size=0.2, random_state=RANDOM_SEED\n",
        ")\n",
        "\n",
        "# Further split training into train and validation\n",
        "X_train_base, X_val, y_train_base, y_val = train_test_split(\n",
        "    X_train_raw, y_train_raw, test_size=0.2, random_state=RANDOM_SEED\n",
        ")\n",
        "\n",
        "# Augment only the actual training data\n",
        "X_train, y_train = augment_keypoints(X_train_base, y_train_base, num_augmented=2)\n"
      ]
    },
    {
      "cell_type": "markdown",
      "metadata": {
        "id": "mxK_lETT9hE0"
      },
      "source": [
        "# Model building"
      ]
    },
    {
      "cell_type": "code",
      "execution_count": 7,
      "metadata": {
        "id": "vHBmUf1t9hE1"
      },
      "outputs": [],
      "source": [
        "model = tf.keras.models.Sequential([\n",
        "    tf.keras.layers.Input((21 * 2, )),\n",
        "    tf.keras.layers.Dense(128, activation='relu', kernel_regularizer=tf.keras.regularizers.l2(0.001)),\n",
        "    tf.keras.layers.BatchNormalization(),\n",
        "    tf.keras.layers.Dropout(0.4),  # Increased dropout\n",
        "    tf.keras.layers.Dense(64, activation='relu', kernel_regularizer=tf.keras.regularizers.l2(0.001)),\n",
        "    tf.keras.layers.BatchNormalization(),\n",
        "    tf.keras.layers.Dropout(0.4),\n",
        "    tf.keras.layers.Dense(32, activation='relu', kernel_regularizer=tf.keras.regularizers.l2(0.001)),\n",
        "    tf.keras.layers.BatchNormalization(),\n",
        "    tf.keras.layers.Dropout(0.3),\n",
        "    tf.keras.layers.Dense(NUM_CLASSES, activation='softmax')\n",
        "])"
      ]
    },
    {
      "cell_type": "code",
      "execution_count": 8,
      "metadata": {
        "colab": {
          "base_uri": "https://localhost:8080/"
        },
        "id": "ypqky9tc9hE1",
        "outputId": "5db082bb-30e3-4110-bf63-a1ee777ecd46"
      },
      "outputs": [
        {
          "data": {
            "text/html": [
              "<pre style=\"white-space:pre;overflow-x:auto;line-height:normal;font-family:Menlo,'DejaVu Sans Mono',consolas,'Courier New',monospace\"><span style=\"font-weight: bold\">Model: \"sequential\"</span>\n",
              "</pre>\n"
            ],
            "text/plain": [
              "\u001b[1mModel: \"sequential\"\u001b[0m\n"
            ]
          },
          "metadata": {},
          "output_type": "display_data"
        },
        {
          "data": {
            "text/html": [
              "<pre style=\"white-space:pre;overflow-x:auto;line-height:normal;font-family:Menlo,'DejaVu Sans Mono',consolas,'Courier New',monospace\">┏━━━━━━━━━━━━━━━━━━━━━━━━━━━━━━━━━┳━━━━━━━━━━━━━━━━━━━━━━━━┳━━━━━━━━━━━━━━━┓\n",
              "┃<span style=\"font-weight: bold\"> Layer (type)                    </span>┃<span style=\"font-weight: bold\"> Output Shape           </span>┃<span style=\"font-weight: bold\">       Param # </span>┃\n",
              "┡━━━━━━━━━━━━━━━━━━━━━━━━━━━━━━━━━╇━━━━━━━━━━━━━━━━━━━━━━━━╇━━━━━━━━━━━━━━━┩\n",
              "│ dense (<span style=\"color: #0087ff; text-decoration-color: #0087ff\">Dense</span>)                   │ (<span style=\"color: #00d7ff; text-decoration-color: #00d7ff\">None</span>, <span style=\"color: #00af00; text-decoration-color: #00af00\">128</span>)            │         <span style=\"color: #00af00; text-decoration-color: #00af00\">5,504</span> │\n",
              "├─────────────────────────────────┼────────────────────────┼───────────────┤\n",
              "│ batch_normalization             │ (<span style=\"color: #00d7ff; text-decoration-color: #00d7ff\">None</span>, <span style=\"color: #00af00; text-decoration-color: #00af00\">128</span>)            │           <span style=\"color: #00af00; text-decoration-color: #00af00\">512</span> │\n",
              "│ (<span style=\"color: #0087ff; text-decoration-color: #0087ff\">BatchNormalization</span>)            │                        │               │\n",
              "├─────────────────────────────────┼────────────────────────┼───────────────┤\n",
              "│ dropout (<span style=\"color: #0087ff; text-decoration-color: #0087ff\">Dropout</span>)               │ (<span style=\"color: #00d7ff; text-decoration-color: #00d7ff\">None</span>, <span style=\"color: #00af00; text-decoration-color: #00af00\">128</span>)            │             <span style=\"color: #00af00; text-decoration-color: #00af00\">0</span> │\n",
              "├─────────────────────────────────┼────────────────────────┼───────────────┤\n",
              "│ dense_1 (<span style=\"color: #0087ff; text-decoration-color: #0087ff\">Dense</span>)                 │ (<span style=\"color: #00d7ff; text-decoration-color: #00d7ff\">None</span>, <span style=\"color: #00af00; text-decoration-color: #00af00\">64</span>)             │         <span style=\"color: #00af00; text-decoration-color: #00af00\">8,256</span> │\n",
              "├─────────────────────────────────┼────────────────────────┼───────────────┤\n",
              "│ batch_normalization_1           │ (<span style=\"color: #00d7ff; text-decoration-color: #00d7ff\">None</span>, <span style=\"color: #00af00; text-decoration-color: #00af00\">64</span>)             │           <span style=\"color: #00af00; text-decoration-color: #00af00\">256</span> │\n",
              "│ (<span style=\"color: #0087ff; text-decoration-color: #0087ff\">BatchNormalization</span>)            │                        │               │\n",
              "├─────────────────────────────────┼────────────────────────┼───────────────┤\n",
              "│ dropout_1 (<span style=\"color: #0087ff; text-decoration-color: #0087ff\">Dropout</span>)             │ (<span style=\"color: #00d7ff; text-decoration-color: #00d7ff\">None</span>, <span style=\"color: #00af00; text-decoration-color: #00af00\">64</span>)             │             <span style=\"color: #00af00; text-decoration-color: #00af00\">0</span> │\n",
              "├─────────────────────────────────┼────────────────────────┼───────────────┤\n",
              "│ dense_2 (<span style=\"color: #0087ff; text-decoration-color: #0087ff\">Dense</span>)                 │ (<span style=\"color: #00d7ff; text-decoration-color: #00d7ff\">None</span>, <span style=\"color: #00af00; text-decoration-color: #00af00\">32</span>)             │         <span style=\"color: #00af00; text-decoration-color: #00af00\">2,080</span> │\n",
              "├─────────────────────────────────┼────────────────────────┼───────────────┤\n",
              "│ batch_normalization_2           │ (<span style=\"color: #00d7ff; text-decoration-color: #00d7ff\">None</span>, <span style=\"color: #00af00; text-decoration-color: #00af00\">32</span>)             │           <span style=\"color: #00af00; text-decoration-color: #00af00\">128</span> │\n",
              "│ (<span style=\"color: #0087ff; text-decoration-color: #0087ff\">BatchNormalization</span>)            │                        │               │\n",
              "├─────────────────────────────────┼────────────────────────┼───────────────┤\n",
              "│ dropout_2 (<span style=\"color: #0087ff; text-decoration-color: #0087ff\">Dropout</span>)             │ (<span style=\"color: #00d7ff; text-decoration-color: #00d7ff\">None</span>, <span style=\"color: #00af00; text-decoration-color: #00af00\">32</span>)             │             <span style=\"color: #00af00; text-decoration-color: #00af00\">0</span> │\n",
              "├─────────────────────────────────┼────────────────────────┼───────────────┤\n",
              "│ dense_3 (<span style=\"color: #0087ff; text-decoration-color: #0087ff\">Dense</span>)                 │ (<span style=\"color: #00d7ff; text-decoration-color: #00d7ff\">None</span>, <span style=\"color: #00af00; text-decoration-color: #00af00\">26</span>)             │           <span style=\"color: #00af00; text-decoration-color: #00af00\">858</span> │\n",
              "└─────────────────────────────────┴────────────────────────┴───────────────┘\n",
              "</pre>\n"
            ],
            "text/plain": [
              "┏━━━━━━━━━━━━━━━━━━━━━━━━━━━━━━━━━┳━━━━━━━━━━━━━━━━━━━━━━━━┳━━━━━━━━━━━━━━━┓\n",
              "┃\u001b[1m \u001b[0m\u001b[1mLayer (type)                   \u001b[0m\u001b[1m \u001b[0m┃\u001b[1m \u001b[0m\u001b[1mOutput Shape          \u001b[0m\u001b[1m \u001b[0m┃\u001b[1m \u001b[0m\u001b[1m      Param #\u001b[0m\u001b[1m \u001b[0m┃\n",
              "┡━━━━━━━━━━━━━━━━━━━━━━━━━━━━━━━━━╇━━━━━━━━━━━━━━━━━━━━━━━━╇━━━━━━━━━━━━━━━┩\n",
              "│ dense (\u001b[38;5;33mDense\u001b[0m)                   │ (\u001b[38;5;45mNone\u001b[0m, \u001b[38;5;34m128\u001b[0m)            │         \u001b[38;5;34m5,504\u001b[0m │\n",
              "├─────────────────────────────────┼────────────────────────┼───────────────┤\n",
              "│ batch_normalization             │ (\u001b[38;5;45mNone\u001b[0m, \u001b[38;5;34m128\u001b[0m)            │           \u001b[38;5;34m512\u001b[0m │\n",
              "│ (\u001b[38;5;33mBatchNormalization\u001b[0m)            │                        │               │\n",
              "├─────────────────────────────────┼────────────────────────┼───────────────┤\n",
              "│ dropout (\u001b[38;5;33mDropout\u001b[0m)               │ (\u001b[38;5;45mNone\u001b[0m, \u001b[38;5;34m128\u001b[0m)            │             \u001b[38;5;34m0\u001b[0m │\n",
              "├─────────────────────────────────┼────────────────────────┼───────────────┤\n",
              "│ dense_1 (\u001b[38;5;33mDense\u001b[0m)                 │ (\u001b[38;5;45mNone\u001b[0m, \u001b[38;5;34m64\u001b[0m)             │         \u001b[38;5;34m8,256\u001b[0m │\n",
              "├─────────────────────────────────┼────────────────────────┼───────────────┤\n",
              "│ batch_normalization_1           │ (\u001b[38;5;45mNone\u001b[0m, \u001b[38;5;34m64\u001b[0m)             │           \u001b[38;5;34m256\u001b[0m │\n",
              "│ (\u001b[38;5;33mBatchNormalization\u001b[0m)            │                        │               │\n",
              "├─────────────────────────────────┼────────────────────────┼───────────────┤\n",
              "│ dropout_1 (\u001b[38;5;33mDropout\u001b[0m)             │ (\u001b[38;5;45mNone\u001b[0m, \u001b[38;5;34m64\u001b[0m)             │             \u001b[38;5;34m0\u001b[0m │\n",
              "├─────────────────────────────────┼────────────────────────┼───────────────┤\n",
              "│ dense_2 (\u001b[38;5;33mDense\u001b[0m)                 │ (\u001b[38;5;45mNone\u001b[0m, \u001b[38;5;34m32\u001b[0m)             │         \u001b[38;5;34m2,080\u001b[0m │\n",
              "├─────────────────────────────────┼────────────────────────┼───────────────┤\n",
              "│ batch_normalization_2           │ (\u001b[38;5;45mNone\u001b[0m, \u001b[38;5;34m32\u001b[0m)             │           \u001b[38;5;34m128\u001b[0m │\n",
              "│ (\u001b[38;5;33mBatchNormalization\u001b[0m)            │                        │               │\n",
              "├─────────────────────────────────┼────────────────────────┼───────────────┤\n",
              "│ dropout_2 (\u001b[38;5;33mDropout\u001b[0m)             │ (\u001b[38;5;45mNone\u001b[0m, \u001b[38;5;34m32\u001b[0m)             │             \u001b[38;5;34m0\u001b[0m │\n",
              "├─────────────────────────────────┼────────────────────────┼───────────────┤\n",
              "│ dense_3 (\u001b[38;5;33mDense\u001b[0m)                 │ (\u001b[38;5;45mNone\u001b[0m, \u001b[38;5;34m26\u001b[0m)             │           \u001b[38;5;34m858\u001b[0m │\n",
              "└─────────────────────────────────┴────────────────────────┴───────────────┘\n"
            ]
          },
          "metadata": {},
          "output_type": "display_data"
        },
        {
          "data": {
            "text/html": [
              "<pre style=\"white-space:pre;overflow-x:auto;line-height:normal;font-family:Menlo,'DejaVu Sans Mono',consolas,'Courier New',monospace\"><span style=\"font-weight: bold\"> Total params: </span><span style=\"color: #00af00; text-decoration-color: #00af00\">17,594</span> (68.73 KB)\n",
              "</pre>\n"
            ],
            "text/plain": [
              "\u001b[1m Total params: \u001b[0m\u001b[38;5;34m17,594\u001b[0m (68.73 KB)\n"
            ]
          },
          "metadata": {},
          "output_type": "display_data"
        },
        {
          "data": {
            "text/html": [
              "<pre style=\"white-space:pre;overflow-x:auto;line-height:normal;font-family:Menlo,'DejaVu Sans Mono',consolas,'Courier New',monospace\"><span style=\"font-weight: bold\"> Trainable params: </span><span style=\"color: #00af00; text-decoration-color: #00af00\">17,146</span> (66.98 KB)\n",
              "</pre>\n"
            ],
            "text/plain": [
              "\u001b[1m Trainable params: \u001b[0m\u001b[38;5;34m17,146\u001b[0m (66.98 KB)\n"
            ]
          },
          "metadata": {},
          "output_type": "display_data"
        },
        {
          "data": {
            "text/html": [
              "<pre style=\"white-space:pre;overflow-x:auto;line-height:normal;font-family:Menlo,'DejaVu Sans Mono',consolas,'Courier New',monospace\"><span style=\"font-weight: bold\"> Non-trainable params: </span><span style=\"color: #00af00; text-decoration-color: #00af00\">448</span> (1.75 KB)\n",
              "</pre>\n"
            ],
            "text/plain": [
              "\u001b[1m Non-trainable params: \u001b[0m\u001b[38;5;34m448\u001b[0m (1.75 KB)\n"
            ]
          },
          "metadata": {},
          "output_type": "display_data"
        }
      ],
      "source": [
        "model.summary()  # tf.keras.utils.plot_model(model, show_shapes=True)"
      ]
    },
    {
      "cell_type": "code",
      "execution_count": 9,
      "metadata": {
        "id": "MbMjOflQ9hE1"
      },
      "outputs": [],
      "source": [
        "# Model checkpoint callback\n",
        "cp_callback = tf.keras.callbacks.ModelCheckpoint(\n",
        "    model_save_path, verbose=1, save_weights_only=False)\n",
        "# Callback for early stopping\n",
        "es_callback = tf.keras.callbacks.EarlyStopping(patience=20, verbose=1)"
      ]
    },
    {
      "cell_type": "code",
      "execution_count": 10,
      "metadata": {},
      "outputs": [],
      "source": [
        "from tensorflow.keras.callbacks import  ReduceLROnPlateau\n",
        "reduce_lr_callback = ReduceLROnPlateau(\n",
        "    monitor='val_loss',      # Metric to monitor\n",
        "    factor=0.5,              # Reduce LR by this factor\n",
        "    patience=5,              # Epochs with no improvement to wait\n",
        "    min_lr=1e-6,             # Minimum LR\n",
        "    verbose=1                # Print updates\n",
        ")"
      ]
    },
    {
      "cell_type": "code",
      "execution_count": 11,
      "metadata": {
        "id": "c3Dac0M_9hE2"
      },
      "outputs": [],
      "source": [
        "# Model compilation\n",
        "model.compile(\n",
        "    optimizer='adamW',\n",
        "    loss='sparse_categorical_crossentropy',\n",
        "    metrics=['accuracy']\n",
        ")"
      ]
    },
    {
      "cell_type": "markdown",
      "metadata": {
        "id": "7XI0j1Iu9hE2"
      },
      "source": [
        "# Model training"
      ]
    },
    {
      "cell_type": "code",
      "execution_count": 12,
      "metadata": {
        "colab": {
          "base_uri": "https://localhost:8080/"
        },
        "id": "WirBl-JE9hE3",
        "outputId": "71b30ca2-8294-4d9d-8aa2-800d90d399de",
        "scrolled": true
      },
      "outputs": [
        {
          "name": "stdout",
          "output_type": "stream",
          "text": [
            "Epoch 1/200\n",
            "\u001b[1m750/753\u001b[0m \u001b[32m━━━━━━━━━━━━━━━━━━━\u001b[0m\u001b[37m━\u001b[0m \u001b[1m0s\u001b[0m 3ms/step - accuracy: 0.4256 - loss: 2.1686\n",
            "Epoch 1: saving model to model/keypoint_classifier/keypoint_classifier_updated3.keras\n",
            "\u001b[1m753/753\u001b[0m \u001b[32m━━━━━━━━━━━━━━━━━━━━\u001b[0m\u001b[37m\u001b[0m \u001b[1m6s\u001b[0m 4ms/step - accuracy: 0.4266 - loss: 2.1647 - val_accuracy: 0.9534 - val_loss: 0.3675 - learning_rate: 0.0010\n",
            "Epoch 2/200\n",
            "\u001b[1m740/753\u001b[0m \u001b[32m━━━━━━━━━━━━━━━━━━━\u001b[0m\u001b[37m━\u001b[0m \u001b[1m0s\u001b[0m 3ms/step - accuracy: 0.8605 - loss: 0.6017\n",
            "Epoch 2: saving model to model/keypoint_classifier/keypoint_classifier_updated3.keras\n",
            "\u001b[1m753/753\u001b[0m \u001b[32m━━━━━━━━━━━━━━━━━━━━\u001b[0m\u001b[37m\u001b[0m \u001b[1m3s\u001b[0m 4ms/step - accuracy: 0.8609 - loss: 0.6003 - val_accuracy: 0.9806 - val_loss: 0.2123 - learning_rate: 0.0010\n",
            "Epoch 3/200\n",
            "\u001b[1m737/753\u001b[0m \u001b[32m━━━━━━━━━━━━━━━━━━━\u001b[0m\u001b[37m━\u001b[0m \u001b[1m0s\u001b[0m 3ms/step - accuracy: 0.9235 - loss: 0.3733\n",
            "Epoch 3: saving model to model/keypoint_classifier/keypoint_classifier_updated3.keras\n",
            "\u001b[1m753/753\u001b[0m \u001b[32m━━━━━━━━━━━━━━━━━━━━\u001b[0m\u001b[37m\u001b[0m \u001b[1m3s\u001b[0m 4ms/step - accuracy: 0.9236 - loss: 0.3728 - val_accuracy: 0.9928 - val_loss: 0.1603 - learning_rate: 0.0010\n",
            "Epoch 4/200\n",
            "\u001b[1m752/753\u001b[0m \u001b[32m━━━━━━━━━━━━━━━━━━━\u001b[0m\u001b[37m━\u001b[0m \u001b[1m0s\u001b[0m 3ms/step - accuracy: 0.9384 - loss: 0.3048\n",
            "Epoch 4: saving model to model/keypoint_classifier/keypoint_classifier_updated3.keras\n",
            "\u001b[1m753/753\u001b[0m \u001b[32m━━━━━━━━━━━━━━━━━━━━\u001b[0m\u001b[37m\u001b[0m \u001b[1m3s\u001b[0m 4ms/step - accuracy: 0.9384 - loss: 0.3048 - val_accuracy: 0.9920 - val_loss: 0.1431 - learning_rate: 0.0010\n",
            "Epoch 5/200\n",
            "\u001b[1m744/753\u001b[0m \u001b[32m━━━━━━━━━━━━━━━━━━━\u001b[0m\u001b[37m━\u001b[0m \u001b[1m0s\u001b[0m 3ms/step - accuracy: 0.9497 - loss: 0.2544\n",
            "Epoch 5: saving model to model/keypoint_classifier/keypoint_classifier_updated3.keras\n",
            "\u001b[1m753/753\u001b[0m \u001b[32m━━━━━━━━━━━━━━━━━━━━\u001b[0m\u001b[37m\u001b[0m \u001b[1m3s\u001b[0m 3ms/step - accuracy: 0.9497 - loss: 0.2544 - val_accuracy: 0.9935 - val_loss: 0.1280 - learning_rate: 0.0010\n",
            "Epoch 6/200\n",
            "\u001b[1m747/753\u001b[0m \u001b[32m━━━━━━━━━━━━━━━━━━━\u001b[0m\u001b[37m━\u001b[0m \u001b[1m0s\u001b[0m 3ms/step - accuracy: 0.9556 - loss: 0.2277\n",
            "Epoch 6: saving model to model/keypoint_classifier/keypoint_classifier_updated3.keras\n",
            "\u001b[1m753/753\u001b[0m \u001b[32m━━━━━━━━━━━━━━━━━━━━\u001b[0m\u001b[37m\u001b[0m \u001b[1m3s\u001b[0m 3ms/step - accuracy: 0.9556 - loss: 0.2277 - val_accuracy: 0.9948 - val_loss: 0.1124 - learning_rate: 0.0010\n",
            "Epoch 7/200\n",
            "\u001b[1m745/753\u001b[0m \u001b[32m━━━━━━━━━━━━━━━━━━━\u001b[0m\u001b[37m━\u001b[0m \u001b[1m0s\u001b[0m 3ms/step - accuracy: 0.9583 - loss: 0.2147\n",
            "Epoch 7: saving model to model/keypoint_classifier/keypoint_classifier_updated3.keras\n",
            "\u001b[1m753/753\u001b[0m \u001b[32m━━━━━━━━━━━━━━━━━━━━\u001b[0m\u001b[37m\u001b[0m \u001b[1m3s\u001b[0m 4ms/step - accuracy: 0.9583 - loss: 0.2147 - val_accuracy: 0.9960 - val_loss: 0.1018 - learning_rate: 0.0010\n",
            "Epoch 8/200\n",
            "\u001b[1m753/753\u001b[0m \u001b[32m━━━━━━━━━━━━━━━━━━━━\u001b[0m\u001b[37m\u001b[0m \u001b[1m0s\u001b[0m 3ms/step - accuracy: 0.9598 - loss: 0.2104\n",
            "Epoch 8: saving model to model/keypoint_classifier/keypoint_classifier_updated3.keras\n",
            "\u001b[1m753/753\u001b[0m \u001b[32m━━━━━━━━━━━━━━━━━━━━\u001b[0m\u001b[37m\u001b[0m \u001b[1m3s\u001b[0m 4ms/step - accuracy: 0.9598 - loss: 0.2104 - val_accuracy: 0.9923 - val_loss: 0.1136 - learning_rate: 0.0010\n",
            "Epoch 9/200\n",
            "\u001b[1m742/753\u001b[0m \u001b[32m━━━━━━━━━━━━━━━━━━━\u001b[0m\u001b[37m━\u001b[0m \u001b[1m0s\u001b[0m 5ms/step - accuracy: 0.9604 - loss: 0.2009\n",
            "Epoch 9: saving model to model/keypoint_classifier/keypoint_classifier_updated3.keras\n",
            "\u001b[1m753/753\u001b[0m \u001b[32m━━━━━━━━━━━━━━━━━━━━\u001b[0m\u001b[37m\u001b[0m \u001b[1m4s\u001b[0m 5ms/step - accuracy: 0.9604 - loss: 0.2008 - val_accuracy: 0.9935 - val_loss: 0.1026 - learning_rate: 0.0010\n",
            "Epoch 10/200\n",
            "\u001b[1m744/753\u001b[0m \u001b[32m━━━━━━━━━━━━━━━━━━━\u001b[0m\u001b[37m━\u001b[0m \u001b[1m0s\u001b[0m 5ms/step - accuracy: 0.9629 - loss: 0.1941\n",
            "Epoch 10: saving model to model/keypoint_classifier/keypoint_classifier_updated3.keras\n",
            "\u001b[1m753/753\u001b[0m \u001b[32m━━━━━━━━━━━━━━━━━━━━\u001b[0m\u001b[37m\u001b[0m \u001b[1m4s\u001b[0m 6ms/step - accuracy: 0.9629 - loss: 0.1940 - val_accuracy: 0.9953 - val_loss: 0.0901 - learning_rate: 0.0010\n",
            "Epoch 11/200\n",
            "\u001b[1m750/753\u001b[0m \u001b[32m━━━━━━━━━━━━━━━━━━━\u001b[0m\u001b[37m━\u001b[0m \u001b[1m0s\u001b[0m 5ms/step - accuracy: 0.9650 - loss: 0.1843\n",
            "Epoch 11: saving model to model/keypoint_classifier/keypoint_classifier_updated3.keras\n",
            "\u001b[1m753/753\u001b[0m \u001b[32m━━━━━━━━━━━━━━━━━━━━\u001b[0m\u001b[37m\u001b[0m \u001b[1m4s\u001b[0m 5ms/step - accuracy: 0.9650 - loss: 0.1843 - val_accuracy: 0.9898 - val_loss: 0.0957 - learning_rate: 0.0010\n",
            "Epoch 12/200\n",
            "\u001b[1m742/753\u001b[0m \u001b[32m━━━━━━━━━━━━━━━━━━━\u001b[0m\u001b[37m━\u001b[0m \u001b[1m0s\u001b[0m 5ms/step - accuracy: 0.9685 - loss: 0.1777\n",
            "Epoch 12: saving model to model/keypoint_classifier/keypoint_classifier_updated3.keras\n",
            "\u001b[1m753/753\u001b[0m \u001b[32m━━━━━━━━━━━━━━━━━━━━\u001b[0m\u001b[37m\u001b[0m \u001b[1m4s\u001b[0m 5ms/step - accuracy: 0.9685 - loss: 0.1777 - val_accuracy: 0.9960 - val_loss: 0.0873 - learning_rate: 0.0010\n",
            "Epoch 13/200\n",
            "\u001b[1m750/753\u001b[0m \u001b[32m━━━━━━━━━━━━━━━━━━━\u001b[0m\u001b[37m━\u001b[0m \u001b[1m0s\u001b[0m 5ms/step - accuracy: 0.9692 - loss: 0.1721\n",
            "Epoch 13: saving model to model/keypoint_classifier/keypoint_classifier_updated3.keras\n",
            "\u001b[1m753/753\u001b[0m \u001b[32m━━━━━━━━━━━━━━━━━━━━\u001b[0m\u001b[37m\u001b[0m \u001b[1m4s\u001b[0m 5ms/step - accuracy: 0.9692 - loss: 0.1721 - val_accuracy: 0.9978 - val_loss: 0.0829 - learning_rate: 0.0010\n",
            "Epoch 14/200\n",
            "\u001b[1m749/753\u001b[0m \u001b[32m━━━━━━━━━━━━━━━━━━━\u001b[0m\u001b[37m━\u001b[0m \u001b[1m0s\u001b[0m 6ms/step - accuracy: 0.9696 - loss: 0.1714\n",
            "Epoch 14: saving model to model/keypoint_classifier/keypoint_classifier_updated3.keras\n",
            "\u001b[1m753/753\u001b[0m \u001b[32m━━━━━━━━━━━━━━━━━━━━\u001b[0m\u001b[37m\u001b[0m \u001b[1m5s\u001b[0m 6ms/step - accuracy: 0.9695 - loss: 0.1715 - val_accuracy: 0.9970 - val_loss: 0.0806 - learning_rate: 0.0010\n",
            "Epoch 15/200\n",
            "\u001b[1m752/753\u001b[0m \u001b[32m━━━━━━━━━━━━━━━━━━━\u001b[0m\u001b[37m━\u001b[0m \u001b[1m0s\u001b[0m 5ms/step - accuracy: 0.9693 - loss: 0.1659\n",
            "Epoch 15: saving model to model/keypoint_classifier/keypoint_classifier_updated3.keras\n",
            "\u001b[1m753/753\u001b[0m \u001b[32m━━━━━━━━━━━━━━━━━━━━\u001b[0m\u001b[37m\u001b[0m \u001b[1m5s\u001b[0m 6ms/step - accuracy: 0.9693 - loss: 0.1659 - val_accuracy: 0.9963 - val_loss: 0.0889 - learning_rate: 0.0010\n",
            "Epoch 16/200\n",
            "\u001b[1m742/753\u001b[0m \u001b[32m━━━━━━━━━━━━━━━━━━━\u001b[0m\u001b[37m━\u001b[0m \u001b[1m0s\u001b[0m 5ms/step - accuracy: 0.9717 - loss: 0.1641\n",
            "Epoch 16: saving model to model/keypoint_classifier/keypoint_classifier_updated3.keras\n",
            "\u001b[1m753/753\u001b[0m \u001b[32m━━━━━━━━━━━━━━━━━━━━\u001b[0m\u001b[37m\u001b[0m \u001b[1m4s\u001b[0m 5ms/step - accuracy: 0.9717 - loss: 0.1641 - val_accuracy: 0.9955 - val_loss: 0.0830 - learning_rate: 0.0010\n",
            "Epoch 17/200\n",
            "\u001b[1m747/753\u001b[0m \u001b[32m━━━━━━━━━━━━━━━━━━━\u001b[0m\u001b[37m━\u001b[0m \u001b[1m0s\u001b[0m 5ms/step - accuracy: 0.9710 - loss: 0.1629\n",
            "Epoch 17: saving model to model/keypoint_classifier/keypoint_classifier_updated3.keras\n",
            "\u001b[1m753/753\u001b[0m \u001b[32m━━━━━━━━━━━━━━━━━━━━\u001b[0m\u001b[37m\u001b[0m \u001b[1m4s\u001b[0m 5ms/step - accuracy: 0.9710 - loss: 0.1629 - val_accuracy: 0.9953 - val_loss: 0.0816 - learning_rate: 0.0010\n",
            "Epoch 18/200\n",
            "\u001b[1m746/753\u001b[0m \u001b[32m━━━━━━━━━━━━━━━━━━━\u001b[0m\u001b[37m━\u001b[0m \u001b[1m0s\u001b[0m 5ms/step - accuracy: 0.9718 - loss: 0.1604\n",
            "Epoch 18: saving model to model/keypoint_classifier/keypoint_classifier_updated3.keras\n",
            "\u001b[1m753/753\u001b[0m \u001b[32m━━━━━━━━━━━━━━━━━━━━\u001b[0m\u001b[37m\u001b[0m \u001b[1m4s\u001b[0m 6ms/step - accuracy: 0.9717 - loss: 0.1605 - val_accuracy: 0.9973 - val_loss: 0.0778 - learning_rate: 0.0010\n",
            "Epoch 19/200\n",
            "\u001b[1m744/753\u001b[0m \u001b[32m━━━━━━━━━━━━━━━━━━━\u001b[0m\u001b[37m━\u001b[0m \u001b[1m0s\u001b[0m 7ms/step - accuracy: 0.9702 - loss: 0.1608\n",
            "Epoch 19: saving model to model/keypoint_classifier/keypoint_classifier_updated3.keras\n",
            "\u001b[1m753/753\u001b[0m \u001b[32m━━━━━━━━━━━━━━━━━━━━\u001b[0m\u001b[37m\u001b[0m \u001b[1m6s\u001b[0m 8ms/step - accuracy: 0.9702 - loss: 0.1607 - val_accuracy: 0.9960 - val_loss: 0.0807 - learning_rate: 0.0010\n",
            "Epoch 20/200\n",
            "\u001b[1m748/753\u001b[0m \u001b[32m━━━━━━━━━━━━━━━━━━━\u001b[0m\u001b[37m━\u001b[0m \u001b[1m0s\u001b[0m 6ms/step - accuracy: 0.9713 - loss: 0.1587\n",
            "Epoch 20: saving model to model/keypoint_classifier/keypoint_classifier_updated3.keras\n",
            "\u001b[1m753/753\u001b[0m \u001b[32m━━━━━━━━━━━━━━━━━━━━\u001b[0m\u001b[37m\u001b[0m \u001b[1m5s\u001b[0m 7ms/step - accuracy: 0.9713 - loss: 0.1587 - val_accuracy: 0.9935 - val_loss: 0.0878 - learning_rate: 0.0010\n",
            "Epoch 21/200\n",
            "\u001b[1m748/753\u001b[0m \u001b[32m━━━━━━━━━━━━━━━━━━━\u001b[0m\u001b[37m━\u001b[0m \u001b[1m0s\u001b[0m 8ms/step - accuracy: 0.9685 - loss: 0.1670\n",
            "Epoch 21: saving model to model/keypoint_classifier/keypoint_classifier_updated3.keras\n",
            "\u001b[1m753/753\u001b[0m \u001b[32m━━━━━━━━━━━━━━━━━━━━\u001b[0m\u001b[37m\u001b[0m \u001b[1m7s\u001b[0m 9ms/step - accuracy: 0.9685 - loss: 0.1670 - val_accuracy: 0.9955 - val_loss: 0.0789 - learning_rate: 0.0010\n",
            "Epoch 22/200\n",
            "\u001b[1m742/753\u001b[0m \u001b[32m━━━━━━━━━━━━━━━━━━━\u001b[0m\u001b[37m━\u001b[0m \u001b[1m0s\u001b[0m 6ms/step - accuracy: 0.9713 - loss: 0.1611\n",
            "Epoch 22: saving model to model/keypoint_classifier/keypoint_classifier_updated3.keras\n",
            "\u001b[1m753/753\u001b[0m \u001b[32m━━━━━━━━━━━━━━━━━━━━\u001b[0m\u001b[37m\u001b[0m \u001b[1m5s\u001b[0m 7ms/step - accuracy: 0.9713 - loss: 0.1611 - val_accuracy: 0.9930 - val_loss: 0.0914 - learning_rate: 0.0010\n",
            "Epoch 23/200\n",
            "\u001b[1m750/753\u001b[0m \u001b[32m━━━━━━━━━━━━━━━━━━━\u001b[0m\u001b[37m━\u001b[0m \u001b[1m0s\u001b[0m 6ms/step - accuracy: 0.9690 - loss: 0.1657\n",
            "Epoch 23: saving model to model/keypoint_classifier/keypoint_classifier_updated3.keras\n",
            "\u001b[1m753/753\u001b[0m \u001b[32m━━━━━━━━━━━━━━━━━━━━\u001b[0m\u001b[37m\u001b[0m \u001b[1m5s\u001b[0m 6ms/step - accuracy: 0.9690 - loss: 0.1657 - val_accuracy: 0.9978 - val_loss: 0.0723 - learning_rate: 0.0010\n",
            "Epoch 24/200\n",
            "\u001b[1m749/753\u001b[0m \u001b[32m━━━━━━━━━━━━━━━━━━━\u001b[0m\u001b[37m━\u001b[0m \u001b[1m0s\u001b[0m 7ms/step - accuracy: 0.9733 - loss: 0.1533\n",
            "Epoch 24: saving model to model/keypoint_classifier/keypoint_classifier_updated3.keras\n",
            "\u001b[1m753/753\u001b[0m \u001b[32m━━━━━━━━━━━━━━━━━━━━\u001b[0m\u001b[37m\u001b[0m \u001b[1m6s\u001b[0m 8ms/step - accuracy: 0.9733 - loss: 0.1533 - val_accuracy: 0.9960 - val_loss: 0.0793 - learning_rate: 0.0010\n",
            "Epoch 25/200\n",
            "\u001b[1m744/753\u001b[0m \u001b[32m━━━━━━━━━━━━━━━━━━━\u001b[0m\u001b[37m━\u001b[0m \u001b[1m0s\u001b[0m 6ms/step - accuracy: 0.9734 - loss: 0.1515\n",
            "Epoch 25: saving model to model/keypoint_classifier/keypoint_classifier_updated3.keras\n",
            "\u001b[1m753/753\u001b[0m \u001b[32m━━━━━━━━━━━━━━━━━━━━\u001b[0m\u001b[37m\u001b[0m \u001b[1m5s\u001b[0m 6ms/step - accuracy: 0.9734 - loss: 0.1515 - val_accuracy: 0.9968 - val_loss: 0.0740 - learning_rate: 0.0010\n",
            "Epoch 26/200\n",
            "\u001b[1m749/753\u001b[0m \u001b[32m━━━━━━━━━━━━━━━━━━━\u001b[0m\u001b[37m━\u001b[0m \u001b[1m0s\u001b[0m 5ms/step - accuracy: 0.9702 - loss: 0.1586\n",
            "Epoch 26: saving model to model/keypoint_classifier/keypoint_classifier_updated3.keras\n",
            "\u001b[1m753/753\u001b[0m \u001b[32m━━━━━━━━━━━━━━━━━━━━\u001b[0m\u001b[37m\u001b[0m \u001b[1m4s\u001b[0m 5ms/step - accuracy: 0.9702 - loss: 0.1585 - val_accuracy: 0.9973 - val_loss: 0.0745 - learning_rate: 0.0010\n",
            "Epoch 27/200\n",
            "\u001b[1m747/753\u001b[0m \u001b[32m━━━━━━━━━━━━━━━━━━━\u001b[0m\u001b[37m━\u001b[0m \u001b[1m0s\u001b[0m 4ms/step - accuracy: 0.9724 - loss: 0.1521\n",
            "Epoch 27: saving model to model/keypoint_classifier/keypoint_classifier_updated3.keras\n",
            "\u001b[1m753/753\u001b[0m \u001b[32m━━━━━━━━━━━━━━━━━━━━\u001b[0m\u001b[37m\u001b[0m \u001b[1m4s\u001b[0m 5ms/step - accuracy: 0.9724 - loss: 0.1521 - val_accuracy: 0.9848 - val_loss: 0.0927 - learning_rate: 0.0010\n",
            "Epoch 28/200\n",
            "\u001b[1m742/753\u001b[0m \u001b[32m━━━━━━━━━━━━━━━━━━━\u001b[0m\u001b[37m━\u001b[0m \u001b[1m0s\u001b[0m 5ms/step - accuracy: 0.9712 - loss: 0.1552\n",
            "Epoch 28: saving model to model/keypoint_classifier/keypoint_classifier_updated3.keras\n",
            "\n",
            "Epoch 28: ReduceLROnPlateau reducing learning rate to 0.0005000000237487257.\n",
            "\u001b[1m753/753\u001b[0m \u001b[32m━━━━━━━━━━━━━━━━━━━━\u001b[0m\u001b[37m\u001b[0m \u001b[1m4s\u001b[0m 5ms/step - accuracy: 0.9712 - loss: 0.1552 - val_accuracy: 0.9968 - val_loss: 0.0758 - learning_rate: 0.0010\n",
            "Epoch 29/200\n",
            "\u001b[1m744/753\u001b[0m \u001b[32m━━━━━━━━━━━━━━━━━━━\u001b[0m\u001b[37m━\u001b[0m \u001b[1m0s\u001b[0m 5ms/step - accuracy: 0.9813 - loss: 0.1280\n",
            "Epoch 29: saving model to model/keypoint_classifier/keypoint_classifier_updated3.keras\n",
            "\u001b[1m753/753\u001b[0m \u001b[32m━━━━━━━━━━━━━━━━━━━━\u001b[0m\u001b[37m\u001b[0m \u001b[1m4s\u001b[0m 5ms/step - accuracy: 0.9813 - loss: 0.1279 - val_accuracy: 0.9993 - val_loss: 0.0639 - learning_rate: 5.0000e-04\n",
            "Epoch 30/200\n",
            "\u001b[1m748/753\u001b[0m \u001b[32m━━━━━━━━━━━━━━━━━━━\u001b[0m\u001b[37m━\u001b[0m \u001b[1m0s\u001b[0m 5ms/step - accuracy: 0.9830 - loss: 0.1141\n",
            "Epoch 30: saving model to model/keypoint_classifier/keypoint_classifier_updated3.keras\n",
            "\u001b[1m753/753\u001b[0m \u001b[32m━━━━━━━━━━━━━━━━━━━━\u001b[0m\u001b[37m\u001b[0m \u001b[1m4s\u001b[0m 6ms/step - accuracy: 0.9830 - loss: 0.1142 - val_accuracy: 0.9990 - val_loss: 0.0620 - learning_rate: 5.0000e-04\n",
            "Epoch 31/200\n",
            "\u001b[1m741/753\u001b[0m \u001b[32m━━━━━━━━━━━━━━━━━━━\u001b[0m\u001b[37m━\u001b[0m \u001b[1m0s\u001b[0m 5ms/step - accuracy: 0.9843 - loss: 0.1078\n",
            "Epoch 31: saving model to model/keypoint_classifier/keypoint_classifier_updated3.keras\n",
            "\u001b[1m753/753\u001b[0m \u001b[32m━━━━━━━━━━━━━━━━━━━━\u001b[0m\u001b[37m\u001b[0m \u001b[1m4s\u001b[0m 5ms/step - accuracy: 0.9843 - loss: 0.1078 - val_accuracy: 0.9990 - val_loss: 0.0583 - learning_rate: 5.0000e-04\n",
            "Epoch 32/200\n",
            "\u001b[1m746/753\u001b[0m \u001b[32m━━━━━━━━━━━━━━━━━━━\u001b[0m\u001b[37m━\u001b[0m \u001b[1m0s\u001b[0m 5ms/step - accuracy: 0.9816 - loss: 0.1132\n",
            "Epoch 32: saving model to model/keypoint_classifier/keypoint_classifier_updated3.keras\n",
            "\u001b[1m753/753\u001b[0m \u001b[32m━━━━━━━━━━━━━━━━━━━━\u001b[0m\u001b[37m\u001b[0m \u001b[1m4s\u001b[0m 5ms/step - accuracy: 0.9816 - loss: 0.1132 - val_accuracy: 0.9988 - val_loss: 0.0548 - learning_rate: 5.0000e-04\n",
            "Epoch 33/200\n",
            "\u001b[1m752/753\u001b[0m \u001b[32m━━━━━━━━━━━━━━━━━━━\u001b[0m\u001b[37m━\u001b[0m \u001b[1m0s\u001b[0m 5ms/step - accuracy: 0.9829 - loss: 0.1090\n",
            "Epoch 33: saving model to model/keypoint_classifier/keypoint_classifier_updated3.keras\n",
            "\u001b[1m753/753\u001b[0m \u001b[32m━━━━━━━━━━━━━━━━━━━━\u001b[0m\u001b[37m\u001b[0m \u001b[1m4s\u001b[0m 6ms/step - accuracy: 0.9829 - loss: 0.1090 - val_accuracy: 0.9975 - val_loss: 0.0586 - learning_rate: 5.0000e-04\n",
            "Epoch 34/200\n",
            "\u001b[1m748/753\u001b[0m \u001b[32m━━━━━━━━━━━━━━━━━━━\u001b[0m\u001b[37m━\u001b[0m \u001b[1m0s\u001b[0m 5ms/step - accuracy: 0.9838 - loss: 0.1047\n",
            "Epoch 34: saving model to model/keypoint_classifier/keypoint_classifier_updated3.keras\n",
            "\u001b[1m753/753\u001b[0m \u001b[32m━━━━━━━━━━━━━━━━━━━━\u001b[0m\u001b[37m\u001b[0m \u001b[1m4s\u001b[0m 5ms/step - accuracy: 0.9838 - loss: 0.1047 - val_accuracy: 0.9990 - val_loss: 0.0545 - learning_rate: 5.0000e-04\n",
            "Epoch 35/200\n",
            "\u001b[1m749/753\u001b[0m \u001b[32m━━━━━━━━━━━━━━━━━━━\u001b[0m\u001b[37m━\u001b[0m \u001b[1m0s\u001b[0m 5ms/step - accuracy: 0.9838 - loss: 0.1019\n",
            "Epoch 35: saving model to model/keypoint_classifier/keypoint_classifier_updated3.keras\n",
            "\u001b[1m753/753\u001b[0m \u001b[32m━━━━━━━━━━━━━━━━━━━━\u001b[0m\u001b[37m\u001b[0m \u001b[1m6s\u001b[0m 6ms/step - accuracy: 0.9837 - loss: 0.1019 - val_accuracy: 0.9983 - val_loss: 0.0551 - learning_rate: 5.0000e-04\n",
            "Epoch 36/200\n",
            "\u001b[1m745/753\u001b[0m \u001b[32m━━━━━━━━━━━━━━━━━━━\u001b[0m\u001b[37m━\u001b[0m \u001b[1m0s\u001b[0m 6ms/step - accuracy: 0.9814 - loss: 0.1084\n",
            "Epoch 36: saving model to model/keypoint_classifier/keypoint_classifier_updated3.keras\n",
            "\u001b[1m753/753\u001b[0m \u001b[32m━━━━━━━━━━━━━━━━━━━━\u001b[0m\u001b[37m\u001b[0m \u001b[1m5s\u001b[0m 6ms/step - accuracy: 0.9814 - loss: 0.1084 - val_accuracy: 0.9988 - val_loss: 0.0518 - learning_rate: 5.0000e-04\n",
            "Epoch 37/200\n",
            "\u001b[1m743/753\u001b[0m \u001b[32m━━━━━━━━━━━━━━━━━━━\u001b[0m\u001b[37m━\u001b[0m \u001b[1m0s\u001b[0m 5ms/step - accuracy: 0.9814 - loss: 0.1098\n",
            "Epoch 37: saving model to model/keypoint_classifier/keypoint_classifier_updated3.keras\n",
            "\u001b[1m753/753\u001b[0m \u001b[32m━━━━━━━━━━━━━━━━━━━━\u001b[0m\u001b[37m\u001b[0m \u001b[1m4s\u001b[0m 5ms/step - accuracy: 0.9814 - loss: 0.1098 - val_accuracy: 0.9963 - val_loss: 0.0545 - learning_rate: 5.0000e-04\n",
            "Epoch 38/200\n",
            "\u001b[1m746/753\u001b[0m \u001b[32m━━━━━━━━━━━━━━━━━━━\u001b[0m\u001b[37m━\u001b[0m \u001b[1m0s\u001b[0m 5ms/step - accuracy: 0.9847 - loss: 0.1009\n",
            "Epoch 38: saving model to model/keypoint_classifier/keypoint_classifier_updated3.keras\n",
            "\u001b[1m753/753\u001b[0m \u001b[32m━━━━━━━━━━━━━━━━━━━━\u001b[0m\u001b[37m\u001b[0m \u001b[1m5s\u001b[0m 6ms/step - accuracy: 0.9847 - loss: 0.1009 - val_accuracy: 0.9983 - val_loss: 0.0500 - learning_rate: 5.0000e-04\n",
            "Epoch 39/200\n",
            "\u001b[1m749/753\u001b[0m \u001b[32m━━━━━━━━━━━━━━━━━━━\u001b[0m\u001b[37m━\u001b[0m \u001b[1m0s\u001b[0m 6ms/step - accuracy: 0.9813 - loss: 0.1061\n",
            "Epoch 39: saving model to model/keypoint_classifier/keypoint_classifier_updated3.keras\n",
            "\u001b[1m753/753\u001b[0m \u001b[32m━━━━━━━━━━━━━━━━━━━━\u001b[0m\u001b[37m\u001b[0m \u001b[1m5s\u001b[0m 6ms/step - accuracy: 0.9813 - loss: 0.1060 - val_accuracy: 0.9993 - val_loss: 0.0484 - learning_rate: 5.0000e-04\n",
            "Epoch 40/200\n",
            "\u001b[1m745/753\u001b[0m \u001b[32m━━━━━━━━━━━━━━━━━━━\u001b[0m\u001b[37m━\u001b[0m \u001b[1m0s\u001b[0m 6ms/step - accuracy: 0.9840 - loss: 0.1015\n",
            "Epoch 40: saving model to model/keypoint_classifier/keypoint_classifier_updated3.keras\n",
            "\u001b[1m753/753\u001b[0m \u001b[32m━━━━━━━━━━━━━━━━━━━━\u001b[0m\u001b[37m\u001b[0m \u001b[1m5s\u001b[0m 7ms/step - accuracy: 0.9840 - loss: 0.1015 - val_accuracy: 0.9978 - val_loss: 0.0505 - learning_rate: 5.0000e-04\n",
            "Epoch 41/200\n",
            "\u001b[1m745/753\u001b[0m \u001b[32m━━━━━━━━━━━━━━━━━━━\u001b[0m\u001b[37m━\u001b[0m \u001b[1m0s\u001b[0m 5ms/step - accuracy: 0.9832 - loss: 0.1001\n",
            "Epoch 41: saving model to model/keypoint_classifier/keypoint_classifier_updated3.keras\n",
            "\u001b[1m753/753\u001b[0m \u001b[32m━━━━━━━━━━━━━━━━━━━━\u001b[0m\u001b[37m\u001b[0m \u001b[1m5s\u001b[0m 6ms/step - accuracy: 0.9832 - loss: 0.1001 - val_accuracy: 0.9990 - val_loss: 0.0462 - learning_rate: 5.0000e-04\n",
            "Epoch 42/200\n",
            "\u001b[1m750/753\u001b[0m \u001b[32m━━━━━━━━━━━━━━━━━━━\u001b[0m\u001b[37m━\u001b[0m \u001b[1m0s\u001b[0m 6ms/step - accuracy: 0.9839 - loss: 0.0969\n",
            "Epoch 42: saving model to model/keypoint_classifier/keypoint_classifier_updated3.keras\n",
            "\u001b[1m753/753\u001b[0m \u001b[32m━━━━━━━━━━━━━━━━━━━━\u001b[0m\u001b[37m\u001b[0m \u001b[1m5s\u001b[0m 7ms/step - accuracy: 0.9839 - loss: 0.0969 - val_accuracy: 0.9985 - val_loss: 0.0483 - learning_rate: 5.0000e-04\n",
            "Epoch 43/200\n",
            "\u001b[1m749/753\u001b[0m \u001b[32m━━━━━━━━━━━━━━━━━━━\u001b[0m\u001b[37m━\u001b[0m \u001b[1m0s\u001b[0m 5ms/step - accuracy: 0.9839 - loss: 0.0958\n",
            "Epoch 43: saving model to model/keypoint_classifier/keypoint_classifier_updated3.keras\n",
            "\u001b[1m753/753\u001b[0m \u001b[32m━━━━━━━━━━━━━━━━━━━━\u001b[0m\u001b[37m\u001b[0m \u001b[1m4s\u001b[0m 5ms/step - accuracy: 0.9839 - loss: 0.0958 - val_accuracy: 0.9978 - val_loss: 0.0492 - learning_rate: 5.0000e-04\n",
            "Epoch 44/200\n",
            "\u001b[1m743/753\u001b[0m \u001b[32m━━━━━━━━━━━━━━━━━━━\u001b[0m\u001b[37m━\u001b[0m \u001b[1m0s\u001b[0m 5ms/step - accuracy: 0.9838 - loss: 0.0979\n",
            "Epoch 44: saving model to model/keypoint_classifier/keypoint_classifier_updated3.keras\n",
            "\u001b[1m753/753\u001b[0m \u001b[32m━━━━━━━━━━━━━━━━━━━━\u001b[0m\u001b[37m\u001b[0m \u001b[1m4s\u001b[0m 6ms/step - accuracy: 0.9839 - loss: 0.0979 - val_accuracy: 0.9983 - val_loss: 0.0485 - learning_rate: 5.0000e-04\n",
            "Epoch 45/200\n",
            "\u001b[1m748/753\u001b[0m \u001b[32m━━━━━━━━━━━━━━━━━━━\u001b[0m\u001b[37m━\u001b[0m \u001b[1m0s\u001b[0m 6ms/step - accuracy: 0.9816 - loss: 0.1002\n",
            "Epoch 45: saving model to model/keypoint_classifier/keypoint_classifier_updated3.keras\n",
            "\u001b[1m753/753\u001b[0m \u001b[32m━━━━━━━━━━━━━━━━━━━━\u001b[0m\u001b[37m\u001b[0m \u001b[1m5s\u001b[0m 6ms/step - accuracy: 0.9816 - loss: 0.1002 - val_accuracy: 0.9985 - val_loss: 0.0465 - learning_rate: 5.0000e-04\n",
            "Epoch 46/200\n",
            "\u001b[1m752/753\u001b[0m \u001b[32m━━━━━━━━━━━━━━━━━━━\u001b[0m\u001b[37m━\u001b[0m \u001b[1m0s\u001b[0m 7ms/step - accuracy: 0.9821 - loss: 0.1052\n",
            "Epoch 46: saving model to model/keypoint_classifier/keypoint_classifier_updated3.keras\n",
            "\n",
            "Epoch 46: ReduceLROnPlateau reducing learning rate to 0.0002500000118743628.\n",
            "\u001b[1m753/753\u001b[0m \u001b[32m━━━━━━━━━━━━━━━━━━━━\u001b[0m\u001b[37m\u001b[0m \u001b[1m6s\u001b[0m 8ms/step - accuracy: 0.9821 - loss: 0.1052 - val_accuracy: 0.9993 - val_loss: 0.0462 - learning_rate: 5.0000e-04\n",
            "Epoch 47/200\n",
            "\u001b[1m744/753\u001b[0m \u001b[32m━━━━━━━━━━━━━━━━━━━\u001b[0m\u001b[37m━\u001b[0m \u001b[1m0s\u001b[0m 5ms/step - accuracy: 0.9873 - loss: 0.0858\n",
            "Epoch 47: saving model to model/keypoint_classifier/keypoint_classifier_updated3.keras\n",
            "\u001b[1m753/753\u001b[0m \u001b[32m━━━━━━━━━━━━━━━━━━━━\u001b[0m\u001b[37m\u001b[0m \u001b[1m5s\u001b[0m 6ms/step - accuracy: 0.9873 - loss: 0.0858 - val_accuracy: 0.9993 - val_loss: 0.0438 - learning_rate: 2.5000e-04\n",
            "Epoch 48/200\n",
            "\u001b[1m753/753\u001b[0m \u001b[32m━━━━━━━━━━━━━━━━━━━━\u001b[0m\u001b[37m\u001b[0m \u001b[1m0s\u001b[0m 5ms/step - accuracy: 0.9886 - loss: 0.0783\n",
            "Epoch 48: saving model to model/keypoint_classifier/keypoint_classifier_updated3.keras\n",
            "\u001b[1m753/753\u001b[0m \u001b[32m━━━━━━━━━━━━━━━━━━━━\u001b[0m\u001b[37m\u001b[0m \u001b[1m5s\u001b[0m 6ms/step - accuracy: 0.9886 - loss: 0.0783 - val_accuracy: 0.9990 - val_loss: 0.0444 - learning_rate: 2.5000e-04\n",
            "Epoch 49/200\n",
            "\u001b[1m751/753\u001b[0m \u001b[32m━━━━━━━━━━━━━━━━━━━\u001b[0m\u001b[37m━\u001b[0m \u001b[1m0s\u001b[0m 8ms/step - accuracy: 0.9876 - loss: 0.0809\n",
            "Epoch 49: saving model to model/keypoint_classifier/keypoint_classifier_updated3.keras\n",
            "\u001b[1m753/753\u001b[0m \u001b[32m━━━━━━━━━━━━━━━━━━━━\u001b[0m\u001b[37m\u001b[0m \u001b[1m6s\u001b[0m 8ms/step - accuracy: 0.9876 - loss: 0.0809 - val_accuracy: 0.9998 - val_loss: 0.0406 - learning_rate: 2.5000e-04\n",
            "Epoch 50/200\n",
            "\u001b[1m751/753\u001b[0m \u001b[32m━━━━━━━━━━━━━━━━━━━\u001b[0m\u001b[37m━\u001b[0m \u001b[1m0s\u001b[0m 10ms/step - accuracy: 0.9897 - loss: 0.0748\n",
            "Epoch 50: saving model to model/keypoint_classifier/keypoint_classifier_updated3.keras\n",
            "\u001b[1m753/753\u001b[0m \u001b[32m━━━━━━━━━━━━━━━━━━━━\u001b[0m\u001b[37m\u001b[0m \u001b[1m12s\u001b[0m 10ms/step - accuracy: 0.9896 - loss: 0.0748 - val_accuracy: 0.9995 - val_loss: 0.0404 - learning_rate: 2.5000e-04\n",
            "Epoch 51/200\n",
            "\u001b[1m745/753\u001b[0m \u001b[32m━━━━━━━━━━━━━━━━━━━\u001b[0m\u001b[37m━\u001b[0m \u001b[1m0s\u001b[0m 5ms/step - accuracy: 0.9885 - loss: 0.0763\n",
            "Epoch 51: saving model to model/keypoint_classifier/keypoint_classifier_updated3.keras\n",
            "\u001b[1m753/753\u001b[0m \u001b[32m━━━━━━━━━━━━━━━━━━━━\u001b[0m\u001b[37m\u001b[0m \u001b[1m4s\u001b[0m 5ms/step - accuracy: 0.9885 - loss: 0.0763 - val_accuracy: 0.9995 - val_loss: 0.0397 - learning_rate: 2.5000e-04\n",
            "Epoch 52/200\n",
            "\u001b[1m748/753\u001b[0m \u001b[32m━━━━━━━━━━━━━━━━━━━\u001b[0m\u001b[37m━\u001b[0m \u001b[1m0s\u001b[0m 9ms/step - accuracy: 0.9878 - loss: 0.0787\n",
            "Epoch 52: saving model to model/keypoint_classifier/keypoint_classifier_updated3.keras\n",
            "\u001b[1m753/753\u001b[0m \u001b[32m━━━━━━━━━━━━━━━━━━━━\u001b[0m\u001b[37m\u001b[0m \u001b[1m7s\u001b[0m 9ms/step - accuracy: 0.9878 - loss: 0.0786 - val_accuracy: 0.9995 - val_loss: 0.0393 - learning_rate: 2.5000e-04\n",
            "Epoch 53/200\n",
            "\u001b[1m750/753\u001b[0m \u001b[32m━━━━━━━━━━━━━━━━━━━\u001b[0m\u001b[37m━\u001b[0m \u001b[1m0s\u001b[0m 8ms/step - accuracy: 0.9880 - loss: 0.0749\n",
            "Epoch 53: saving model to model/keypoint_classifier/keypoint_classifier_updated3.keras\n",
            "\u001b[1m753/753\u001b[0m \u001b[32m━━━━━━━━━━━━━━━━━━━━\u001b[0m\u001b[37m\u001b[0m \u001b[1m6s\u001b[0m 8ms/step - accuracy: 0.9880 - loss: 0.0749 - val_accuracy: 0.9993 - val_loss: 0.0392 - learning_rate: 2.5000e-04\n",
            "Epoch 54/200\n",
            "\u001b[1m752/753\u001b[0m \u001b[32m━━━━━━━━━━━━━━━━━━━\u001b[0m\u001b[37m━\u001b[0m \u001b[1m0s\u001b[0m 8ms/step - accuracy: 0.9890 - loss: 0.0713\n",
            "Epoch 54: saving model to model/keypoint_classifier/keypoint_classifier_updated3.keras\n",
            "\u001b[1m753/753\u001b[0m \u001b[32m━━━━━━━━━━━━━━━━━━━━\u001b[0m\u001b[37m\u001b[0m \u001b[1m7s\u001b[0m 9ms/step - accuracy: 0.9890 - loss: 0.0713 - val_accuracy: 0.9990 - val_loss: 0.0400 - learning_rate: 2.5000e-04\n",
            "Epoch 55/200\n",
            "\u001b[1m750/753\u001b[0m \u001b[32m━━━━━━━━━━━━━━━━━━━\u001b[0m\u001b[37m━\u001b[0m \u001b[1m0s\u001b[0m 5ms/step - accuracy: 0.9887 - loss: 0.0753\n",
            "Epoch 55: saving model to model/keypoint_classifier/keypoint_classifier_updated3.keras\n",
            "\u001b[1m753/753\u001b[0m \u001b[32m━━━━━━━━━━━━━━━━━━━━\u001b[0m\u001b[37m\u001b[0m \u001b[1m4s\u001b[0m 6ms/step - accuracy: 0.9887 - loss: 0.0753 - val_accuracy: 0.9990 - val_loss: 0.0387 - learning_rate: 2.5000e-04\n",
            "Epoch 56/200\n",
            "\u001b[1m744/753\u001b[0m \u001b[32m━━━━━━━━━━━━━━━━━━━\u001b[0m\u001b[37m━\u001b[0m \u001b[1m0s\u001b[0m 5ms/step - accuracy: 0.9883 - loss: 0.0748\n",
            "Epoch 56: saving model to model/keypoint_classifier/keypoint_classifier_updated3.keras\n",
            "\u001b[1m753/753\u001b[0m \u001b[32m━━━━━━━━━━━━━━━━━━━━\u001b[0m\u001b[37m\u001b[0m \u001b[1m4s\u001b[0m 6ms/step - accuracy: 0.9883 - loss: 0.0747 - val_accuracy: 0.9993 - val_loss: 0.0378 - learning_rate: 2.5000e-04\n",
            "Epoch 57/200\n",
            "\u001b[1m748/753\u001b[0m \u001b[32m━━━━━━━━━━━━━━━━━━━\u001b[0m\u001b[37m━\u001b[0m \u001b[1m0s\u001b[0m 8ms/step - accuracy: 0.9879 - loss: 0.0773\n",
            "Epoch 57: saving model to model/keypoint_classifier/keypoint_classifier_updated3.keras\n",
            "\u001b[1m753/753\u001b[0m \u001b[32m━━━━━━━━━━━━━━━━━━━━\u001b[0m\u001b[37m\u001b[0m \u001b[1m7s\u001b[0m 9ms/step - accuracy: 0.9879 - loss: 0.0773 - val_accuracy: 0.9990 - val_loss: 0.0381 - learning_rate: 2.5000e-04\n",
            "Epoch 58/200\n",
            "\u001b[1m747/753\u001b[0m \u001b[32m━━━━━━━━━━━━━━━━━━━\u001b[0m\u001b[37m━\u001b[0m \u001b[1m0s\u001b[0m 8ms/step - accuracy: 0.9872 - loss: 0.0766\n",
            "Epoch 58: saving model to model/keypoint_classifier/keypoint_classifier_updated3.keras\n",
            "\u001b[1m753/753\u001b[0m \u001b[32m━━━━━━━━━━━━━━━━━━━━\u001b[0m\u001b[37m\u001b[0m \u001b[1m7s\u001b[0m 9ms/step - accuracy: 0.9872 - loss: 0.0766 - val_accuracy: 0.9995 - val_loss: 0.0360 - learning_rate: 2.5000e-04\n",
            "Epoch 59/200\n",
            "\u001b[1m752/753\u001b[0m \u001b[32m━━━━━━━━━━━━━━━━━━━\u001b[0m\u001b[37m━\u001b[0m \u001b[1m0s\u001b[0m 8ms/step - accuracy: 0.9898 - loss: 0.0695\n",
            "Epoch 59: saving model to model/keypoint_classifier/keypoint_classifier_updated3.keras\n",
            "\u001b[1m753/753\u001b[0m \u001b[32m━━━━━━━━━━━━━━━━━━━━\u001b[0m\u001b[37m\u001b[0m \u001b[1m6s\u001b[0m 8ms/step - accuracy: 0.9898 - loss: 0.0695 - val_accuracy: 0.9993 - val_loss: 0.0368 - learning_rate: 2.5000e-04\n",
            "Epoch 60/200\n",
            "\u001b[1m748/753\u001b[0m \u001b[32m━━━━━━━━━━━━━━━━━━━\u001b[0m\u001b[37m━\u001b[0m \u001b[1m0s\u001b[0m 7ms/step - accuracy: 0.9892 - loss: 0.0719\n",
            "Epoch 60: saving model to model/keypoint_classifier/keypoint_classifier_updated3.keras\n",
            "\u001b[1m753/753\u001b[0m \u001b[32m━━━━━━━━━━━━━━━━━━━━\u001b[0m\u001b[37m\u001b[0m \u001b[1m6s\u001b[0m 7ms/step - accuracy: 0.9892 - loss: 0.0719 - val_accuracy: 0.9995 - val_loss: 0.0356 - learning_rate: 2.5000e-04\n",
            "Epoch 61/200\n",
            "\u001b[1m747/753\u001b[0m \u001b[32m━━━━━━━━━━━━━━━━━━━\u001b[0m\u001b[37m━\u001b[0m \u001b[1m0s\u001b[0m 6ms/step - accuracy: 0.9877 - loss: 0.0745\n",
            "Epoch 61: saving model to model/keypoint_classifier/keypoint_classifier_updated3.keras\n",
            "\u001b[1m753/753\u001b[0m \u001b[32m━━━━━━━━━━━━━━━━━━━━\u001b[0m\u001b[37m\u001b[0m \u001b[1m5s\u001b[0m 7ms/step - accuracy: 0.9877 - loss: 0.0745 - val_accuracy: 0.9993 - val_loss: 0.0358 - learning_rate: 2.5000e-04\n",
            "Epoch 62/200\n",
            "\u001b[1m750/753\u001b[0m \u001b[32m━━━━━━━━━━━━━━━━━━━\u001b[0m\u001b[37m━\u001b[0m \u001b[1m0s\u001b[0m 8ms/step - accuracy: 0.9895 - loss: 0.0690\n",
            "Epoch 62: saving model to model/keypoint_classifier/keypoint_classifier_updated3.keras\n",
            "\u001b[1m753/753\u001b[0m \u001b[32m━━━━━━━━━━━━━━━━━━━━\u001b[0m\u001b[37m\u001b[0m \u001b[1m12s\u001b[0m 8ms/step - accuracy: 0.9895 - loss: 0.0691 - val_accuracy: 0.9980 - val_loss: 0.0400 - learning_rate: 2.5000e-04\n",
            "Epoch 63/200\n",
            "\u001b[1m753/753\u001b[0m \u001b[32m━━━━━━━━━━━━━━━━━━━━\u001b[0m\u001b[37m\u001b[0m \u001b[1m0s\u001b[0m 8ms/step - accuracy: 0.9881 - loss: 0.0713\n",
            "Epoch 63: saving model to model/keypoint_classifier/keypoint_classifier_updated3.keras\n",
            "\u001b[1m753/753\u001b[0m \u001b[32m━━━━━━━━━━━━━━━━━━━━\u001b[0m\u001b[37m\u001b[0m \u001b[1m7s\u001b[0m 9ms/step - accuracy: 0.9881 - loss: 0.0713 - val_accuracy: 0.9993 - val_loss: 0.0345 - learning_rate: 2.5000e-04\n",
            "Epoch 64/200\n",
            "\u001b[1m750/753\u001b[0m \u001b[32m━━━━━━━━━━━━━━━━━━━\u001b[0m\u001b[37m━\u001b[0m \u001b[1m0s\u001b[0m 7ms/step - accuracy: 0.9897 - loss: 0.0666\n",
            "Epoch 64: saving model to model/keypoint_classifier/keypoint_classifier_updated3.keras\n",
            "\u001b[1m753/753\u001b[0m \u001b[32m━━━━━━━━━━━━━━━━━━━━\u001b[0m\u001b[37m\u001b[0m \u001b[1m6s\u001b[0m 7ms/step - accuracy: 0.9897 - loss: 0.0666 - val_accuracy: 0.9988 - val_loss: 0.0369 - learning_rate: 2.5000e-04\n",
            "Epoch 65/200\n",
            "\u001b[1m745/753\u001b[0m \u001b[32m━━━━━━━━━━━━━━━━━━━\u001b[0m\u001b[37m━\u001b[0m \u001b[1m0s\u001b[0m 7ms/step - accuracy: 0.9889 - loss: 0.0688\n",
            "Epoch 65: saving model to model/keypoint_classifier/keypoint_classifier_updated3.keras\n",
            "\u001b[1m753/753\u001b[0m \u001b[32m━━━━━━━━━━━━━━━━━━━━\u001b[0m\u001b[37m\u001b[0m \u001b[1m6s\u001b[0m 7ms/step - accuracy: 0.9889 - loss: 0.0688 - val_accuracy: 0.9990 - val_loss: 0.0349 - learning_rate: 2.5000e-04\n",
            "Epoch 66/200\n",
            "\u001b[1m743/753\u001b[0m \u001b[32m━━━━━━━━━━━━━━━━━━━\u001b[0m\u001b[37m━\u001b[0m \u001b[1m0s\u001b[0m 5ms/step - accuracy: 0.9871 - loss: 0.0758\n",
            "Epoch 66: saving model to model/keypoint_classifier/keypoint_classifier_updated3.keras\n",
            "\u001b[1m753/753\u001b[0m \u001b[32m━━━━━━━━━━━━━━━━━━━━\u001b[0m\u001b[37m\u001b[0m \u001b[1m4s\u001b[0m 6ms/step - accuracy: 0.9871 - loss: 0.0757 - val_accuracy: 0.9988 - val_loss: 0.0359 - learning_rate: 2.5000e-04\n",
            "Epoch 67/200\n",
            "\u001b[1m753/753\u001b[0m \u001b[32m━━━━━━━━━━━━━━━━━━━━\u001b[0m\u001b[37m\u001b[0m \u001b[1m0s\u001b[0m 8ms/step - accuracy: 0.9888 - loss: 0.0688\n",
            "Epoch 67: saving model to model/keypoint_classifier/keypoint_classifier_updated3.keras\n",
            "\u001b[1m753/753\u001b[0m \u001b[32m━━━━━━━━━━━━━━━━━━━━\u001b[0m\u001b[37m\u001b[0m \u001b[1m6s\u001b[0m 8ms/step - accuracy: 0.9888 - loss: 0.0688 - val_accuracy: 0.9993 - val_loss: 0.0338 - learning_rate: 2.5000e-04\n",
            "Epoch 68/200\n",
            "\u001b[1m753/753\u001b[0m \u001b[32m━━━━━━━━━━━━━━━━━━━━\u001b[0m\u001b[37m\u001b[0m \u001b[1m0s\u001b[0m 7ms/step - accuracy: 0.9898 - loss: 0.0663\n",
            "Epoch 68: saving model to model/keypoint_classifier/keypoint_classifier_updated3.keras\n",
            "\u001b[1m753/753\u001b[0m \u001b[32m━━━━━━━━━━━━━━━━━━━━\u001b[0m\u001b[37m\u001b[0m \u001b[1m10s\u001b[0m 8ms/step - accuracy: 0.9898 - loss: 0.0663 - val_accuracy: 0.9993 - val_loss: 0.0323 - learning_rate: 2.5000e-04\n",
            "Epoch 69/200\n",
            "\u001b[1m752/753\u001b[0m \u001b[32m━━━━━━━━━━━━━━━━━━━\u001b[0m\u001b[37m━\u001b[0m \u001b[1m0s\u001b[0m 10ms/step - accuracy: 0.9883 - loss: 0.0718\n",
            "Epoch 69: saving model to model/keypoint_classifier/keypoint_classifier_updated3.keras\n",
            "\u001b[1m753/753\u001b[0m \u001b[32m━━━━━━━━━━━━━━━━━━━━\u001b[0m\u001b[37m\u001b[0m \u001b[1m8s\u001b[0m 11ms/step - accuracy: 0.9884 - loss: 0.0718 - val_accuracy: 0.9995 - val_loss: 0.0335 - learning_rate: 2.5000e-04\n",
            "Epoch 70/200\n",
            "\u001b[1m752/753\u001b[0m \u001b[32m━━━━━━━━━━━━━━━━━━━\u001b[0m\u001b[37m━\u001b[0m \u001b[1m0s\u001b[0m 6ms/step - accuracy: 0.9879 - loss: 0.0725\n",
            "Epoch 70: saving model to model/keypoint_classifier/keypoint_classifier_updated3.keras\n",
            "\u001b[1m753/753\u001b[0m \u001b[32m━━━━━━━━━━━━━━━━━━━━\u001b[0m\u001b[37m\u001b[0m \u001b[1m5s\u001b[0m 7ms/step - accuracy: 0.9879 - loss: 0.0725 - val_accuracy: 0.9993 - val_loss: 0.0327 - learning_rate: 2.5000e-04\n",
            "Epoch 71/200\n",
            "\u001b[1m749/753\u001b[0m \u001b[32m━━━━━━━━━━━━━━━━━━━\u001b[0m\u001b[37m━\u001b[0m \u001b[1m0s\u001b[0m 5ms/step - accuracy: 0.9885 - loss: 0.0696\n",
            "Epoch 71: saving model to model/keypoint_classifier/keypoint_classifier_updated3.keras\n",
            "\u001b[1m753/753\u001b[0m \u001b[32m━━━━━━━━━━━━━━━━━━━━\u001b[0m\u001b[37m\u001b[0m \u001b[1m4s\u001b[0m 6ms/step - accuracy: 0.9885 - loss: 0.0696 - val_accuracy: 0.9993 - val_loss: 0.0343 - learning_rate: 2.5000e-04\n",
            "Epoch 72/200\n",
            "\u001b[1m751/753\u001b[0m \u001b[32m━━━━━━━━━━━━━━━━━━━\u001b[0m\u001b[37m━\u001b[0m \u001b[1m0s\u001b[0m 6ms/step - accuracy: 0.9888 - loss: 0.0685\n",
            "Epoch 72: saving model to model/keypoint_classifier/keypoint_classifier_updated3.keras\n",
            "\u001b[1m753/753\u001b[0m \u001b[32m━━━━━━━━━━━━━━━━━━━━\u001b[0m\u001b[37m\u001b[0m \u001b[1m5s\u001b[0m 7ms/step - accuracy: 0.9888 - loss: 0.0685 - val_accuracy: 0.9995 - val_loss: 0.0318 - learning_rate: 2.5000e-04\n",
            "Epoch 73/200\n",
            "\u001b[1m745/753\u001b[0m \u001b[32m━━━━━━━━━━━━━━━━━━━\u001b[0m\u001b[37m━\u001b[0m \u001b[1m0s\u001b[0m 6ms/step - accuracy: 0.9896 - loss: 0.0647\n",
            "Epoch 73: saving model to model/keypoint_classifier/keypoint_classifier_updated3.keras\n",
            "\u001b[1m753/753\u001b[0m \u001b[32m━━━━━━━━━━━━━━━━━━━━\u001b[0m\u001b[37m\u001b[0m \u001b[1m5s\u001b[0m 7ms/step - accuracy: 0.9896 - loss: 0.0647 - val_accuracy: 0.9985 - val_loss: 0.0355 - learning_rate: 2.5000e-04\n",
            "Epoch 74/200\n",
            "\u001b[1m747/753\u001b[0m \u001b[32m━━━━━━━━━━━━━━━━━━━\u001b[0m\u001b[37m━\u001b[0m \u001b[1m0s\u001b[0m 10ms/step - accuracy: 0.9878 - loss: 0.0723\n",
            "Epoch 74: saving model to model/keypoint_classifier/keypoint_classifier_updated3.keras\n",
            "\u001b[1m753/753\u001b[0m \u001b[32m━━━━━━━━━━━━━━━━━━━━\u001b[0m\u001b[37m\u001b[0m \u001b[1m8s\u001b[0m 10ms/step - accuracy: 0.9878 - loss: 0.0723 - val_accuracy: 0.9985 - val_loss: 0.0332 - learning_rate: 2.5000e-04\n",
            "Epoch 75/200\n",
            "\u001b[1m741/753\u001b[0m \u001b[32m━━━━━━━━━━━━━━━━━━━\u001b[0m\u001b[37m━\u001b[0m \u001b[1m0s\u001b[0m 6ms/step - accuracy: 0.9885 - loss: 0.0674\n",
            "Epoch 75: saving model to model/keypoint_classifier/keypoint_classifier_updated3.keras\n",
            "\u001b[1m753/753\u001b[0m \u001b[32m━━━━━━━━━━━━━━━━━━━━\u001b[0m\u001b[37m\u001b[0m \u001b[1m5s\u001b[0m 7ms/step - accuracy: 0.9885 - loss: 0.0674 - val_accuracy: 0.9995 - val_loss: 0.0315 - learning_rate: 2.5000e-04\n",
            "Epoch 76/200\n",
            "\u001b[1m752/753\u001b[0m \u001b[32m━━━━━━━━━━━━━━━━━━━\u001b[0m\u001b[37m━\u001b[0m \u001b[1m0s\u001b[0m 5ms/step - accuracy: 0.9894 - loss: 0.0653\n",
            "Epoch 76: saving model to model/keypoint_classifier/keypoint_classifier_updated3.keras\n",
            "\u001b[1m753/753\u001b[0m \u001b[32m━━━━━━━━━━━━━━━━━━━━\u001b[0m\u001b[37m\u001b[0m \u001b[1m5s\u001b[0m 6ms/step - accuracy: 0.9894 - loss: 0.0653 - val_accuracy: 0.9988 - val_loss: 0.0329 - learning_rate: 2.5000e-04\n",
            "Epoch 77/200\n",
            "\u001b[1m745/753\u001b[0m \u001b[32m━━━━━━━━━━━━━━━━━━━\u001b[0m\u001b[37m━\u001b[0m \u001b[1m0s\u001b[0m 5ms/step - accuracy: 0.9890 - loss: 0.0680\n",
            "Epoch 77: saving model to model/keypoint_classifier/keypoint_classifier_updated3.keras\n",
            "\u001b[1m753/753\u001b[0m \u001b[32m━━━━━━━━━━━━━━━━━━━━\u001b[0m\u001b[37m\u001b[0m \u001b[1m4s\u001b[0m 6ms/step - accuracy: 0.9890 - loss: 0.0680 - val_accuracy: 0.9995 - val_loss: 0.0308 - learning_rate: 2.5000e-04\n",
            "Epoch 78/200\n",
            "\u001b[1m744/753\u001b[0m \u001b[32m━━━━━━━━━━━━━━━━━━━\u001b[0m\u001b[37m━\u001b[0m \u001b[1m0s\u001b[0m 5ms/step - accuracy: 0.9896 - loss: 0.0639\n",
            "Epoch 78: saving model to model/keypoint_classifier/keypoint_classifier_updated3.keras\n",
            "\u001b[1m753/753\u001b[0m \u001b[32m━━━━━━━━━━━━━━━━━━━━\u001b[0m\u001b[37m\u001b[0m \u001b[1m4s\u001b[0m 5ms/step - accuracy: 0.9896 - loss: 0.0639 - val_accuracy: 0.9985 - val_loss: 0.0327 - learning_rate: 2.5000e-04\n",
            "Epoch 79/200\n",
            "\u001b[1m748/753\u001b[0m \u001b[32m━━━━━━━━━━━━━━━━━━━\u001b[0m\u001b[37m━\u001b[0m \u001b[1m0s\u001b[0m 5ms/step - accuracy: 0.9885 - loss: 0.0661\n",
            "Epoch 79: saving model to model/keypoint_classifier/keypoint_classifier_updated3.keras\n",
            "\u001b[1m753/753\u001b[0m \u001b[32m━━━━━━━━━━━━━━━━━━━━\u001b[0m\u001b[37m\u001b[0m \u001b[1m4s\u001b[0m 6ms/step - accuracy: 0.9885 - loss: 0.0661 - val_accuracy: 0.9998 - val_loss: 0.0313 - learning_rate: 2.5000e-04\n",
            "Epoch 80/200\n",
            "\u001b[1m750/753\u001b[0m \u001b[32m━━━━━━━━━━━━━━━━━━━\u001b[0m\u001b[37m━\u001b[0m \u001b[1m0s\u001b[0m 5ms/step - accuracy: 0.9891 - loss: 0.0657\n",
            "Epoch 80: saving model to model/keypoint_classifier/keypoint_classifier_updated3.keras\n",
            "\u001b[1m753/753\u001b[0m \u001b[32m━━━━━━━━━━━━━━━━━━━━\u001b[0m\u001b[37m\u001b[0m \u001b[1m4s\u001b[0m 5ms/step - accuracy: 0.9891 - loss: 0.0657 - val_accuracy: 0.9993 - val_loss: 0.0316 - learning_rate: 2.5000e-04\n",
            "Epoch 81/200\n",
            "\u001b[1m748/753\u001b[0m \u001b[32m━━━━━━━━━━━━━━━━━━━\u001b[0m\u001b[37m━\u001b[0m \u001b[1m0s\u001b[0m 5ms/step - accuracy: 0.9882 - loss: 0.0677\n",
            "Epoch 81: saving model to model/keypoint_classifier/keypoint_classifier_updated3.keras\n",
            "\u001b[1m753/753\u001b[0m \u001b[32m━━━━━━━━━━━━━━━━━━━━\u001b[0m\u001b[37m\u001b[0m \u001b[1m4s\u001b[0m 5ms/step - accuracy: 0.9882 - loss: 0.0677 - val_accuracy: 0.9990 - val_loss: 0.0327 - learning_rate: 2.5000e-04\n",
            "Epoch 82/200\n",
            "\u001b[1m747/753\u001b[0m \u001b[32m━━━━━━━━━━━━━━━━━━━\u001b[0m\u001b[37m━\u001b[0m \u001b[1m0s\u001b[0m 5ms/step - accuracy: 0.9902 - loss: 0.0613\n",
            "Epoch 82: saving model to model/keypoint_classifier/keypoint_classifier_updated3.keras\n",
            "\u001b[1m753/753\u001b[0m \u001b[32m━━━━━━━━━━━━━━━━━━━━\u001b[0m\u001b[37m\u001b[0m \u001b[1m4s\u001b[0m 6ms/step - accuracy: 0.9902 - loss: 0.0613 - val_accuracy: 0.9998 - val_loss: 0.0297 - learning_rate: 2.5000e-04\n",
            "Epoch 83/200\n",
            "\u001b[1m753/753\u001b[0m \u001b[32m━━━━━━━━━━━━━━━━━━━━\u001b[0m\u001b[37m\u001b[0m \u001b[1m0s\u001b[0m 5ms/step - accuracy: 0.9884 - loss: 0.0687\n",
            "Epoch 83: saving model to model/keypoint_classifier/keypoint_classifier_updated3.keras\n",
            "\u001b[1m753/753\u001b[0m \u001b[32m━━━━━━━━━━━━━━━━━━━━\u001b[0m\u001b[37m\u001b[0m \u001b[1m4s\u001b[0m 6ms/step - accuracy: 0.9884 - loss: 0.0687 - val_accuracy: 0.9990 - val_loss: 0.0311 - learning_rate: 2.5000e-04\n",
            "Epoch 84/200\n",
            "\u001b[1m746/753\u001b[0m \u001b[32m━━━━━━━━━━━━━━━━━━━\u001b[0m\u001b[37m━\u001b[0m \u001b[1m0s\u001b[0m 5ms/step - accuracy: 0.9892 - loss: 0.0636\n",
            "Epoch 84: saving model to model/keypoint_classifier/keypoint_classifier_updated3.keras\n",
            "\u001b[1m753/753\u001b[0m \u001b[32m━━━━━━━━━━━━━━━━━━━━\u001b[0m\u001b[37m\u001b[0m \u001b[1m4s\u001b[0m 5ms/step - accuracy: 0.9892 - loss: 0.0636 - val_accuracy: 0.9993 - val_loss: 0.0303 - learning_rate: 2.5000e-04\n",
            "Epoch 85/200\n",
            "\u001b[1m753/753\u001b[0m \u001b[32m━━━━━━━━━━━━━━━━━━━━\u001b[0m\u001b[37m\u001b[0m \u001b[1m0s\u001b[0m 5ms/step - accuracy: 0.9903 - loss: 0.0596\n",
            "Epoch 85: saving model to model/keypoint_classifier/keypoint_classifier_updated3.keras\n",
            "\u001b[1m753/753\u001b[0m \u001b[32m━━━━━━━━━━━━━━━━━━━━\u001b[0m\u001b[37m\u001b[0m \u001b[1m4s\u001b[0m 6ms/step - accuracy: 0.9903 - loss: 0.0596 - val_accuracy: 0.9988 - val_loss: 0.0324 - learning_rate: 2.5000e-04\n",
            "Epoch 86/200\n",
            "\u001b[1m744/753\u001b[0m \u001b[32m━━━━━━━━━━━━━━━━━━━\u001b[0m\u001b[37m━\u001b[0m \u001b[1m0s\u001b[0m 5ms/step - accuracy: 0.9897 - loss: 0.0620\n",
            "Epoch 86: saving model to model/keypoint_classifier/keypoint_classifier_updated3.keras\n",
            "\u001b[1m753/753\u001b[0m \u001b[32m━━━━━━━━━━━━━━━━━━━━\u001b[0m\u001b[37m\u001b[0m \u001b[1m4s\u001b[0m 5ms/step - accuracy: 0.9897 - loss: 0.0620 - val_accuracy: 0.9995 - val_loss: 0.0295 - learning_rate: 2.5000e-04\n",
            "Epoch 87/200\n",
            "\u001b[1m748/753\u001b[0m \u001b[32m━━━━━━━━━━━━━━━━━━━\u001b[0m\u001b[37m━\u001b[0m \u001b[1m0s\u001b[0m 5ms/step - accuracy: 0.9885 - loss: 0.0651\n",
            "Epoch 87: saving model to model/keypoint_classifier/keypoint_classifier_updated3.keras\n",
            "\u001b[1m753/753\u001b[0m \u001b[32m━━━━━━━━━━━━━━━━━━━━\u001b[0m\u001b[37m\u001b[0m \u001b[1m4s\u001b[0m 6ms/step - accuracy: 0.9885 - loss: 0.0651 - val_accuracy: 0.9995 - val_loss: 0.0297 - learning_rate: 2.5000e-04\n",
            "Epoch 88/200\n",
            "\u001b[1m751/753\u001b[0m \u001b[32m━━━━━━━━━━━━━━━━━━━\u001b[0m\u001b[37m━\u001b[0m \u001b[1m0s\u001b[0m 5ms/step - accuracy: 0.9899 - loss: 0.0649\n",
            "Epoch 88: saving model to model/keypoint_classifier/keypoint_classifier_updated3.keras\n",
            "\u001b[1m753/753\u001b[0m \u001b[32m━━━━━━━━━━━━━━━━━━━━\u001b[0m\u001b[37m\u001b[0m \u001b[1m5s\u001b[0m 6ms/step - accuracy: 0.9899 - loss: 0.0649 - val_accuracy: 0.9995 - val_loss: 0.0293 - learning_rate: 2.5000e-04\n",
            "Epoch 89/200\n",
            "\u001b[1m745/753\u001b[0m \u001b[32m━━━━━━━━━━━━━━━━━━━\u001b[0m\u001b[37m━\u001b[0m \u001b[1m0s\u001b[0m 5ms/step - accuracy: 0.9895 - loss: 0.0628\n",
            "Epoch 89: saving model to model/keypoint_classifier/keypoint_classifier_updated3.keras\n",
            "\u001b[1m753/753\u001b[0m \u001b[32m━━━━━━━━━━━━━━━━━━━━\u001b[0m\u001b[37m\u001b[0m \u001b[1m4s\u001b[0m 6ms/step - accuracy: 0.9895 - loss: 0.0628 - val_accuracy: 0.9995 - val_loss: 0.0303 - learning_rate: 2.5000e-04\n",
            "Epoch 90/200\n",
            "\u001b[1m747/753\u001b[0m \u001b[32m━━━━━━━━━━━━━━━━━━━\u001b[0m\u001b[37m━\u001b[0m \u001b[1m0s\u001b[0m 5ms/step - accuracy: 0.9900 - loss: 0.0652\n",
            "Epoch 90: saving model to model/keypoint_classifier/keypoint_classifier_updated3.keras\n",
            "\u001b[1m753/753\u001b[0m \u001b[32m━━━━━━━━━━━━━━━━━━━━\u001b[0m\u001b[37m\u001b[0m \u001b[1m4s\u001b[0m 6ms/step - accuracy: 0.9900 - loss: 0.0652 - val_accuracy: 0.9983 - val_loss: 0.0326 - learning_rate: 2.5000e-04\n",
            "Epoch 91/200\n",
            "\u001b[1m742/753\u001b[0m \u001b[32m━━━━━━━━━━━━━━━━━━━\u001b[0m\u001b[37m━\u001b[0m \u001b[1m0s\u001b[0m 5ms/step - accuracy: 0.9878 - loss: 0.0682\n",
            "Epoch 91: saving model to model/keypoint_classifier/keypoint_classifier_updated3.keras\n",
            "\u001b[1m753/753\u001b[0m \u001b[32m━━━━━━━━━━━━━━━━━━━━\u001b[0m\u001b[37m\u001b[0m \u001b[1m4s\u001b[0m 6ms/step - accuracy: 0.9878 - loss: 0.0682 - val_accuracy: 0.9995 - val_loss: 0.0306 - learning_rate: 2.5000e-04\n",
            "Epoch 92/200\n",
            "\u001b[1m743/753\u001b[0m \u001b[32m━━━━━━━━━━━━━━━━━━━\u001b[0m\u001b[37m━\u001b[0m \u001b[1m0s\u001b[0m 5ms/step - accuracy: 0.9891 - loss: 0.0663\n",
            "Epoch 92: saving model to model/keypoint_classifier/keypoint_classifier_updated3.keras\n",
            "\u001b[1m753/753\u001b[0m \u001b[32m━━━━━━━━━━━━━━━━━━━━\u001b[0m\u001b[37m\u001b[0m \u001b[1m4s\u001b[0m 6ms/step - accuracy: 0.9891 - loss: 0.0662 - val_accuracy: 0.9993 - val_loss: 0.0299 - learning_rate: 2.5000e-04\n",
            "Epoch 93/200\n",
            "\u001b[1m749/753\u001b[0m \u001b[32m━━━━━━━━━━━━━━━━━━━\u001b[0m\u001b[37m━\u001b[0m \u001b[1m0s\u001b[0m 6ms/step - accuracy: 0.9883 - loss: 0.0640\n",
            "Epoch 93: saving model to model/keypoint_classifier/keypoint_classifier_updated3.keras\n",
            "\n",
            "Epoch 93: ReduceLROnPlateau reducing learning rate to 0.0001250000059371814.\n",
            "\u001b[1m753/753\u001b[0m \u001b[32m━━━━━━━━━━━━━━━━━━━━\u001b[0m\u001b[37m\u001b[0m \u001b[1m5s\u001b[0m 7ms/step - accuracy: 0.9883 - loss: 0.0640 - val_accuracy: 0.9993 - val_loss: 0.0306 - learning_rate: 2.5000e-04\n",
            "Epoch 94/200\n",
            "\u001b[1m750/753\u001b[0m \u001b[32m━━━━━━━━━━━━━━━━━━━\u001b[0m\u001b[37m━\u001b[0m \u001b[1m0s\u001b[0m 5ms/step - accuracy: 0.9904 - loss: 0.0621\n",
            "Epoch 94: saving model to model/keypoint_classifier/keypoint_classifier_updated3.keras\n",
            "\u001b[1m753/753\u001b[0m \u001b[32m━━━━━━━━━━━━━━━━━━━━\u001b[0m\u001b[37m\u001b[0m \u001b[1m5s\u001b[0m 6ms/step - accuracy: 0.9904 - loss: 0.0621 - val_accuracy: 0.9993 - val_loss: 0.0289 - learning_rate: 1.2500e-04\n",
            "Epoch 95/200\n",
            "\u001b[1m741/753\u001b[0m \u001b[32m━━━━━━━━━━━━━━━━━━━\u001b[0m\u001b[37m━\u001b[0m \u001b[1m0s\u001b[0m 5ms/step - accuracy: 0.9911 - loss: 0.0565\n",
            "Epoch 95: saving model to model/keypoint_classifier/keypoint_classifier_updated3.keras\n",
            "\u001b[1m753/753\u001b[0m \u001b[32m━━━━━━━━━━━━━━━━━━━━\u001b[0m\u001b[37m\u001b[0m \u001b[1m4s\u001b[0m 6ms/step - accuracy: 0.9910 - loss: 0.0565 - val_accuracy: 0.9995 - val_loss: 0.0295 - learning_rate: 1.2500e-04\n",
            "Epoch 96/200\n",
            "\u001b[1m748/753\u001b[0m \u001b[32m━━━━━━━━━━━━━━━━━━━\u001b[0m\u001b[37m━\u001b[0m \u001b[1m0s\u001b[0m 6ms/step - accuracy: 0.9926 - loss: 0.0515\n",
            "Epoch 96: saving model to model/keypoint_classifier/keypoint_classifier_updated3.keras\n",
            "\u001b[1m753/753\u001b[0m \u001b[32m━━━━━━━━━━━━━━━━━━━━\u001b[0m\u001b[37m\u001b[0m \u001b[1m5s\u001b[0m 6ms/step - accuracy: 0.9925 - loss: 0.0515 - val_accuracy: 0.9998 - val_loss: 0.0273 - learning_rate: 1.2500e-04\n",
            "Epoch 97/200\n",
            "\u001b[1m750/753\u001b[0m \u001b[32m━━━━━━━━━━━━━━━━━━━\u001b[0m\u001b[37m━\u001b[0m \u001b[1m0s\u001b[0m 6ms/step - accuracy: 0.9920 - loss: 0.0554\n",
            "Epoch 97: saving model to model/keypoint_classifier/keypoint_classifier_updated3.keras\n",
            "\u001b[1m753/753\u001b[0m \u001b[32m━━━━━━━━━━━━━━━━━━━━\u001b[0m\u001b[37m\u001b[0m \u001b[1m5s\u001b[0m 6ms/step - accuracy: 0.9920 - loss: 0.0554 - val_accuracy: 0.9988 - val_loss: 0.0292 - learning_rate: 1.2500e-04\n",
            "Epoch 98/200\n",
            "\u001b[1m748/753\u001b[0m \u001b[32m━━━━━━━━━━━━━━━━━━━\u001b[0m\u001b[37m━\u001b[0m \u001b[1m0s\u001b[0m 6ms/step - accuracy: 0.9920 - loss: 0.0537\n",
            "Epoch 98: saving model to model/keypoint_classifier/keypoint_classifier_updated3.keras\n",
            "\u001b[1m753/753\u001b[0m \u001b[32m━━━━━━━━━━━━━━━━━━━━\u001b[0m\u001b[37m\u001b[0m \u001b[1m5s\u001b[0m 6ms/step - accuracy: 0.9920 - loss: 0.0537 - val_accuracy: 0.9995 - val_loss: 0.0266 - learning_rate: 1.2500e-04\n",
            "Epoch 99/200\n",
            "\u001b[1m749/753\u001b[0m \u001b[32m━━━━━━━━━━━━━━━━━━━\u001b[0m\u001b[37m━\u001b[0m \u001b[1m0s\u001b[0m 5ms/step - accuracy: 0.9910 - loss: 0.0562\n",
            "Epoch 99: saving model to model/keypoint_classifier/keypoint_classifier_updated3.keras\n",
            "\u001b[1m753/753\u001b[0m \u001b[32m━━━━━━━━━━━━━━━━━━━━\u001b[0m\u001b[37m\u001b[0m \u001b[1m4s\u001b[0m 6ms/step - accuracy: 0.9910 - loss: 0.0562 - val_accuracy: 0.9995 - val_loss: 0.0272 - learning_rate: 1.2500e-04\n",
            "Epoch 100/200\n",
            "\u001b[1m745/753\u001b[0m \u001b[32m━━━━━━━━━━━━━━━━━━━\u001b[0m\u001b[37m━\u001b[0m \u001b[1m0s\u001b[0m 5ms/step - accuracy: 0.9914 - loss: 0.0540\n",
            "Epoch 100: saving model to model/keypoint_classifier/keypoint_classifier_updated3.keras\n",
            "\u001b[1m753/753\u001b[0m \u001b[32m━━━━━━━━━━━━━━━━━━━━\u001b[0m\u001b[37m\u001b[0m \u001b[1m4s\u001b[0m 5ms/step - accuracy: 0.9914 - loss: 0.0540 - val_accuracy: 0.9998 - val_loss: 0.0265 - learning_rate: 1.2500e-04\n",
            "Epoch 101/200\n",
            "\u001b[1m747/753\u001b[0m \u001b[32m━━━━━━━━━━━━━━━━━━━\u001b[0m\u001b[37m━\u001b[0m \u001b[1m0s\u001b[0m 6ms/step - accuracy: 0.9906 - loss: 0.0575\n",
            "Epoch 101: saving model to model/keypoint_classifier/keypoint_classifier_updated3.keras\n",
            "\u001b[1m753/753\u001b[0m \u001b[32m━━━━━━━━━━━━━━━━━━━━\u001b[0m\u001b[37m\u001b[0m \u001b[1m5s\u001b[0m 6ms/step - accuracy: 0.9906 - loss: 0.0575 - val_accuracy: 0.9995 - val_loss: 0.0264 - learning_rate: 1.2500e-04\n",
            "Epoch 102/200\n",
            "\u001b[1m741/753\u001b[0m \u001b[32m━━━━━━━━━━━━━━━━━━━\u001b[0m\u001b[37m━\u001b[0m \u001b[1m0s\u001b[0m 5ms/step - accuracy: 0.9912 - loss: 0.0542\n",
            "Epoch 102: saving model to model/keypoint_classifier/keypoint_classifier_updated3.keras\n",
            "\u001b[1m753/753\u001b[0m \u001b[32m━━━━━━━━━━━━━━━━━━━━\u001b[0m\u001b[37m\u001b[0m \u001b[1m4s\u001b[0m 6ms/step - accuracy: 0.9912 - loss: 0.0542 - val_accuracy: 0.9995 - val_loss: 0.0266 - learning_rate: 1.2500e-04\n",
            "Epoch 103/200\n",
            "\u001b[1m743/753\u001b[0m \u001b[32m━━━━━━━━━━━━━━━━━━━\u001b[0m\u001b[37m━\u001b[0m \u001b[1m0s\u001b[0m 5ms/step - accuracy: 0.9911 - loss: 0.0530\n",
            "Epoch 103: saving model to model/keypoint_classifier/keypoint_classifier_updated3.keras\n",
            "\u001b[1m753/753\u001b[0m \u001b[32m━━━━━━━━━━━━━━━━━━━━\u001b[0m\u001b[37m\u001b[0m \u001b[1m4s\u001b[0m 5ms/step - accuracy: 0.9911 - loss: 0.0530 - val_accuracy: 0.9993 - val_loss: 0.0277 - learning_rate: 1.2500e-04\n",
            "Epoch 104/200\n",
            "\u001b[1m751/753\u001b[0m \u001b[32m━━━━━━━━━━━━━━━━━━━\u001b[0m\u001b[37m━\u001b[0m \u001b[1m0s\u001b[0m 5ms/step - accuracy: 0.9921 - loss: 0.0505\n",
            "Epoch 104: saving model to model/keypoint_classifier/keypoint_classifier_updated3.keras\n",
            "\u001b[1m753/753\u001b[0m \u001b[32m━━━━━━━━━━━━━━━━━━━━\u001b[0m\u001b[37m\u001b[0m \u001b[1m4s\u001b[0m 6ms/step - accuracy: 0.9921 - loss: 0.0505 - val_accuracy: 0.9995 - val_loss: 0.0262 - learning_rate: 1.2500e-04\n",
            "Epoch 105/200\n",
            "\u001b[1m752/753\u001b[0m \u001b[32m━━━━━━━━━━━━━━━━━━━\u001b[0m\u001b[37m━\u001b[0m \u001b[1m0s\u001b[0m 5ms/step - accuracy: 0.9914 - loss: 0.0501\n",
            "Epoch 105: saving model to model/keypoint_classifier/keypoint_classifier_updated3.keras\n",
            "\u001b[1m753/753\u001b[0m \u001b[32m━━━━━━━━━━━━━━━━━━━━\u001b[0m\u001b[37m\u001b[0m \u001b[1m5s\u001b[0m 6ms/step - accuracy: 0.9914 - loss: 0.0501 - val_accuracy: 0.9998 - val_loss: 0.0251 - learning_rate: 1.2500e-04\n",
            "Epoch 106/200\n",
            "\u001b[1m752/753\u001b[0m \u001b[32m━━━━━━━━━━━━━━━━━━━\u001b[0m\u001b[37m━\u001b[0m \u001b[1m0s\u001b[0m 5ms/step - accuracy: 0.9924 - loss: 0.0486\n",
            "Epoch 106: saving model to model/keypoint_classifier/keypoint_classifier_updated3.keras\n",
            "\u001b[1m753/753\u001b[0m \u001b[32m━━━━━━━━━━━━━━━━━━━━\u001b[0m\u001b[37m\u001b[0m \u001b[1m4s\u001b[0m 5ms/step - accuracy: 0.9924 - loss: 0.0486 - val_accuracy: 0.9995 - val_loss: 0.0251 - learning_rate: 1.2500e-04\n",
            "Epoch 107/200\n",
            "\u001b[1m748/753\u001b[0m \u001b[32m━━━━━━━━━━━━━━━━━━━\u001b[0m\u001b[37m━\u001b[0m \u001b[1m0s\u001b[0m 6ms/step - accuracy: 0.9913 - loss: 0.0521\n",
            "Epoch 107: saving model to model/keypoint_classifier/keypoint_classifier_updated3.keras\n",
            "\u001b[1m753/753\u001b[0m \u001b[32m━━━━━━━━━━━━━━━━━━━━\u001b[0m\u001b[37m\u001b[0m \u001b[1m5s\u001b[0m 6ms/step - accuracy: 0.9913 - loss: 0.0521 - val_accuracy: 0.9995 - val_loss: 0.0258 - learning_rate: 1.2500e-04\n",
            "Epoch 108/200\n",
            "\u001b[1m751/753\u001b[0m \u001b[32m━━━━━━━━━━━━━━━━━━━\u001b[0m\u001b[37m━\u001b[0m \u001b[1m0s\u001b[0m 5ms/step - accuracy: 0.9919 - loss: 0.0535\n",
            "Epoch 108: saving model to model/keypoint_classifier/keypoint_classifier_updated3.keras\n",
            "\u001b[1m753/753\u001b[0m \u001b[32m━━━━━━━━━━━━━━━━━━━━\u001b[0m\u001b[37m\u001b[0m \u001b[1m5s\u001b[0m 6ms/step - accuracy: 0.9919 - loss: 0.0535 - val_accuracy: 0.9995 - val_loss: 0.0249 - learning_rate: 1.2500e-04\n",
            "Epoch 109/200\n",
            "\u001b[1m749/753\u001b[0m \u001b[32m━━━━━━━━━━━━━━━━━━━\u001b[0m\u001b[37m━\u001b[0m \u001b[1m0s\u001b[0m 6ms/step - accuracy: 0.9909 - loss: 0.0524\n",
            "Epoch 109: saving model to model/keypoint_classifier/keypoint_classifier_updated3.keras\n",
            "\u001b[1m753/753\u001b[0m \u001b[32m━━━━━━━━━━━━━━━━━━━━\u001b[0m\u001b[37m\u001b[0m \u001b[1m5s\u001b[0m 6ms/step - accuracy: 0.9909 - loss: 0.0524 - val_accuracy: 0.9998 - val_loss: 0.0253 - learning_rate: 1.2500e-04\n",
            "Epoch 110/200\n",
            "\u001b[1m751/753\u001b[0m \u001b[32m━━━━━━━━━━━━━━━━━━━\u001b[0m\u001b[37m━\u001b[0m \u001b[1m0s\u001b[0m 5ms/step - accuracy: 0.9931 - loss: 0.0453\n",
            "Epoch 110: saving model to model/keypoint_classifier/keypoint_classifier_updated3.keras\n",
            "\u001b[1m753/753\u001b[0m \u001b[32m━━━━━━━━━━━━━━━━━━━━\u001b[0m\u001b[37m\u001b[0m \u001b[1m5s\u001b[0m 6ms/step - accuracy: 0.9931 - loss: 0.0454 - val_accuracy: 0.9998 - val_loss: 0.0248 - learning_rate: 1.2500e-04\n",
            "Epoch 111/200\n",
            "\u001b[1m746/753\u001b[0m \u001b[32m━━━━━━━━━━━━━━━━━━━\u001b[0m\u001b[37m━\u001b[0m \u001b[1m0s\u001b[0m 5ms/step - accuracy: 0.9918 - loss: 0.0485\n",
            "Epoch 111: saving model to model/keypoint_classifier/keypoint_classifier_updated3.keras\n",
            "\u001b[1m753/753\u001b[0m \u001b[32m━━━━━━━━━━━━━━━━━━━━\u001b[0m\u001b[37m\u001b[0m \u001b[1m4s\u001b[0m 6ms/step - accuracy: 0.9918 - loss: 0.0485 - val_accuracy: 0.9995 - val_loss: 0.0257 - learning_rate: 1.2500e-04\n",
            "Epoch 112/200\n",
            "\u001b[1m745/753\u001b[0m \u001b[32m━━━━━━━━━━━━━━━━━━━\u001b[0m\u001b[37m━\u001b[0m \u001b[1m0s\u001b[0m 5ms/step - accuracy: 0.9918 - loss: 0.0500\n",
            "Epoch 112: saving model to model/keypoint_classifier/keypoint_classifier_updated3.keras\n",
            "\u001b[1m753/753\u001b[0m \u001b[32m━━━━━━━━━━━━━━━━━━━━\u001b[0m\u001b[37m\u001b[0m \u001b[1m5s\u001b[0m 6ms/step - accuracy: 0.9918 - loss: 0.0500 - val_accuracy: 0.9995 - val_loss: 0.0244 - learning_rate: 1.2500e-04\n",
            "Epoch 113/200\n",
            "\u001b[1m748/753\u001b[0m \u001b[32m━━━━━━━━━━━━━━━━━━━\u001b[0m\u001b[37m━\u001b[0m \u001b[1m0s\u001b[0m 5ms/step - accuracy: 0.9906 - loss: 0.0534\n",
            "Epoch 113: saving model to model/keypoint_classifier/keypoint_classifier_updated3.keras\n",
            "\u001b[1m753/753\u001b[0m \u001b[32m━━━━━━━━━━━━━━━━━━━━\u001b[0m\u001b[37m\u001b[0m \u001b[1m4s\u001b[0m 6ms/step - accuracy: 0.9906 - loss: 0.0534 - val_accuracy: 0.9998 - val_loss: 0.0242 - learning_rate: 1.2500e-04\n",
            "Epoch 114/200\n",
            "\u001b[1m753/753\u001b[0m \u001b[32m━━━━━━━━━━━━━━━━━━━━\u001b[0m\u001b[37m\u001b[0m \u001b[1m0s\u001b[0m 5ms/step - accuracy: 0.9921 - loss: 0.0487\n",
            "Epoch 114: saving model to model/keypoint_classifier/keypoint_classifier_updated3.keras\n",
            "\u001b[1m753/753\u001b[0m \u001b[32m━━━━━━━━━━━━━━━━━━━━\u001b[0m\u001b[37m\u001b[0m \u001b[1m5s\u001b[0m 6ms/step - accuracy: 0.9921 - loss: 0.0487 - val_accuracy: 0.9998 - val_loss: 0.0244 - learning_rate: 1.2500e-04\n",
            "Epoch 115/200\n",
            "\u001b[1m753/753\u001b[0m \u001b[32m━━━━━━━━━━━━━━━━━━━━\u001b[0m\u001b[37m\u001b[0m \u001b[1m0s\u001b[0m 5ms/step - accuracy: 0.9922 - loss: 0.0512\n",
            "Epoch 115: saving model to model/keypoint_classifier/keypoint_classifier_updated3.keras\n",
            "\u001b[1m753/753\u001b[0m \u001b[32m━━━━━━━━━━━━━━━━━━━━\u001b[0m\u001b[37m\u001b[0m \u001b[1m5s\u001b[0m 6ms/step - accuracy: 0.9922 - loss: 0.0512 - val_accuracy: 0.9993 - val_loss: 0.0247 - learning_rate: 1.2500e-04\n",
            "Epoch 116/200\n",
            "\u001b[1m750/753\u001b[0m \u001b[32m━━━━━━━━━━━━━━━━━━━\u001b[0m\u001b[37m━\u001b[0m \u001b[1m0s\u001b[0m 5ms/step - accuracy: 0.9923 - loss: 0.0481\n",
            "Epoch 116: saving model to model/keypoint_classifier/keypoint_classifier_updated3.keras\n",
            "\u001b[1m753/753\u001b[0m \u001b[32m━━━━━━━━━━━━━━━━━━━━\u001b[0m\u001b[37m\u001b[0m \u001b[1m5s\u001b[0m 6ms/step - accuracy: 0.9923 - loss: 0.0481 - val_accuracy: 0.9998 - val_loss: 0.0246 - learning_rate: 1.2500e-04\n",
            "Epoch 117/200\n",
            "\u001b[1m744/753\u001b[0m \u001b[32m━━━━━━━━━━━━━━━━━━━\u001b[0m\u001b[37m━\u001b[0m \u001b[1m0s\u001b[0m 6ms/step - accuracy: 0.9919 - loss: 0.0500\n",
            "Epoch 117: saving model to model/keypoint_classifier/keypoint_classifier_updated3.keras\n",
            "\u001b[1m753/753\u001b[0m \u001b[32m━━━━━━━━━━━━━━━━━━━━\u001b[0m\u001b[37m\u001b[0m \u001b[1m5s\u001b[0m 7ms/step - accuracy: 0.9919 - loss: 0.0500 - val_accuracy: 0.9995 - val_loss: 0.0242 - learning_rate: 1.2500e-04\n",
            "Epoch 118/200\n",
            "\u001b[1m747/753\u001b[0m \u001b[32m━━━━━━━━━━━━━━━━━━━\u001b[0m\u001b[37m━\u001b[0m \u001b[1m0s\u001b[0m 8ms/step - accuracy: 0.9921 - loss: 0.0482\n",
            "Epoch 118: saving model to model/keypoint_classifier/keypoint_classifier_updated3.keras\n",
            "\u001b[1m753/753\u001b[0m \u001b[32m━━━━━━━━━━━━━━━━━━━━\u001b[0m\u001b[37m\u001b[0m \u001b[1m7s\u001b[0m 9ms/step - accuracy: 0.9921 - loss: 0.0482 - val_accuracy: 0.9995 - val_loss: 0.0237 - learning_rate: 1.2500e-04\n",
            "Epoch 119/200\n",
            "\u001b[1m749/753\u001b[0m \u001b[32m━━━━━━━━━━━━━━━━━━━\u001b[0m\u001b[37m━\u001b[0m \u001b[1m0s\u001b[0m 6ms/step - accuracy: 0.9915 - loss: 0.0506\n",
            "Epoch 119: saving model to model/keypoint_classifier/keypoint_classifier_updated3.keras\n",
            "\u001b[1m753/753\u001b[0m \u001b[32m━━━━━━━━━━━━━━━━━━━━\u001b[0m\u001b[37m\u001b[0m \u001b[1m5s\u001b[0m 7ms/step - accuracy: 0.9915 - loss: 0.0506 - val_accuracy: 0.9993 - val_loss: 0.0244 - learning_rate: 1.2500e-04\n",
            "Epoch 120/200\n",
            "\u001b[1m751/753\u001b[0m \u001b[32m━━━━━━━━━━━━━━━━━━━\u001b[0m\u001b[37m━\u001b[0m \u001b[1m0s\u001b[0m 9ms/step - accuracy: 0.9924 - loss: 0.0477\n",
            "Epoch 120: saving model to model/keypoint_classifier/keypoint_classifier_updated3.keras\n",
            "\u001b[1m753/753\u001b[0m \u001b[32m━━━━━━━━━━━━━━━━━━━━\u001b[0m\u001b[37m\u001b[0m \u001b[1m13s\u001b[0m 10ms/step - accuracy: 0.9924 - loss: 0.0477 - val_accuracy: 0.9995 - val_loss: 0.0244 - learning_rate: 1.2500e-04\n",
            "Epoch 121/200\n",
            "\u001b[1m752/753\u001b[0m \u001b[32m━━━━━━━━━━━━━━━━━━━\u001b[0m\u001b[37m━\u001b[0m \u001b[1m0s\u001b[0m 9ms/step - accuracy: 0.9931 - loss: 0.0484\n",
            "Epoch 121: saving model to model/keypoint_classifier/keypoint_classifier_updated3.keras\n",
            "\u001b[1m753/753\u001b[0m \u001b[32m━━━━━━━━━━━━━━━━━━━━\u001b[0m\u001b[37m\u001b[0m \u001b[1m7s\u001b[0m 10ms/step - accuracy: 0.9931 - loss: 0.0484 - val_accuracy: 0.9993 - val_loss: 0.0251 - learning_rate: 1.2500e-04\n",
            "Epoch 122/200\n",
            "\u001b[1m753/753\u001b[0m \u001b[32m━━━━━━━━━━━━━━━━━━━━\u001b[0m\u001b[37m\u001b[0m \u001b[1m0s\u001b[0m 9ms/step - accuracy: 0.9907 - loss: 0.0508\n",
            "Epoch 122: saving model to model/keypoint_classifier/keypoint_classifier_updated3.keras\n",
            "\u001b[1m753/753\u001b[0m \u001b[32m━━━━━━━━━━━━━━━━━━━━\u001b[0m\u001b[37m\u001b[0m \u001b[1m10s\u001b[0m 9ms/step - accuracy: 0.9907 - loss: 0.0508 - val_accuracy: 0.9995 - val_loss: 0.0235 - learning_rate: 1.2500e-04\n",
            "Epoch 123/200\n",
            "\u001b[1m747/753\u001b[0m \u001b[32m━━━━━━━━━━━━━━━━━━━\u001b[0m\u001b[37m━\u001b[0m \u001b[1m0s\u001b[0m 7ms/step - accuracy: 0.9924 - loss: 0.0452\n",
            "Epoch 123: saving model to model/keypoint_classifier/keypoint_classifier_updated3.keras\n",
            "\u001b[1m753/753\u001b[0m \u001b[32m━━━━━━━━━━━━━━━━━━━━\u001b[0m\u001b[37m\u001b[0m \u001b[1m6s\u001b[0m 8ms/step - accuracy: 0.9924 - loss: 0.0453 - val_accuracy: 0.9975 - val_loss: 0.0276 - learning_rate: 1.2500e-04\n",
            "Epoch 124/200\n",
            "\u001b[1m749/753\u001b[0m \u001b[32m━━━━━━━━━━━━━━━━━━━\u001b[0m\u001b[37m━\u001b[0m \u001b[1m0s\u001b[0m 7ms/step - accuracy: 0.9917 - loss: 0.0485\n",
            "Epoch 124: saving model to model/keypoint_classifier/keypoint_classifier_updated3.keras\n",
            "\u001b[1m753/753\u001b[0m \u001b[32m━━━━━━━━━━━━━━━━━━━━\u001b[0m\u001b[37m\u001b[0m \u001b[1m6s\u001b[0m 8ms/step - accuracy: 0.9917 - loss: 0.0485 - val_accuracy: 0.9993 - val_loss: 0.0236 - learning_rate: 1.2500e-04\n",
            "Epoch 125/200\n",
            "\u001b[1m753/753\u001b[0m \u001b[32m━━━━━━━━━━━━━━━━━━━━\u001b[0m\u001b[37m\u001b[0m \u001b[1m0s\u001b[0m 6ms/step - accuracy: 0.9923 - loss: 0.0453\n",
            "Epoch 125: saving model to model/keypoint_classifier/keypoint_classifier_updated3.keras\n",
            "\u001b[1m753/753\u001b[0m \u001b[32m━━━━━━━━━━━━━━━━━━━━\u001b[0m\u001b[37m\u001b[0m \u001b[1m5s\u001b[0m 7ms/step - accuracy: 0.9923 - loss: 0.0453 - val_accuracy: 0.9995 - val_loss: 0.0240 - learning_rate: 1.2500e-04\n",
            "Epoch 126/200\n",
            "\u001b[1m752/753\u001b[0m \u001b[32m━━━━━━━━━━━━━━━━━━━\u001b[0m\u001b[37m━\u001b[0m \u001b[1m0s\u001b[0m 8ms/step - accuracy: 0.9916 - loss: 0.0483\n",
            "Epoch 126: saving model to model/keypoint_classifier/keypoint_classifier_updated3.keras\n",
            "\u001b[1m753/753\u001b[0m \u001b[32m━━━━━━━━━━━━━━━━━━━━\u001b[0m\u001b[37m\u001b[0m \u001b[1m6s\u001b[0m 8ms/step - accuracy: 0.9916 - loss: 0.0483 - val_accuracy: 0.9995 - val_loss: 0.0236 - learning_rate: 1.2500e-04\n",
            "Epoch 127/200\n",
            "\u001b[1m752/753\u001b[0m \u001b[32m━━━━━━━━━━━━━━━━━━━\u001b[0m\u001b[37m━\u001b[0m \u001b[1m0s\u001b[0m 7ms/step - accuracy: 0.9922 - loss: 0.0483\n",
            "Epoch 127: saving model to model/keypoint_classifier/keypoint_classifier_updated3.keras\n",
            "\u001b[1m753/753\u001b[0m \u001b[32m━━━━━━━━━━━━━━━━━━━━\u001b[0m\u001b[37m\u001b[0m \u001b[1m6s\u001b[0m 8ms/step - accuracy: 0.9922 - loss: 0.0483 - val_accuracy: 0.9998 - val_loss: 0.0228 - learning_rate: 1.2500e-04\n",
            "Epoch 128/200\n",
            "\u001b[1m749/753\u001b[0m \u001b[32m━━━━━━━━━━━━━━━━━━━\u001b[0m\u001b[37m━\u001b[0m \u001b[1m0s\u001b[0m 7ms/step - accuracy: 0.9921 - loss: 0.0481\n",
            "Epoch 128: saving model to model/keypoint_classifier/keypoint_classifier_updated3.keras\n",
            "\u001b[1m753/753\u001b[0m \u001b[32m━━━━━━━━━━━━━━━━━━━━\u001b[0m\u001b[37m\u001b[0m \u001b[1m6s\u001b[0m 7ms/step - accuracy: 0.9921 - loss: 0.0481 - val_accuracy: 0.9995 - val_loss: 0.0231 - learning_rate: 1.2500e-04\n",
            "Epoch 129/200\n",
            "\u001b[1m742/753\u001b[0m \u001b[32m━━━━━━━━━━━━━━━━━━━\u001b[0m\u001b[37m━\u001b[0m \u001b[1m0s\u001b[0m 6ms/step - accuracy: 0.9913 - loss: 0.0497\n",
            "Epoch 129: saving model to model/keypoint_classifier/keypoint_classifier_updated3.keras\n",
            "\u001b[1m753/753\u001b[0m \u001b[32m━━━━━━━━━━━━━━━━━━━━\u001b[0m\u001b[37m\u001b[0m \u001b[1m5s\u001b[0m 6ms/step - accuracy: 0.9913 - loss: 0.0497 - val_accuracy: 0.9995 - val_loss: 0.0235 - learning_rate: 1.2500e-04\n",
            "Epoch 130/200\n",
            "\u001b[1m751/753\u001b[0m \u001b[32m━━━━━━━━━━━━━━━━━━━\u001b[0m\u001b[37m━\u001b[0m \u001b[1m0s\u001b[0m 6ms/step - accuracy: 0.9920 - loss: 0.0476\n",
            "Epoch 130: saving model to model/keypoint_classifier/keypoint_classifier_updated3.keras\n",
            "\u001b[1m753/753\u001b[0m \u001b[32m━━━━━━━━━━━━━━━━━━━━\u001b[0m\u001b[37m\u001b[0m \u001b[1m5s\u001b[0m 6ms/step - accuracy: 0.9920 - loss: 0.0476 - val_accuracy: 0.9995 - val_loss: 0.0231 - learning_rate: 1.2500e-04\n",
            "Epoch 131/200\n",
            "\u001b[1m750/753\u001b[0m \u001b[32m━━━━━━━━━━━━━━━━━━━\u001b[0m\u001b[37m━\u001b[0m \u001b[1m0s\u001b[0m 6ms/step - accuracy: 0.9922 - loss: 0.0499\n",
            "Epoch 131: saving model to model/keypoint_classifier/keypoint_classifier_updated3.keras\n",
            "\u001b[1m753/753\u001b[0m \u001b[32m━━━━━━━━━━━━━━━━━━━━\u001b[0m\u001b[37m\u001b[0m \u001b[1m5s\u001b[0m 7ms/step - accuracy: 0.9922 - loss: 0.0498 - val_accuracy: 0.9995 - val_loss: 0.0240 - learning_rate: 1.2500e-04\n",
            "Epoch 132/200\n",
            "\u001b[1m751/753\u001b[0m \u001b[32m━━━━━━━━━━━━━━━━━━━\u001b[0m\u001b[37m━\u001b[0m \u001b[1m0s\u001b[0m 6ms/step - accuracy: 0.9917 - loss: 0.0490\n",
            "Epoch 132: saving model to model/keypoint_classifier/keypoint_classifier_updated3.keras\n",
            "\n",
            "Epoch 132: ReduceLROnPlateau reducing learning rate to 6.25000029685907e-05.\n",
            "\u001b[1m753/753\u001b[0m \u001b[32m━━━━━━━━━━━━━━━━━━━━\u001b[0m\u001b[37m\u001b[0m \u001b[1m5s\u001b[0m 6ms/step - accuracy: 0.9917 - loss: 0.0490 - val_accuracy: 0.9995 - val_loss: 0.0229 - learning_rate: 1.2500e-04\n",
            "Epoch 133/200\n",
            "\u001b[1m751/753\u001b[0m \u001b[32m━━━━━━━━━━━━━━━━━━━\u001b[0m\u001b[37m━\u001b[0m \u001b[1m0s\u001b[0m 6ms/step - accuracy: 0.9931 - loss: 0.0445\n",
            "Epoch 133: saving model to model/keypoint_classifier/keypoint_classifier_updated3.keras\n",
            "\u001b[1m753/753\u001b[0m \u001b[32m━━━━━━━━━━━━━━━━━━━━\u001b[0m\u001b[37m\u001b[0m \u001b[1m5s\u001b[0m 7ms/step - accuracy: 0.9931 - loss: 0.0445 - val_accuracy: 0.9998 - val_loss: 0.0223 - learning_rate: 6.2500e-05\n",
            "Epoch 134/200\n",
            "\u001b[1m753/753\u001b[0m \u001b[32m━━━━━━━━━━━━━━━━━━━━\u001b[0m\u001b[37m\u001b[0m \u001b[1m0s\u001b[0m 6ms/step - accuracy: 0.9938 - loss: 0.0415\n",
            "Epoch 134: saving model to model/keypoint_classifier/keypoint_classifier_updated3.keras\n",
            "\u001b[1m753/753\u001b[0m \u001b[32m━━━━━━━━━━━━━━━━━━━━\u001b[0m\u001b[37m\u001b[0m \u001b[1m5s\u001b[0m 7ms/step - accuracy: 0.9938 - loss: 0.0415 - val_accuracy: 0.9993 - val_loss: 0.0229 - learning_rate: 6.2500e-05\n",
            "Epoch 135/200\n",
            "\u001b[1m749/753\u001b[0m \u001b[32m━━━━━━━━━━━━━━━━━━━\u001b[0m\u001b[37m━\u001b[0m \u001b[1m0s\u001b[0m 6ms/step - accuracy: 0.9926 - loss: 0.0456\n",
            "Epoch 135: saving model to model/keypoint_classifier/keypoint_classifier_updated3.keras\n",
            "\u001b[1m753/753\u001b[0m \u001b[32m━━━━━━━━━━━━━━━━━━━━\u001b[0m\u001b[37m\u001b[0m \u001b[1m5s\u001b[0m 6ms/step - accuracy: 0.9926 - loss: 0.0456 - val_accuracy: 0.9995 - val_loss: 0.0228 - learning_rate: 6.2500e-05\n",
            "Epoch 136/200\n",
            "\u001b[1m752/753\u001b[0m \u001b[32m━━━━━━━━━━━━━━━━━━━\u001b[0m\u001b[37m━\u001b[0m \u001b[1m0s\u001b[0m 7ms/step - accuracy: 0.9931 - loss: 0.0429\n",
            "Epoch 136: saving model to model/keypoint_classifier/keypoint_classifier_updated3.keras\n",
            "\u001b[1m753/753\u001b[0m \u001b[32m━━━━━━━━━━━━━━━━━━━━\u001b[0m\u001b[37m\u001b[0m \u001b[1m6s\u001b[0m 8ms/step - accuracy: 0.9931 - loss: 0.0429 - val_accuracy: 0.9995 - val_loss: 0.0226 - learning_rate: 6.2500e-05\n",
            "Epoch 137/200\n",
            "\u001b[1m749/753\u001b[0m \u001b[32m━━━━━━━━━━━━━━━━━━━\u001b[0m\u001b[37m━\u001b[0m \u001b[1m0s\u001b[0m 6ms/step - accuracy: 0.9939 - loss: 0.0429\n",
            "Epoch 137: saving model to model/keypoint_classifier/keypoint_classifier_updated3.keras\n",
            "\u001b[1m753/753\u001b[0m \u001b[32m━━━━━━━━━━━━━━━━━━━━\u001b[0m\u001b[37m\u001b[0m \u001b[1m6s\u001b[0m 7ms/step - accuracy: 0.9939 - loss: 0.0429 - val_accuracy: 0.9998 - val_loss: 0.0217 - learning_rate: 6.2500e-05\n",
            "Epoch 138/200\n",
            "\u001b[1m752/753\u001b[0m \u001b[32m━━━━━━━━━━━━━━━━━━━\u001b[0m\u001b[37m━\u001b[0m \u001b[1m0s\u001b[0m 6ms/step - accuracy: 0.9922 - loss: 0.0451\n",
            "Epoch 138: saving model to model/keypoint_classifier/keypoint_classifier_updated3.keras\n",
            "\u001b[1m753/753\u001b[0m \u001b[32m━━━━━━━━━━━━━━━━━━━━\u001b[0m\u001b[37m\u001b[0m \u001b[1m5s\u001b[0m 6ms/step - accuracy: 0.9922 - loss: 0.0451 - val_accuracy: 0.9998 - val_loss: 0.0218 - learning_rate: 6.2500e-05\n",
            "Epoch 139/200\n",
            "\u001b[1m744/753\u001b[0m \u001b[32m━━━━━━━━━━━━━━━━━━━\u001b[0m\u001b[37m━\u001b[0m \u001b[1m0s\u001b[0m 6ms/step - accuracy: 0.9940 - loss: 0.0416\n",
            "Epoch 139: saving model to model/keypoint_classifier/keypoint_classifier_updated3.keras\n",
            "\u001b[1m753/753\u001b[0m \u001b[32m━━━━━━━━━━━━━━━━━━━━\u001b[0m\u001b[37m\u001b[0m \u001b[1m5s\u001b[0m 6ms/step - accuracy: 0.9940 - loss: 0.0416 - val_accuracy: 0.9998 - val_loss: 0.0217 - learning_rate: 6.2500e-05\n",
            "Epoch 140/200\n",
            "\u001b[1m743/753\u001b[0m \u001b[32m━━━━━━━━━━━━━━━━━━━\u001b[0m\u001b[37m━\u001b[0m \u001b[1m0s\u001b[0m 6ms/step - accuracy: 0.9927 - loss: 0.0451\n",
            "Epoch 140: saving model to model/keypoint_classifier/keypoint_classifier_updated3.keras\n",
            "\u001b[1m753/753\u001b[0m \u001b[32m━━━━━━━━━━━━━━━━━━━━\u001b[0m\u001b[37m\u001b[0m \u001b[1m5s\u001b[0m 7ms/step - accuracy: 0.9927 - loss: 0.0451 - val_accuracy: 0.9998 - val_loss: 0.0209 - learning_rate: 6.2500e-05\n",
            "Epoch 141/200\n",
            "\u001b[1m744/753\u001b[0m \u001b[32m━━━━━━━━━━━━━━━━━━━\u001b[0m\u001b[37m━\u001b[0m \u001b[1m0s\u001b[0m 5ms/step - accuracy: 0.9939 - loss: 0.0413\n",
            "Epoch 141: saving model to model/keypoint_classifier/keypoint_classifier_updated3.keras\n",
            "\u001b[1m753/753\u001b[0m \u001b[32m━━━━━━━━━━━━━━━━━━━━\u001b[0m\u001b[37m\u001b[0m \u001b[1m5s\u001b[0m 6ms/step - accuracy: 0.9939 - loss: 0.0413 - val_accuracy: 0.9998 - val_loss: 0.0217 - learning_rate: 6.2500e-05\n",
            "Epoch 142/200\n",
            "\u001b[1m749/753\u001b[0m \u001b[32m━━━━━━━━━━━━━━━━━━━\u001b[0m\u001b[37m━\u001b[0m \u001b[1m0s\u001b[0m 7ms/step - accuracy: 0.9932 - loss: 0.0440\n",
            "Epoch 142: saving model to model/keypoint_classifier/keypoint_classifier_updated3.keras\n",
            "\u001b[1m753/753\u001b[0m \u001b[32m━━━━━━━━━━━━━━━━━━━━\u001b[0m\u001b[37m\u001b[0m \u001b[1m6s\u001b[0m 8ms/step - accuracy: 0.9932 - loss: 0.0440 - val_accuracy: 0.9998 - val_loss: 0.0217 - learning_rate: 6.2500e-05\n",
            "Epoch 143/200\n",
            "\u001b[1m751/753\u001b[0m \u001b[32m━━━━━━━━━━━━━━━━━━━\u001b[0m\u001b[37m━\u001b[0m \u001b[1m0s\u001b[0m 6ms/step - accuracy: 0.9932 - loss: 0.0433\n",
            "Epoch 143: saving model to model/keypoint_classifier/keypoint_classifier_updated3.keras\n",
            "\u001b[1m753/753\u001b[0m \u001b[32m━━━━━━━━━━━━━━━━━━━━\u001b[0m\u001b[37m\u001b[0m \u001b[1m5s\u001b[0m 7ms/step - accuracy: 0.9932 - loss: 0.0433 - val_accuracy: 0.9998 - val_loss: 0.0213 - learning_rate: 6.2500e-05\n",
            "Epoch 144/200\n",
            "\u001b[1m753/753\u001b[0m \u001b[32m━━━━━━━━━━━━━━━━━━━━\u001b[0m\u001b[37m\u001b[0m \u001b[1m0s\u001b[0m 6ms/step - accuracy: 0.9938 - loss: 0.0389\n",
            "Epoch 144: saving model to model/keypoint_classifier/keypoint_classifier_updated3.keras\n",
            "\u001b[1m753/753\u001b[0m \u001b[32m━━━━━━━━━━━━━━━━━━━━\u001b[0m\u001b[37m\u001b[0m \u001b[1m5s\u001b[0m 7ms/step - accuracy: 0.9938 - loss: 0.0389 - val_accuracy: 0.9995 - val_loss: 0.0220 - learning_rate: 6.2500e-05\n",
            "Epoch 145/200\n",
            "\u001b[1m752/753\u001b[0m \u001b[32m━━━━━━━━━━━━━━━━━━━\u001b[0m\u001b[37m━\u001b[0m \u001b[1m0s\u001b[0m 6ms/step - accuracy: 0.9929 - loss: 0.0433\n",
            "Epoch 145: saving model to model/keypoint_classifier/keypoint_classifier_updated3.keras\n",
            "\n",
            "Epoch 145: ReduceLROnPlateau reducing learning rate to 3.125000148429535e-05.\n",
            "\u001b[1m753/753\u001b[0m \u001b[32m━━━━━━━━━━━━━━━━━━━━\u001b[0m\u001b[37m\u001b[0m \u001b[1m5s\u001b[0m 7ms/step - accuracy: 0.9929 - loss: 0.0433 - val_accuracy: 0.9998 - val_loss: 0.0216 - learning_rate: 6.2500e-05\n",
            "Epoch 146/200\n",
            "\u001b[1m753/753\u001b[0m \u001b[32m━━━━━━━━━━━━━━━━━━━━\u001b[0m\u001b[37m\u001b[0m \u001b[1m0s\u001b[0m 7ms/step - accuracy: 0.9942 - loss: 0.0389\n",
            "Epoch 146: saving model to model/keypoint_classifier/keypoint_classifier_updated3.keras\n",
            "\u001b[1m753/753\u001b[0m \u001b[32m━━━━━━━━━━━━━━━━━━━━\u001b[0m\u001b[37m\u001b[0m \u001b[1m6s\u001b[0m 8ms/step - accuracy: 0.9942 - loss: 0.0389 - val_accuracy: 0.9995 - val_loss: 0.0212 - learning_rate: 3.1250e-05\n",
            "Epoch 147/200\n",
            "\u001b[1m748/753\u001b[0m \u001b[32m━━━━━━━━━━━━━━━━━━━\u001b[0m\u001b[37m━\u001b[0m \u001b[1m0s\u001b[0m 5ms/step - accuracy: 0.9947 - loss: 0.0384\n",
            "Epoch 147: saving model to model/keypoint_classifier/keypoint_classifier_updated3.keras\n",
            "\u001b[1m753/753\u001b[0m \u001b[32m━━━━━━━━━━━━━━━━━━━━\u001b[0m\u001b[37m\u001b[0m \u001b[1m4s\u001b[0m 5ms/step - accuracy: 0.9947 - loss: 0.0384 - val_accuracy: 0.9995 - val_loss: 0.0213 - learning_rate: 3.1250e-05\n",
            "Epoch 148/200\n",
            "\u001b[1m742/753\u001b[0m \u001b[32m━━━━━━━━━━━━━━━━━━━\u001b[0m\u001b[37m━\u001b[0m \u001b[1m0s\u001b[0m 7ms/step - accuracy: 0.9939 - loss: 0.0382\n",
            "Epoch 148: saving model to model/keypoint_classifier/keypoint_classifier_updated3.keras\n",
            "\u001b[1m753/753\u001b[0m \u001b[32m━━━━━━━━━━━━━━━━━━━━\u001b[0m\u001b[37m\u001b[0m \u001b[1m5s\u001b[0m 7ms/step - accuracy: 0.9939 - loss: 0.0382 - val_accuracy: 0.9998 - val_loss: 0.0209 - learning_rate: 3.1250e-05\n",
            "Epoch 149/200\n",
            "\u001b[1m744/753\u001b[0m \u001b[32m━━━━━━━━━━━━━━━━━━━\u001b[0m\u001b[37m━\u001b[0m \u001b[1m0s\u001b[0m 5ms/step - accuracy: 0.9943 - loss: 0.0384\n",
            "Epoch 149: saving model to model/keypoint_classifier/keypoint_classifier_updated3.keras\n",
            "\u001b[1m753/753\u001b[0m \u001b[32m━━━━━━━━━━━━━━━━━━━━\u001b[0m\u001b[37m\u001b[0m \u001b[1m4s\u001b[0m 6ms/step - accuracy: 0.9943 - loss: 0.0384 - val_accuracy: 0.9998 - val_loss: 0.0205 - learning_rate: 3.1250e-05\n",
            "Epoch 150/200\n",
            "\u001b[1m741/753\u001b[0m \u001b[32m━━━━━━━━━━━━━━━━━━━\u001b[0m\u001b[37m━\u001b[0m \u001b[1m0s\u001b[0m 5ms/step - accuracy: 0.9934 - loss: 0.0435\n",
            "Epoch 150: saving model to model/keypoint_classifier/keypoint_classifier_updated3.keras\n",
            "\u001b[1m753/753\u001b[0m \u001b[32m━━━━━━━━━━━━━━━━━━━━\u001b[0m\u001b[37m\u001b[0m \u001b[1m5s\u001b[0m 6ms/step - accuracy: 0.9934 - loss: 0.0435 - val_accuracy: 0.9998 - val_loss: 0.0209 - learning_rate: 3.1250e-05\n",
            "Epoch 151/200\n",
            "\u001b[1m751/753\u001b[0m \u001b[32m━━━━━━━━━━━━━━━━━━━\u001b[0m\u001b[37m━\u001b[0m \u001b[1m0s\u001b[0m 6ms/step - accuracy: 0.9946 - loss: 0.0372\n",
            "Epoch 151: saving model to model/keypoint_classifier/keypoint_classifier_updated3.keras\n",
            "\u001b[1m753/753\u001b[0m \u001b[32m━━━━━━━━━━━━━━━━━━━━\u001b[0m\u001b[37m\u001b[0m \u001b[1m5s\u001b[0m 7ms/step - accuracy: 0.9946 - loss: 0.0372 - val_accuracy: 0.9998 - val_loss: 0.0211 - learning_rate: 3.1250e-05\n",
            "Epoch 152/200\n",
            "\u001b[1m750/753\u001b[0m \u001b[32m━━━━━━━━━━━━━━━━━━━\u001b[0m\u001b[37m━\u001b[0m \u001b[1m0s\u001b[0m 7ms/step - accuracy: 0.9945 - loss: 0.0380\n",
            "Epoch 152: saving model to model/keypoint_classifier/keypoint_classifier_updated3.keras\n",
            "\u001b[1m753/753\u001b[0m \u001b[32m━━━━━━━━━━━━━━━━━━━━\u001b[0m\u001b[37m\u001b[0m \u001b[1m6s\u001b[0m 8ms/step - accuracy: 0.9945 - loss: 0.0380 - val_accuracy: 0.9998 - val_loss: 0.0208 - learning_rate: 3.1250e-05\n",
            "Epoch 153/200\n",
            "\u001b[1m747/753\u001b[0m \u001b[32m━━━━━━━━━━━━━━━━━━━\u001b[0m\u001b[37m━\u001b[0m \u001b[1m0s\u001b[0m 7ms/step - accuracy: 0.9944 - loss: 0.0372\n",
            "Epoch 153: saving model to model/keypoint_classifier/keypoint_classifier_updated3.keras\n",
            "\u001b[1m753/753\u001b[0m \u001b[32m━━━━━━━━━━━━━━━━━━━━\u001b[0m\u001b[37m\u001b[0m \u001b[1m6s\u001b[0m 7ms/step - accuracy: 0.9944 - loss: 0.0372 - val_accuracy: 0.9998 - val_loss: 0.0207 - learning_rate: 3.1250e-05\n",
            "Epoch 154/200\n",
            "\u001b[1m746/753\u001b[0m \u001b[32m━━━━━━━━━━━━━━━━━━━\u001b[0m\u001b[37m━\u001b[0m \u001b[1m0s\u001b[0m 6ms/step - accuracy: 0.9942 - loss: 0.0377\n",
            "Epoch 154: saving model to model/keypoint_classifier/keypoint_classifier_updated3.keras\n",
            "\n",
            "Epoch 154: ReduceLROnPlateau reducing learning rate to 1.5625000742147677e-05.\n",
            "\u001b[1m753/753\u001b[0m \u001b[32m━━━━━━━━━━━━━━━━━━━━\u001b[0m\u001b[37m\u001b[0m \u001b[1m5s\u001b[0m 6ms/step - accuracy: 0.9942 - loss: 0.0377 - val_accuracy: 0.9998 - val_loss: 0.0208 - learning_rate: 3.1250e-05\n",
            "Epoch 155/200\n",
            "\u001b[1m753/753\u001b[0m \u001b[32m━━━━━━━━━━━━━━━━━━━━\u001b[0m\u001b[37m\u001b[0m \u001b[1m0s\u001b[0m 5ms/step - accuracy: 0.9947 - loss: 0.0389\n",
            "Epoch 155: saving model to model/keypoint_classifier/keypoint_classifier_updated3.keras\n",
            "\u001b[1m753/753\u001b[0m \u001b[32m━━━━━━━━━━━━━━━━━━━━\u001b[0m\u001b[37m\u001b[0m \u001b[1m4s\u001b[0m 6ms/step - accuracy: 0.9947 - loss: 0.0389 - val_accuracy: 0.9998 - val_loss: 0.0205 - learning_rate: 1.5625e-05\n",
            "Epoch 156/200\n",
            "\u001b[1m746/753\u001b[0m \u001b[32m━━━━━━━━━━━━━━━━━━━\u001b[0m\u001b[37m━\u001b[0m \u001b[1m0s\u001b[0m 5ms/step - accuracy: 0.9948 - loss: 0.0382\n",
            "Epoch 156: saving model to model/keypoint_classifier/keypoint_classifier_updated3.keras\n",
            "\u001b[1m753/753\u001b[0m \u001b[32m━━━━━━━━━━━━━━━━━━━━\u001b[0m\u001b[37m\u001b[0m \u001b[1m4s\u001b[0m 6ms/step - accuracy: 0.9948 - loss: 0.0382 - val_accuracy: 0.9998 - val_loss: 0.0206 - learning_rate: 1.5625e-05\n",
            "Epoch 157/200\n",
            "\u001b[1m745/753\u001b[0m \u001b[32m━━━━━━━━━━━━━━━━━━━\u001b[0m\u001b[37m━\u001b[0m \u001b[1m0s\u001b[0m 5ms/step - accuracy: 0.9945 - loss: 0.0383\n",
            "Epoch 157: saving model to model/keypoint_classifier/keypoint_classifier_updated3.keras\n",
            "\u001b[1m753/753\u001b[0m \u001b[32m━━━━━━━━━━━━━━━━━━━━\u001b[0m\u001b[37m\u001b[0m \u001b[1m5s\u001b[0m 6ms/step - accuracy: 0.9945 - loss: 0.0383 - val_accuracy: 0.9998 - val_loss: 0.0206 - learning_rate: 1.5625e-05\n",
            "Epoch 158/200\n",
            "\u001b[1m746/753\u001b[0m \u001b[32m━━━━━━━━━━━━━━━━━━━\u001b[0m\u001b[37m━\u001b[0m \u001b[1m0s\u001b[0m 5ms/step - accuracy: 0.9950 - loss: 0.0365\n",
            "Epoch 158: saving model to model/keypoint_classifier/keypoint_classifier_updated3.keras\n",
            "\u001b[1m753/753\u001b[0m \u001b[32m━━━━━━━━━━━━━━━━━━━━\u001b[0m\u001b[37m\u001b[0m \u001b[1m4s\u001b[0m 6ms/step - accuracy: 0.9950 - loss: 0.0365 - val_accuracy: 0.9998 - val_loss: 0.0203 - learning_rate: 1.5625e-05\n",
            "Epoch 159/200\n",
            "\u001b[1m744/753\u001b[0m \u001b[32m━━━━━━━━━━━━━━━━━━━\u001b[0m\u001b[37m━\u001b[0m \u001b[1m0s\u001b[0m 5ms/step - accuracy: 0.9941 - loss: 0.0384\n",
            "Epoch 159: saving model to model/keypoint_classifier/keypoint_classifier_updated3.keras\n",
            "\u001b[1m753/753\u001b[0m \u001b[32m━━━━━━━━━━━━━━━━━━━━\u001b[0m\u001b[37m\u001b[0m \u001b[1m5s\u001b[0m 6ms/step - accuracy: 0.9941 - loss: 0.0384 - val_accuracy: 0.9998 - val_loss: 0.0203 - learning_rate: 1.5625e-05\n",
            "Epoch 160/200\n",
            "\u001b[1m751/753\u001b[0m \u001b[32m━━━━━━━━━━━━━━━━━━━\u001b[0m\u001b[37m━\u001b[0m \u001b[1m0s\u001b[0m 5ms/step - accuracy: 0.9941 - loss: 0.0400\n",
            "Epoch 160: saving model to model/keypoint_classifier/keypoint_classifier_updated3.keras\n",
            "\u001b[1m753/753\u001b[0m \u001b[32m━━━━━━━━━━━━━━━━━━━━\u001b[0m\u001b[37m\u001b[0m \u001b[1m4s\u001b[0m 6ms/step - accuracy: 0.9941 - loss: 0.0400 - val_accuracy: 0.9998 - val_loss: 0.0205 - learning_rate: 1.5625e-05\n",
            "Epoch 161/200\n",
            "\u001b[1m744/753\u001b[0m \u001b[32m━━━━━━━━━━━━━━━━━━━\u001b[0m\u001b[37m━\u001b[0m \u001b[1m0s\u001b[0m 5ms/step - accuracy: 0.9951 - loss: 0.0354\n",
            "Epoch 161: saving model to model/keypoint_classifier/keypoint_classifier_updated3.keras\n",
            "\u001b[1m753/753\u001b[0m \u001b[32m━━━━━━━━━━━━━━━━━━━━\u001b[0m\u001b[37m\u001b[0m \u001b[1m4s\u001b[0m 6ms/step - accuracy: 0.9951 - loss: 0.0354 - val_accuracy: 0.9998 - val_loss: 0.0206 - learning_rate: 1.5625e-05\n",
            "Epoch 162/200\n",
            "\u001b[1m748/753\u001b[0m \u001b[32m━━━━━━━━━━━━━━━━━━━\u001b[0m\u001b[37m━\u001b[0m \u001b[1m0s\u001b[0m 6ms/step - accuracy: 0.9940 - loss: 0.0390\n",
            "Epoch 162: saving model to model/keypoint_classifier/keypoint_classifier_updated3.keras\n",
            "\u001b[1m753/753\u001b[0m \u001b[32m━━━━━━━━━━━━━━━━━━━━\u001b[0m\u001b[37m\u001b[0m \u001b[1m5s\u001b[0m 6ms/step - accuracy: 0.9940 - loss: 0.0390 - val_accuracy: 0.9998 - val_loss: 0.0205 - learning_rate: 1.5625e-05\n",
            "Epoch 163/200\n",
            "\u001b[1m746/753\u001b[0m \u001b[32m━━━━━━━━━━━━━━━━━━━\u001b[0m\u001b[37m━\u001b[0m \u001b[1m0s\u001b[0m 5ms/step - accuracy: 0.9944 - loss: 0.0370\n",
            "Epoch 163: saving model to model/keypoint_classifier/keypoint_classifier_updated3.keras\n",
            "\n",
            "Epoch 163: ReduceLROnPlateau reducing learning rate to 7.812500371073838e-06.\n",
            "\u001b[1m753/753\u001b[0m \u001b[32m━━━━━━━━━━━━━━━━━━━━\u001b[0m\u001b[37m\u001b[0m \u001b[1m5s\u001b[0m 6ms/step - accuracy: 0.9944 - loss: 0.0370 - val_accuracy: 0.9998 - val_loss: 0.0203 - learning_rate: 1.5625e-05\n",
            "Epoch 164/200\n",
            "\u001b[1m750/753\u001b[0m \u001b[32m━━━━━━━━━━━━━━━━━━━\u001b[0m\u001b[37m━\u001b[0m \u001b[1m0s\u001b[0m 5ms/step - accuracy: 0.9944 - loss: 0.0375\n",
            "Epoch 164: saving model to model/keypoint_classifier/keypoint_classifier_updated3.keras\n",
            "\u001b[1m753/753\u001b[0m \u001b[32m━━━━━━━━━━━━━━━━━━━━\u001b[0m\u001b[37m\u001b[0m \u001b[1m5s\u001b[0m 6ms/step - accuracy: 0.9944 - loss: 0.0374 - val_accuracy: 0.9998 - val_loss: 0.0203 - learning_rate: 7.8125e-06\n",
            "Epoch 165/200\n",
            "\u001b[1m745/753\u001b[0m \u001b[32m━━━━━━━━━━━━━━━━━━━\u001b[0m\u001b[37m━\u001b[0m \u001b[1m0s\u001b[0m 5ms/step - accuracy: 0.9951 - loss: 0.0363\n",
            "Epoch 165: saving model to model/keypoint_classifier/keypoint_classifier_updated3.keras\n",
            "\u001b[1m753/753\u001b[0m \u001b[32m━━━━━━━━━━━━━━━━━━━━\u001b[0m\u001b[37m\u001b[0m \u001b[1m4s\u001b[0m 6ms/step - accuracy: 0.9951 - loss: 0.0363 - val_accuracy: 0.9998 - val_loss: 0.0203 - learning_rate: 7.8125e-06\n",
            "Epoch 166/200\n",
            "\u001b[1m744/753\u001b[0m \u001b[32m━━━━━━━━━━━━━━━━━━━\u001b[0m\u001b[37m━\u001b[0m \u001b[1m0s\u001b[0m 5ms/step - accuracy: 0.9943 - loss: 0.0372\n",
            "Epoch 166: saving model to model/keypoint_classifier/keypoint_classifier_updated3.keras\n",
            "\u001b[1m753/753\u001b[0m \u001b[32m━━━━━━━━━━━━━━━━━━━━\u001b[0m\u001b[37m\u001b[0m \u001b[1m5s\u001b[0m 6ms/step - accuracy: 0.9943 - loss: 0.0372 - val_accuracy: 0.9998 - val_loss: 0.0203 - learning_rate: 7.8125e-06\n",
            "Epoch 167/200\n",
            "\u001b[1m743/753\u001b[0m \u001b[32m━━━━━━━━━━━━━━━━━━━\u001b[0m\u001b[37m━\u001b[0m \u001b[1m0s\u001b[0m 5ms/step - accuracy: 0.9943 - loss: 0.0374\n",
            "Epoch 167: saving model to model/keypoint_classifier/keypoint_classifier_updated3.keras\n",
            "\u001b[1m753/753\u001b[0m \u001b[32m━━━━━━━━━━━━━━━━━━━━\u001b[0m\u001b[37m\u001b[0m \u001b[1m5s\u001b[0m 6ms/step - accuracy: 0.9943 - loss: 0.0374 - val_accuracy: 0.9998 - val_loss: 0.0203 - learning_rate: 7.8125e-06\n",
            "Epoch 168/200\n",
            "\u001b[1m745/753\u001b[0m \u001b[32m━━━━━━━━━━━━━━━━━━━\u001b[0m\u001b[37m━\u001b[0m \u001b[1m0s\u001b[0m 5ms/step - accuracy: 0.9950 - loss: 0.0381\n",
            "Epoch 168: saving model to model/keypoint_classifier/keypoint_classifier_updated3.keras\n",
            "\n",
            "Epoch 168: ReduceLROnPlateau reducing learning rate to 3.906250185536919e-06.\n",
            "\u001b[1m753/753\u001b[0m \u001b[32m━━━━━━━━━━━━━━━━━━━━\u001b[0m\u001b[37m\u001b[0m \u001b[1m4s\u001b[0m 6ms/step - accuracy: 0.9950 - loss: 0.0381 - val_accuracy: 0.9998 - val_loss: 0.0203 - learning_rate: 7.8125e-06\n",
            "Epoch 169/200\n",
            "\u001b[1m745/753\u001b[0m \u001b[32m━━━━━━━━━━━━━━━━━━━\u001b[0m\u001b[37m━\u001b[0m \u001b[1m0s\u001b[0m 5ms/step - accuracy: 0.9949 - loss: 0.0375\n",
            "Epoch 169: saving model to model/keypoint_classifier/keypoint_classifier_updated3.keras\n",
            "\u001b[1m753/753\u001b[0m \u001b[32m━━━━━━━━━━━━━━━━━━━━\u001b[0m\u001b[37m\u001b[0m \u001b[1m4s\u001b[0m 6ms/step - accuracy: 0.9949 - loss: 0.0374 - val_accuracy: 0.9998 - val_loss: 0.0203 - learning_rate: 3.9063e-06\n",
            "Epoch 170/200\n",
            "\u001b[1m750/753\u001b[0m \u001b[32m━━━━━━━━━━━━━━━━━━━\u001b[0m\u001b[37m━\u001b[0m \u001b[1m0s\u001b[0m 6ms/step - accuracy: 0.9948 - loss: 0.0357\n",
            "Epoch 170: saving model to model/keypoint_classifier/keypoint_classifier_updated3.keras\n",
            "\u001b[1m753/753\u001b[0m \u001b[32m━━━━━━━━━━━━━━━━━━━━\u001b[0m\u001b[37m\u001b[0m \u001b[1m5s\u001b[0m 6ms/step - accuracy: 0.9948 - loss: 0.0357 - val_accuracy: 0.9998 - val_loss: 0.0203 - learning_rate: 3.9063e-06\n",
            "Epoch 171/200\n",
            "\u001b[1m750/753\u001b[0m \u001b[32m━━━━━━━━━━━━━━━━━━━\u001b[0m\u001b[37m━\u001b[0m \u001b[1m0s\u001b[0m 6ms/step - accuracy: 0.9944 - loss: 0.0364\n",
            "Epoch 171: saving model to model/keypoint_classifier/keypoint_classifier_updated3.keras\n",
            "\u001b[1m753/753\u001b[0m \u001b[32m━━━━━━━━━━━━━━━━━━━━\u001b[0m\u001b[37m\u001b[0m \u001b[1m5s\u001b[0m 6ms/step - accuracy: 0.9944 - loss: 0.0364 - val_accuracy: 0.9998 - val_loss: 0.0203 - learning_rate: 3.9063e-06\n",
            "Epoch 172/200\n",
            "\u001b[1m753/753\u001b[0m \u001b[32m━━━━━━━━━━━━━━━━━━━━\u001b[0m\u001b[37m\u001b[0m \u001b[1m0s\u001b[0m 6ms/step - accuracy: 0.9941 - loss: 0.0396\n",
            "Epoch 172: saving model to model/keypoint_classifier/keypoint_classifier_updated3.keras\n",
            "\u001b[1m753/753\u001b[0m \u001b[32m━━━━━━━━━━━━━━━━━━━━\u001b[0m\u001b[37m\u001b[0m \u001b[1m6s\u001b[0m 7ms/step - accuracy: 0.9941 - loss: 0.0396 - val_accuracy: 0.9998 - val_loss: 0.0202 - learning_rate: 3.9063e-06\n",
            "Epoch 173/200\n",
            "\u001b[1m748/753\u001b[0m \u001b[32m━━━━━━━━━━━━━━━━━━━\u001b[0m\u001b[37m━\u001b[0m \u001b[1m0s\u001b[0m 5ms/step - accuracy: 0.9951 - loss: 0.0358\n",
            "Epoch 173: saving model to model/keypoint_classifier/keypoint_classifier_updated3.keras\n",
            "\n",
            "Epoch 173: ReduceLROnPlateau reducing learning rate to 1.9531250927684596e-06.\n",
            "\u001b[1m753/753\u001b[0m \u001b[32m━━━━━━━━━━━━━━━━━━━━\u001b[0m\u001b[37m\u001b[0m \u001b[1m4s\u001b[0m 6ms/step - accuracy: 0.9951 - loss: 0.0358 - val_accuracy: 0.9998 - val_loss: 0.0202 - learning_rate: 3.9063e-06\n",
            "Epoch 174/200\n",
            "\u001b[1m750/753\u001b[0m \u001b[32m━━━━━━━━━━━━━━━━━━━\u001b[0m\u001b[37m━\u001b[0m \u001b[1m0s\u001b[0m 5ms/step - accuracy: 0.9941 - loss: 0.0390\n",
            "Epoch 174: saving model to model/keypoint_classifier/keypoint_classifier_updated3.keras\n",
            "\u001b[1m753/753\u001b[0m \u001b[32m━━━━━━━━━━━━━━━━━━━━\u001b[0m\u001b[37m\u001b[0m \u001b[1m5s\u001b[0m 6ms/step - accuracy: 0.9941 - loss: 0.0390 - val_accuracy: 0.9998 - val_loss: 0.0202 - learning_rate: 1.9531e-06\n",
            "Epoch 175/200\n",
            "\u001b[1m748/753\u001b[0m \u001b[32m━━━━━━━━━━━━━━━━━━━\u001b[0m\u001b[37m━\u001b[0m \u001b[1m0s\u001b[0m 6ms/step - accuracy: 0.9954 - loss: 0.0354\n",
            "Epoch 175: saving model to model/keypoint_classifier/keypoint_classifier_updated3.keras\n",
            "\u001b[1m753/753\u001b[0m \u001b[32m━━━━━━━━━━━━━━━━━━━━\u001b[0m\u001b[37m\u001b[0m \u001b[1m5s\u001b[0m 7ms/step - accuracy: 0.9954 - loss: 0.0354 - val_accuracy: 0.9998 - val_loss: 0.0203 - learning_rate: 1.9531e-06\n",
            "Epoch 176/200\n",
            "\u001b[1m752/753\u001b[0m \u001b[32m━━━━━━━━━━━━━━━━━━━\u001b[0m\u001b[37m━\u001b[0m \u001b[1m0s\u001b[0m 6ms/step - accuracy: 0.9948 - loss: 0.0356\n",
            "Epoch 176: saving model to model/keypoint_classifier/keypoint_classifier_updated3.keras\n",
            "\u001b[1m753/753\u001b[0m \u001b[32m━━━━━━━━━━━━━━━━━━━━\u001b[0m\u001b[37m\u001b[0m \u001b[1m5s\u001b[0m 7ms/step - accuracy: 0.9948 - loss: 0.0356 - val_accuracy: 0.9998 - val_loss: 0.0202 - learning_rate: 1.9531e-06\n",
            "Epoch 177/200\n",
            "\u001b[1m745/753\u001b[0m \u001b[32m━━━━━━━━━━━━━━━━━━━\u001b[0m\u001b[37m━\u001b[0m \u001b[1m0s\u001b[0m 6ms/step - accuracy: 0.9944 - loss: 0.0393\n",
            "Epoch 177: saving model to model/keypoint_classifier/keypoint_classifier_updated3.keras\n",
            "\u001b[1m753/753\u001b[0m \u001b[32m━━━━━━━━━━━━━━━━━━━━\u001b[0m\u001b[37m\u001b[0m \u001b[1m5s\u001b[0m 7ms/step - accuracy: 0.9944 - loss: 0.0393 - val_accuracy: 0.9998 - val_loss: 0.0202 - learning_rate: 1.9531e-06\n",
            "Epoch 178/200\n",
            "\u001b[1m752/753\u001b[0m \u001b[32m━━━━━━━━━━━━━━━━━━━\u001b[0m\u001b[37m━\u001b[0m \u001b[1m0s\u001b[0m 6ms/step - accuracy: 0.9947 - loss: 0.0374\n",
            "Epoch 178: saving model to model/keypoint_classifier/keypoint_classifier_updated3.keras\n",
            "\n",
            "Epoch 178: ReduceLROnPlateau reducing learning rate to 1e-06.\n",
            "\u001b[1m753/753\u001b[0m \u001b[32m━━━━━━━━━━━━━━━━━━━━\u001b[0m\u001b[37m\u001b[0m \u001b[1m5s\u001b[0m 6ms/step - accuracy: 0.9947 - loss: 0.0373 - val_accuracy: 0.9998 - val_loss: 0.0202 - learning_rate: 1.9531e-06\n",
            "Epoch 179/200\n",
            "\u001b[1m744/753\u001b[0m \u001b[32m━━━━━━━━━━━━━━━━━━━\u001b[0m\u001b[37m━\u001b[0m \u001b[1m0s\u001b[0m 5ms/step - accuracy: 0.9953 - loss: 0.0341\n",
            "Epoch 179: saving model to model/keypoint_classifier/keypoint_classifier_updated3.keras\n",
            "\u001b[1m753/753\u001b[0m \u001b[32m━━━━━━━━━━━━━━━━━━━━\u001b[0m\u001b[37m\u001b[0m \u001b[1m4s\u001b[0m 6ms/step - accuracy: 0.9953 - loss: 0.0341 - val_accuracy: 0.9998 - val_loss: 0.0202 - learning_rate: 1.0000e-06\n",
            "Epoch 180/200\n",
            "\u001b[1m753/753\u001b[0m \u001b[32m━━━━━━━━━━━━━━━━━━━━\u001b[0m\u001b[37m\u001b[0m \u001b[1m0s\u001b[0m 6ms/step - accuracy: 0.9944 - loss: 0.0370\n",
            "Epoch 180: saving model to model/keypoint_classifier/keypoint_classifier_updated3.keras\n",
            "\u001b[1m753/753\u001b[0m \u001b[32m━━━━━━━━━━━━━━━━━━━━\u001b[0m\u001b[37m\u001b[0m \u001b[1m5s\u001b[0m 6ms/step - accuracy: 0.9944 - loss: 0.0370 - val_accuracy: 0.9998 - val_loss: 0.0202 - learning_rate: 1.0000e-06\n",
            "Epoch 181/200\n",
            "\u001b[1m747/753\u001b[0m \u001b[32m━━━━━━━━━━━━━━━━━━━\u001b[0m\u001b[37m━\u001b[0m \u001b[1m0s\u001b[0m 5ms/step - accuracy: 0.9947 - loss: 0.0356\n",
            "Epoch 181: saving model to model/keypoint_classifier/keypoint_classifier_updated3.keras\n",
            "\u001b[1m753/753\u001b[0m \u001b[32m━━━━━━━━━━━━━━━━━━━━\u001b[0m\u001b[37m\u001b[0m \u001b[1m4s\u001b[0m 6ms/step - accuracy: 0.9947 - loss: 0.0356 - val_accuracy: 0.9998 - val_loss: 0.0202 - learning_rate: 1.0000e-06\n",
            "Epoch 182/200\n",
            "\u001b[1m751/753\u001b[0m \u001b[32m━━━━━━━━━━━━━━━━━━━\u001b[0m\u001b[37m━\u001b[0m \u001b[1m0s\u001b[0m 5ms/step - accuracy: 0.9946 - loss: 0.0359\n",
            "Epoch 182: saving model to model/keypoint_classifier/keypoint_classifier_updated3.keras\n",
            "\u001b[1m753/753\u001b[0m \u001b[32m━━━━━━━━━━━━━━━━━━━━\u001b[0m\u001b[37m\u001b[0m \u001b[1m4s\u001b[0m 6ms/step - accuracy: 0.9946 - loss: 0.0359 - val_accuracy: 0.9998 - val_loss: 0.0202 - learning_rate: 1.0000e-06\n",
            "Epoch 183/200\n",
            "\u001b[1m752/753\u001b[0m \u001b[32m━━━━━━━━━━━━━━━━━━━\u001b[0m\u001b[37m━\u001b[0m \u001b[1m0s\u001b[0m 6ms/step - accuracy: 0.9952 - loss: 0.0353\n",
            "Epoch 183: saving model to model/keypoint_classifier/keypoint_classifier_updated3.keras\n",
            "\u001b[1m753/753\u001b[0m \u001b[32m━━━━━━━━━━━━━━━━━━━━\u001b[0m\u001b[37m\u001b[0m \u001b[1m5s\u001b[0m 6ms/step - accuracy: 0.9952 - loss: 0.0354 - val_accuracy: 0.9998 - val_loss: 0.0202 - learning_rate: 1.0000e-06\n",
            "Epoch 184/200\n",
            "\u001b[1m752/753\u001b[0m \u001b[32m━━━━━━━━━━━━━━━━━━━\u001b[0m\u001b[37m━\u001b[0m \u001b[1m0s\u001b[0m 7ms/step - accuracy: 0.9955 - loss: 0.0365\n",
            "Epoch 184: saving model to model/keypoint_classifier/keypoint_classifier_updated3.keras\n",
            "\u001b[1m753/753\u001b[0m \u001b[32m━━━━━━━━━━━━━━━━━━━━\u001b[0m\u001b[37m\u001b[0m \u001b[1m6s\u001b[0m 7ms/step - accuracy: 0.9955 - loss: 0.0365 - val_accuracy: 0.9998 - val_loss: 0.0202 - learning_rate: 1.0000e-06\n",
            "Epoch 185/200\n",
            "\u001b[1m743/753\u001b[0m \u001b[32m━━━━━━━━━━━━━━━━━━━\u001b[0m\u001b[37m━\u001b[0m \u001b[1m0s\u001b[0m 5ms/step - accuracy: 0.9934 - loss: 0.0387\n",
            "Epoch 185: saving model to model/keypoint_classifier/keypoint_classifier_updated3.keras\n",
            "\u001b[1m753/753\u001b[0m \u001b[32m━━━━━━━━━━━━━━━━━━━━\u001b[0m\u001b[37m\u001b[0m \u001b[1m4s\u001b[0m 6ms/step - accuracy: 0.9934 - loss: 0.0387 - val_accuracy: 0.9998 - val_loss: 0.0201 - learning_rate: 1.0000e-06\n",
            "Epoch 186/200\n",
            "\u001b[1m753/753\u001b[0m \u001b[32m━━━━━━━━━━━━━━━━━━━━\u001b[0m\u001b[37m\u001b[0m \u001b[1m0s\u001b[0m 5ms/step - accuracy: 0.9957 - loss: 0.0343\n",
            "Epoch 186: saving model to model/keypoint_classifier/keypoint_classifier_updated3.keras\n",
            "\u001b[1m753/753\u001b[0m \u001b[32m━━━━━━━━━━━━━━━━━━━━\u001b[0m\u001b[37m\u001b[0m \u001b[1m5s\u001b[0m 6ms/step - accuracy: 0.9957 - loss: 0.0343 - val_accuracy: 0.9998 - val_loss: 0.0202 - learning_rate: 1.0000e-06\n",
            "Epoch 187/200\n",
            "\u001b[1m747/753\u001b[0m \u001b[32m━━━━━━━━━━━━━━━━━━━\u001b[0m\u001b[37m━\u001b[0m \u001b[1m0s\u001b[0m 8ms/step - accuracy: 0.9946 - loss: 0.0377\n",
            "Epoch 187: saving model to model/keypoint_classifier/keypoint_classifier_updated3.keras\n",
            "\u001b[1m753/753\u001b[0m \u001b[32m━━━━━━━━━━━━━━━━━━━━\u001b[0m\u001b[37m\u001b[0m \u001b[1m7s\u001b[0m 9ms/step - accuracy: 0.9946 - loss: 0.0377 - val_accuracy: 0.9998 - val_loss: 0.0202 - learning_rate: 1.0000e-06\n",
            "Epoch 188/200\n",
            "\u001b[1m749/753\u001b[0m \u001b[32m━━━━━━━━━━━━━━━━━━━\u001b[0m\u001b[37m━\u001b[0m \u001b[1m0s\u001b[0m 8ms/step - accuracy: 0.9946 - loss: 0.0379\n",
            "Epoch 188: saving model to model/keypoint_classifier/keypoint_classifier_updated3.keras\n",
            "\u001b[1m753/753\u001b[0m \u001b[32m━━━━━━━━━━━━━━━━━━━━\u001b[0m\u001b[37m\u001b[0m \u001b[1m6s\u001b[0m 8ms/step - accuracy: 0.9946 - loss: 0.0379 - val_accuracy: 0.9998 - val_loss: 0.0202 - learning_rate: 1.0000e-06\n",
            "Epoch 189/200\n",
            "\u001b[1m750/753\u001b[0m \u001b[32m━━━━━━━━━━━━━━━━━━━\u001b[0m\u001b[37m━\u001b[0m \u001b[1m0s\u001b[0m 5ms/step - accuracy: 0.9950 - loss: 0.0342\n",
            "Epoch 189: saving model to model/keypoint_classifier/keypoint_classifier_updated3.keras\n",
            "\u001b[1m753/753\u001b[0m \u001b[32m━━━━━━━━━━━━━━━━━━━━\u001b[0m\u001b[37m\u001b[0m \u001b[1m5s\u001b[0m 6ms/step - accuracy: 0.9950 - loss: 0.0343 - val_accuracy: 0.9998 - val_loss: 0.0201 - learning_rate: 1.0000e-06\n",
            "Epoch 190/200\n",
            "\u001b[1m751/753\u001b[0m \u001b[32m━━━━━━━━━━━━━━━━━━━\u001b[0m\u001b[37m━\u001b[0m \u001b[1m0s\u001b[0m 8ms/step - accuracy: 0.9945 - loss: 0.0372\n",
            "Epoch 190: saving model to model/keypoint_classifier/keypoint_classifier_updated3.keras\n",
            "\u001b[1m753/753\u001b[0m \u001b[32m━━━━━━━━━━━━━━━━━━━━\u001b[0m\u001b[37m\u001b[0m \u001b[1m7s\u001b[0m 9ms/step - accuracy: 0.9945 - loss: 0.0372 - val_accuracy: 0.9998 - val_loss: 0.0202 - learning_rate: 1.0000e-06\n",
            "Epoch 191/200\n",
            "\u001b[1m748/753\u001b[0m \u001b[32m━━━━━━━━━━━━━━━━━━━\u001b[0m\u001b[37m━\u001b[0m \u001b[1m0s\u001b[0m 7ms/step - accuracy: 0.9947 - loss: 0.0369\n",
            "Epoch 191: saving model to model/keypoint_classifier/keypoint_classifier_updated3.keras\n",
            "\u001b[1m753/753\u001b[0m \u001b[32m━━━━━━━━━━━━━━━━━━━━\u001b[0m\u001b[37m\u001b[0m \u001b[1m6s\u001b[0m 8ms/step - accuracy: 0.9947 - loss: 0.0369 - val_accuracy: 0.9998 - val_loss: 0.0202 - learning_rate: 1.0000e-06\n",
            "Epoch 192/200\n",
            "\u001b[1m745/753\u001b[0m \u001b[32m━━━━━━━━━━━━━━━━━━━\u001b[0m\u001b[37m━\u001b[0m \u001b[1m0s\u001b[0m 7ms/step - accuracy: 0.9951 - loss: 0.0358\n",
            "Epoch 192: saving model to model/keypoint_classifier/keypoint_classifier_updated3.keras\n",
            "\u001b[1m753/753\u001b[0m \u001b[32m━━━━━━━━━━━━━━━━━━━━\u001b[0m\u001b[37m\u001b[0m \u001b[1m6s\u001b[0m 8ms/step - accuracy: 0.9951 - loss: 0.0359 - val_accuracy: 0.9998 - val_loss: 0.0202 - learning_rate: 1.0000e-06\n",
            "Epoch 193/200\n",
            "\u001b[1m750/753\u001b[0m \u001b[32m━━━━━━━━━━━━━━━━━━━\u001b[0m\u001b[37m━\u001b[0m \u001b[1m0s\u001b[0m 6ms/step - accuracy: 0.9958 - loss: 0.0339\n",
            "Epoch 193: saving model to model/keypoint_classifier/keypoint_classifier_updated3.keras\n",
            "\u001b[1m753/753\u001b[0m \u001b[32m━━━━━━━━━━━━━━━━━━━━\u001b[0m\u001b[37m\u001b[0m \u001b[1m5s\u001b[0m 7ms/step - accuracy: 0.9958 - loss: 0.0339 - val_accuracy: 0.9998 - val_loss: 0.0202 - learning_rate: 1.0000e-06\n",
            "Epoch 194/200\n",
            "\u001b[1m746/753\u001b[0m \u001b[32m━━━━━━━━━━━━━━━━━━━\u001b[0m\u001b[37m━\u001b[0m \u001b[1m0s\u001b[0m 6ms/step - accuracy: 0.9947 - loss: 0.0348\n",
            "Epoch 194: saving model to model/keypoint_classifier/keypoint_classifier_updated3.keras\n",
            "\u001b[1m753/753\u001b[0m \u001b[32m━━━━━━━━━━━━━━━━━━━━\u001b[0m\u001b[37m\u001b[0m \u001b[1m5s\u001b[0m 6ms/step - accuracy: 0.9947 - loss: 0.0348 - val_accuracy: 0.9998 - val_loss: 0.0202 - learning_rate: 1.0000e-06\n",
            "Epoch 195/200\n",
            "\u001b[1m751/753\u001b[0m \u001b[32m━━━━━━━━━━━━━━━━━━━\u001b[0m\u001b[37m━\u001b[0m \u001b[1m0s\u001b[0m 9ms/step - accuracy: 0.9946 - loss: 0.0358\n",
            "Epoch 195: saving model to model/keypoint_classifier/keypoint_classifier_updated3.keras\n",
            "\u001b[1m753/753\u001b[0m \u001b[32m━━━━━━━━━━━━━━━━━━━━\u001b[0m\u001b[37m\u001b[0m \u001b[1m7s\u001b[0m 9ms/step - accuracy: 0.9946 - loss: 0.0358 - val_accuracy: 0.9998 - val_loss: 0.0202 - learning_rate: 1.0000e-06\n",
            "Epoch 196/200\n",
            "\u001b[1m751/753\u001b[0m \u001b[32m━━━━━━━━━━━━━━━━━━━\u001b[0m\u001b[37m━\u001b[0m \u001b[1m0s\u001b[0m 6ms/step - accuracy: 0.9948 - loss: 0.0367\n",
            "Epoch 196: saving model to model/keypoint_classifier/keypoint_classifier_updated3.keras\n",
            "\u001b[1m753/753\u001b[0m \u001b[32m━━━━━━━━━━━━━━━━━━━━\u001b[0m\u001b[37m\u001b[0m \u001b[1m8s\u001b[0m 6ms/step - accuracy: 0.9948 - loss: 0.0367 - val_accuracy: 0.9998 - val_loss: 0.0201 - learning_rate: 1.0000e-06\n",
            "Epoch 197/200\n",
            "\u001b[1m747/753\u001b[0m \u001b[32m━━━━━━━━━━━━━━━━━━━\u001b[0m\u001b[37m━\u001b[0m \u001b[1m0s\u001b[0m 7ms/step - accuracy: 0.9948 - loss: 0.0356\n",
            "Epoch 197: saving model to model/keypoint_classifier/keypoint_classifier_updated3.keras\n",
            "\u001b[1m753/753\u001b[0m \u001b[32m━━━━━━━━━━━━━━━━━━━━\u001b[0m\u001b[37m\u001b[0m \u001b[1m6s\u001b[0m 8ms/step - accuracy: 0.9948 - loss: 0.0356 - val_accuracy: 0.9998 - val_loss: 0.0202 - learning_rate: 1.0000e-06\n",
            "Epoch 198/200\n",
            "\u001b[1m748/753\u001b[0m \u001b[32m━━━━━━━━━━━━━━━━━━━\u001b[0m\u001b[37m━\u001b[0m \u001b[1m0s\u001b[0m 7ms/step - accuracy: 0.9945 - loss: 0.0384\n",
            "Epoch 198: saving model to model/keypoint_classifier/keypoint_classifier_updated3.keras\n",
            "\u001b[1m753/753\u001b[0m \u001b[32m━━━━━━━━━━━━━━━━━━━━\u001b[0m\u001b[37m\u001b[0m \u001b[1m6s\u001b[0m 8ms/step - accuracy: 0.9945 - loss: 0.0384 - val_accuracy: 0.9998 - val_loss: 0.0201 - learning_rate: 1.0000e-06\n",
            "Epoch 199/200\n",
            "\u001b[1m753/753\u001b[0m \u001b[32m━━━━━━━━━━━━━━━━━━━━\u001b[0m\u001b[37m\u001b[0m \u001b[1m0s\u001b[0m 8ms/step - accuracy: 0.9947 - loss: 0.0364\n",
            "Epoch 199: saving model to model/keypoint_classifier/keypoint_classifier_updated3.keras\n",
            "\u001b[1m753/753\u001b[0m \u001b[32m━━━━━━━━━━━━━━━━━━━━\u001b[0m\u001b[37m\u001b[0m \u001b[1m6s\u001b[0m 8ms/step - accuracy: 0.9947 - loss: 0.0364 - val_accuracy: 0.9998 - val_loss: 0.0201 - learning_rate: 1.0000e-06\n",
            "Epoch 200/200\n",
            "\u001b[1m747/753\u001b[0m \u001b[32m━━━━━━━━━━━━━━━━━━━\u001b[0m\u001b[37m━\u001b[0m \u001b[1m0s\u001b[0m 8ms/step - accuracy: 0.9954 - loss: 0.0354\n",
            "Epoch 200: saving model to model/keypoint_classifier/keypoint_classifier_updated3.keras\n",
            "\u001b[1m753/753\u001b[0m \u001b[32m━━━━━━━━━━━━━━━━━━━━\u001b[0m\u001b[37m\u001b[0m \u001b[1m10s\u001b[0m 8ms/step - accuracy: 0.9954 - loss: 0.0354 - val_accuracy: 0.9998 - val_loss: 0.0201 - learning_rate: 1.0000e-06\n"
          ]
        },
        {
          "data": {
            "text/plain": [
              "<keras.src.callbacks.history.History at 0x1e476f65130>"
            ]
          },
          "execution_count": 12,
          "metadata": {},
          "output_type": "execute_result"
        }
      ],
      "source": [
        "model.fit(\n",
        "    X_train,\n",
        "    y_train,\n",
        "    epochs=200,\n",
        "    batch_size=64,\n",
        "    validation_data=(X_val, y_val),  # Validation set for tuning\n",
        "    callbacks=[cp_callback, es_callback, reduce_lr_callback]\n",
        ")"
      ]
    },
    {
      "cell_type": "code",
      "execution_count": 13,
      "metadata": {
        "colab": {
          "base_uri": "https://localhost:8080/"
        },
        "id": "pxvb2Y299hE3",
        "outputId": "59eb3185-2e37-4b9e-bc9d-ab1b8ac29b7f"
      },
      "outputs": [
        {
          "name": "stdout",
          "output_type": "stream",
          "text": [
            "\u001b[1m157/157\u001b[0m \u001b[32m━━━━━━━━━━━━━━━━━━━━\u001b[0m\u001b[37m\u001b[0m \u001b[1m2s\u001b[0m 13ms/step - accuracy: 0.9988 - loss: 0.0259\n",
            "Test accuracy: 0.9986\n"
          ]
        }
      ],
      "source": [
        "# Model evaluation\n",
        "test_loss, test_acc = model.evaluate(X_test, y_test)\n",
        "print(f\"Test accuracy: {test_acc:.4f}\")"
      ]
    },
    {
      "cell_type": "code",
      "execution_count": 14,
      "metadata": {
        "id": "RBkmDeUW9hE4"
      },
      "outputs": [],
      "source": [
        "# Loading the saved model\n",
        "model = tf.keras.models.load_model(model_save_path)"
      ]
    },
    {
      "cell_type": "code",
      "execution_count": 15,
      "metadata": {
        "colab": {
          "base_uri": "https://localhost:8080/"
        },
        "id": "tFz9Tb0I9hE4",
        "outputId": "1c3b3528-54ae-4ee2-ab04-77429211cbef"
      },
      "outputs": [
        {
          "name": "stdout",
          "output_type": "stream",
          "text": [
            "\u001b[1m1/1\u001b[0m \u001b[32m━━━━━━━━━━━━━━━━━━━━\u001b[0m\u001b[37m\u001b[0m \u001b[1m0s\u001b[0m 140ms/step\n",
            "[1.43289265e-08 1.49654276e-20 7.17737586e-19 8.89951768e-15\n",
            " 2.76250485e-12 2.57538283e-17 2.08643547e-10 4.25799459e-17\n",
            " 7.70592411e-13 3.47276582e-11 9.28012008e-12 8.57497973e-17\n",
            " 1.35851790e-12 4.67311303e-13 1.68136209e-14 8.03691542e-15\n",
            " 1.11975528e-14 4.49809541e-16 3.66901258e-12 1.00000000e+00\n",
            " 1.33691386e-14 1.13767841e-16 2.65632470e-16 1.02031783e-09\n",
            " 4.30910434e-18 1.91416808e-14]\n",
            "19\n"
          ]
        }
      ],
      "source": [
        "# Inference test\n",
        "predict_result = model.predict(np.array([X_test[0]]))\n",
        "print(np.squeeze(predict_result))\n",
        "print(np.argmax(np.squeeze(predict_result)))"
      ]
    },
    {
      "cell_type": "markdown",
      "metadata": {
        "id": "S3U4yNWx9hE4"
      },
      "source": [
        "# Confusion matrix"
      ]
    },
    {
      "cell_type": "code",
      "execution_count": 16,
      "metadata": {
        "colab": {
          "base_uri": "https://localhost:8080/",
          "height": 582
        },
        "id": "AP1V6SCk9hE5",
        "outputId": "08e41a80-7a4a-4619-8125-ecc371368d19"
      },
      "outputs": [
        {
          "name": "stdout",
          "output_type": "stream",
          "text": [
            "\u001b[1m157/157\u001b[0m \u001b[32m━━━━━━━━━━━━━━━━━━━━\u001b[0m\u001b[37m\u001b[0m \u001b[1m0s\u001b[0m 2ms/step\n"
          ]
        },
        {
          "data": {
            "image/png": "[encoded data removed]",
            "text/plain": [
              "<Figure size 700x600 with 2 Axes>"
            ]
          },
          "metadata": {},
          "output_type": "display_data"
        },
        {
          "name": "stdout",
          "output_type": "stream",
          "text": [
            "Classification Report\n",
            "              precision    recall  f1-score   support\n",
            "\n",
            "           0       0.99      1.00      1.00       152\n",
            "           1       1.00      1.00      1.00       124\n",
            "           2       1.00      1.00      1.00       235\n",
            "           3       1.00      1.00      1.00       227\n",
            "           4       0.99      1.00      0.99       187\n",
            "           5       1.00      1.00      1.00       181\n",
            "           6       1.00      1.00      1.00       174\n",
            "           7       1.00      1.00      1.00       178\n",
            "           8       1.00      1.00      1.00       239\n",
            "           9       1.00      1.00      1.00       219\n",
            "          10       1.00      1.00      1.00       168\n",
            "          11       1.00      1.00      1.00       150\n",
            "          12       1.00      1.00      1.00       157\n",
            "          13       1.00      1.00      1.00       195\n",
            "          14       1.00      1.00      1.00       190\n",
            "          15       1.00      1.00      1.00       188\n",
            "          16       1.00      1.00      1.00       197\n",
            "          17       1.00      0.98      0.99       189\n",
            "          18       1.00      0.99      0.99       227\n",
            "          19       1.00      1.00      1.00       184\n",
            "          20       1.00      1.00      1.00       212\n",
            "          21       1.00      1.00      1.00       192\n",
            "          22       1.00      1.00      1.00       220\n",
            "          23       1.00      1.00      1.00       226\n",
            "          24       1.00      1.00      1.00       205\n",
            "          25       0.99      1.00      0.99       201\n",
            "\n",
            "    accuracy                           1.00      5017\n",
            "   macro avg       1.00      1.00      1.00      5017\n",
            "weighted avg       1.00      1.00      1.00      5017\n",
            "\n"
          ]
        }
      ],
      "source": [
        "import pandas as pd\n",
        "import seaborn as sns\n",
        "import matplotlib.pyplot as plt\n",
        "from sklearn.metrics import confusion_matrix, classification_report\n",
        "\n",
        "def print_confusion_matrix(y_true, y_pred, report=True):\n",
        "    labels = sorted(list(set(y_true)))\n",
        "    cmx_data = confusion_matrix(y_true, y_pred, labels=labels)\n",
        "    \n",
        "    df_cmx = pd.DataFrame(cmx_data, index=labels, columns=labels)\n",
        " \n",
        "    fig, ax = plt.subplots(figsize=(7, 6))\n",
        "    sns.heatmap(df_cmx, annot=True, fmt='g' ,square=False)\n",
        "    ax.set_ylim(len(set(y_true)), 0)\n",
        "    plt.show()\n",
        "    \n",
        "    if report:\n",
        "        print('Classification Report')\n",
        "        print(classification_report(y_test, y_pred))\n",
        "\n",
        "Y_pred = model.predict(X_test)\n",
        "y_pred = np.argmax(Y_pred, axis=1)\n",
        "\n",
        "print_confusion_matrix(y_test, y_pred)"
      ]
    },
    {
      "cell_type": "markdown",
      "metadata": {
        "id": "FNP6aqzc9hE5"
      },
      "source": [
        "# Convert to model for Tensorflow-Lite"
      ]
    },
    {
      "cell_type": "code",
      "execution_count": 17,
      "metadata": {
        "id": "ODjnYyld9hE6"
      },
      "outputs": [],
      "source": [
        "# Save as a model dedicated to inference\n",
        "model.save(model_save_path, include_optimizer=False)"
      ]
    },
    {
      "cell_type": "code",
      "execution_count": 18,
      "metadata": {
        "colab": {
          "base_uri": "https://localhost:8080/"
        },
        "id": "zRfuK8Y59hE6",
        "outputId": "a4ca585c-b5d5-4244-8291-8674063209bb"
      },
      "outputs": [
        {
          "name": "stdout",
          "output_type": "stream",
          "text": [
            "INFO:tensorflow:Assets written to: C:\\Users\\ARAVIN~1\\AppData\\Local\\Temp\\tmplhyw4hat\\assets\n"
          ]
        },
        {
          "name": "stderr",
          "output_type": "stream",
          "text": [
            "INFO:tensorflow:Assets written to: C:\\Users\\ARAVIN~1\\AppData\\Local\\Temp\\tmplhyw4hat\\assets\n"
          ]
        },
        {
          "name": "stdout",
          "output_type": "stream",
          "text": [
            "Saved artifact at 'C:\\Users\\ARAVIN~1\\AppData\\Local\\Temp\\tmplhyw4hat'. The following endpoints are available:\n",
            "\n",
            "* Endpoint 'serve'\n",
            "  args_0 (POSITIONAL_ONLY): TensorSpec(shape=(None, 42), dtype=tf.float32, name='input_layer')\n",
            "Output Type:\n",
            "  TensorSpec(shape=(None, 26), dtype=tf.float32, name=None)\n",
            "Captures:\n",
            "  2080884498496: TensorSpec(shape=(), dtype=tf.resource, name=None)\n",
            "  2080759183136: TensorSpec(shape=(), dtype=tf.resource, name=None)\n",
            "  2080805505152: TensorSpec(shape=(), dtype=tf.resource, name=None)\n",
            "  2080800593168: TensorSpec(shape=(), dtype=tf.resource, name=None)\n",
            "  2080805566944: TensorSpec(shape=(), dtype=tf.resource, name=None)\n",
            "  2080805503040: TensorSpec(shape=(), dtype=tf.resource, name=None)\n",
            "  2080884626176: TensorSpec(shape=(), dtype=tf.resource, name=None)\n",
            "  2080800375728: TensorSpec(shape=(), dtype=tf.resource, name=None)\n",
            "  2080798524160: TensorSpec(shape=(), dtype=tf.resource, name=None)\n",
            "  2080798525216: TensorSpec(shape=(), dtype=tf.resource, name=None)\n",
            "  2080798497952: TensorSpec(shape=(), dtype=tf.resource, name=None)\n",
            "  2080798523984: TensorSpec(shape=(), dtype=tf.resource, name=None)\n",
            "  2080798596784: TensorSpec(shape=(), dtype=tf.resource, name=None)\n",
            "  2080798632240: TensorSpec(shape=(), dtype=tf.resource, name=None)\n",
            "  2080798683200: TensorSpec(shape=(), dtype=tf.resource, name=None)\n",
            "  2080798684256: TensorSpec(shape=(), dtype=tf.resource, name=None)\n",
            "  2080798644704: TensorSpec(shape=(), dtype=tf.resource, name=None)\n",
            "  2080798646112: TensorSpec(shape=(), dtype=tf.resource, name=None)\n",
            "  2080798794320: TensorSpec(shape=(), dtype=tf.resource, name=None)\n",
            "  2080798794144: TensorSpec(shape=(), dtype=tf.resource, name=None)\n"
          ]
        },
        {
          "data": {
            "text/plain": [
              "25488"
            ]
          },
          "execution_count": 18,
          "metadata": {},
          "output_type": "execute_result"
        }
      ],
      "source": [
        "# Transform model (quantization)\n",
        "\n",
        "converter = tf.lite.TFLiteConverter.from_keras_model(model)\n",
        "converter.optimizations = [tf.lite.Optimize.DEFAULT]\n",
        "tflite_quantized_model = converter.convert()\n",
        "\n",
        "open(tflite_save_path, 'wb').write(tflite_quantized_model)"
      ]
    },
    {
      "cell_type": "markdown",
      "metadata": {
        "id": "CHBPBXdx9hE6"
      },
      "source": [
        "# Inference test"
      ]
    },
    {
      "cell_type": "code",
      "execution_count": 19,
      "metadata": {
        "id": "mGAzLocO9hE7"
      },
      "outputs": [
        {
          "name": "stderr",
          "output_type": "stream",
          "text": [
            "c:\\Softwares\\All Programs\\New\\venv\\lib\\site-packages\\tensorflow\\lite\\python\\interpreter.py:457: UserWarning:     Warning: tf.lite.Interpreter is deprecated and is scheduled for deletion in\n",
            "    TF 2.20. Please use the LiteRT interpreter from the ai_edge_litert package.\n",
            "    See the [migration guide](https://ai.google.dev/edge/litert/migration)\n",
            "    for details.\n",
            "    \n",
            "  warnings.warn(_INTERPRETER_DELETION_WARNING)\n"
          ]
        }
      ],
      "source": [
        "interpreter = tf.lite.Interpreter(model_path=tflite_save_path)\n",
        "interpreter.allocate_tensors()"
      ]
    },
    {
      "cell_type": "code",
      "execution_count": 20,
      "metadata": {
        "id": "oQuDK8YS9hE7"
      },
      "outputs": [],
      "source": [
        "# Get I / O tensor\n",
        "input_details = interpreter.get_input_details()\n",
        "output_details = interpreter.get_output_details()"
      ]
    },
    {
      "cell_type": "code",
      "execution_count": 21,
      "metadata": {
        "id": "2_ixAf_l9hE7"
      },
      "outputs": [],
      "source": [
        "interpreter.set_tensor(input_details[0]['index'], np.array([X_test[0]]))"
      ]
    },
    {
      "cell_type": "code",
      "execution_count": 22,
      "metadata": {
        "colab": {
          "base_uri": "https://localhost:8080/"
        },
        "id": "s4FoAnuc9hE7",
        "outputId": "91f18257-8d8b-4ef3-c558-e9b5f94fabbf",
        "scrolled": true
      },
      "outputs": [
        {
          "name": "stdout",
          "output_type": "stream",
          "text": [
            "CPU times: total: 0 ns\n",
            "Wall time: 8.57 ms\n"
          ]
        }
      ],
      "source": [
        "%%time\n",
        "# Inference implementation\n",
        "interpreter.invoke()\n",
        "tflite_results = interpreter.get_tensor(output_details[0]['index'])"
      ]
    },
    {
      "cell_type": "code",
      "execution_count": 23,
      "metadata": {
        "colab": {
          "base_uri": "https://localhost:8080/"
        },
        "id": "vONjp19J9hE8",
        "outputId": "77205e24-fd00-42c4-f7b6-e06e527c2cba"
      },
      "outputs": [
        {
          "name": "stdout",
          "output_type": "stream",
          "text": [
            "[1.49810262e-08 1.40119226e-20 6.93889918e-19 9.16081718e-15\n",
            " 2.60185341e-12 2.56530297e-17 2.22186339e-10 4.34111400e-17\n",
            " 7.85425273e-13 3.63506378e-11 1.04834709e-11 8.30196579e-17\n",
            " 1.41277777e-12 4.47860038e-13 1.66921005e-14 8.19880629e-15\n",
            " 1.05874045e-14 4.29171927e-16 3.47327419e-12 1.00000000e+00\n",
            " 1.34538597e-14 1.26078988e-16 2.53056678e-16 9.25278631e-10\n",
            " 4.48679721e-18 1.80855798e-14]\n",
            "19\n"
          ]
        }
      ],
      "source": [
        "print(np.squeeze(tflite_results))\n",
        "print(np.argmax(np.squeeze(tflite_results)))"
      ]
    }
  ],
  "metadata": {
    "accelerator": "GPU",
    "colab": {
      "collapsed_sections": [],
      "name": "keypoint_classification_EN.ipynb",
      "provenance": [],
      "toc_visible": true
    },
    "kernelspec": {
      "display_name": "venv",
      "language": "python",
      "name": "python3"
    },
    "language_info": {
      "codemirror_mode": {
        "name": "ipython",
        "version": 3
      },
      "file_extension": ".py",
      "mimetype": "text/x-python",
      "name": "python",
      "nbconvert_exporter": "python",
      "pygments_lexer": "ipython3",
      "version": "3.9.9"
    }
  },
  "nbformat": 4,
  "nbformat_minor": 0
}
