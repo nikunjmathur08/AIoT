{
  "cells": [
    {
      "cell_type": "code",
      "execution_count": 1,
      "metadata": {
        "id": "igMyGnjE9hEp"
      },
      "outputs": [],
      "source": [
        "import csv\n",
        "\n",
        "import numpy as np\n",
        "import tensorflow as tf\n",
        "from sklearn.model_selection import train_test_split\n",
        "\n",
        "RANDOM_SEED = 42"
      ]
    },
    {
      "cell_type": "markdown",
      "metadata": {
        "id": "t2HDvhIu9hEr"
      },
      "source": [
        "# Specify each path"
      ]
    },
    {
      "cell_type": "code",
      "execution_count": 2,
      "metadata": {
        "id": "9NvZP2Zn9hEy"
      },
      "outputs": [],
      "source": [
        "dataset = 'model/keypoint_classifier/Alphabet_keys.csv'\n",
        "model_save_path = 'model/keypoint_classifier/keypoint_classifier_updated2.keras'\n",
        "tflite_save_path = 'model/keypoint_classifier/keypoint_classifier2.tflite'"
      ]
    },
    {
      "cell_type": "markdown",
      "metadata": {
        "id": "s5oMH7x19hEz"
      },
      "source": [
        "# Set number of classes"
      ]
    },
    {
      "cell_type": "code",
      "execution_count": 3,
      "metadata": {
        "id": "du4kodXL9hEz"
      },
      "outputs": [],
      "source": [
        "NUM_CLASSES = 26"
      ]
    },
    {
      "cell_type": "markdown",
      "metadata": {
        "id": "XjnL0uso9hEz"
      },
      "source": [
        "# Dataset reading"
      ]
    },
    {
      "cell_type": "code",
      "execution_count": 4,
      "metadata": {
        "id": "QT5ZqtEz9hE0"
      },
      "outputs": [],
      "source": [
        "X_dataset = np.loadtxt(dataset, delimiter=',', dtype='float32', usecols=list(range(1, (21 * 2) + 1)))"
      ]
    },
    {
      "cell_type": "code",
      "execution_count": 5,
      "metadata": {
        "id": "QmoKFsp49hE0"
      },
      "outputs": [],
      "source": [
        "y_dataset = np.loadtxt(dataset, delimiter=',', dtype='int32', usecols=(0))"
      ]
    },
    {
      "cell_type": "code",
      "execution_count": 6,
      "metadata": {
        "id": "xQU7JTZ_9hE0"
      },
      "outputs": [],
      "source": [
        "X_train, X_test, y_train, y_test = train_test_split(X_dataset, y_dataset, train_size=0.75, random_state=RANDOM_SEED)"
      ]
    },
    {
      "cell_type": "markdown",
      "metadata": {
        "id": "mxK_lETT9hE0"
      },
      "source": [
        "# Model building"
      ]
    },
    {
      "cell_type": "code",
      "execution_count": 7,
      "metadata": {
        "id": "vHBmUf1t9hE1"
      },
      "outputs": [],
      "source": [
        "model = tf.keras.models.Sequential([\n",
        "    tf.keras.layers.Input((21 * 2, )),\n",
        "    tf.keras.layers.Dense(128, activation='relu'),\n",
        "    tf.keras.layers.BatchNormalization(),\n",
        "    tf.keras.layers.Dropout(0.3),\n",
        "    tf.keras.layers.Dense(64, activation='relu'),\n",
        "    tf.keras.layers.BatchNormalization(),\n",
        "    tf.keras.layers.Dropout(0.3),\n",
        "    tf.keras.layers.Dense(32, activation='relu'),\n",
        "    tf.keras.layers.BatchNormalization(),\n",
        "    tf.keras.layers.Dropout(0.2),\n",
        "    tf.keras.layers.Dense(NUM_CLASSES, activation='softmax')\n",
        "])"
      ]
    },
    {
      "cell_type": "code",
      "execution_count": 8,
      "metadata": {
        "colab": {
          "base_uri": "https://localhost:8080/"
        },
        "id": "ypqky9tc9hE1",
        "outputId": "5db082bb-30e3-4110-bf63-a1ee777ecd46"
      },
      "outputs": [
        {
          "name": "stdout",
          "output_type": "stream",
          "text": [
            "Model: \"sequential\"\n",
            "_________________________________________________________________\n",
            " Layer (type)                Output Shape              Param #   \n",
            "=================================================================\n",
            " dense (Dense)               (None, 128)               5504      \n",
            "                                                                 \n",
            " batch_normalization (BatchN  (None, 128)              512       \n",
            " ormalization)                                                   \n",
            "                                                                 \n",
            " dropout (Dropout)           (None, 128)               0         \n",
            "                                                                 \n",
            " dense_1 (Dense)             (None, 64)                8256      \n",
            "                                                                 \n",
            " batch_normalization_1 (Batc  (None, 64)               256       \n",
            " hNormalization)                                                 \n",
            "                                                                 \n",
            " dropout_1 (Dropout)         (None, 64)                0         \n",
            "                                                                 \n",
            " dense_2 (Dense)             (None, 32)                2080      \n",
            "                                                                 \n",
            " batch_normalization_2 (Batc  (None, 32)               128       \n",
            " hNormalization)                                                 \n",
            "                                                                 \n",
            " dropout_2 (Dropout)         (None, 32)                0         \n",
            "                                                                 \n",
            " dense_3 (Dense)             (None, 26)                858       \n",
            "                                                                 \n",
            "=================================================================\n",
            "Total params: 17,594\n",
            "Trainable params: 17,146\n",
            "Non-trainable params: 448\n",
            "_________________________________________________________________\n"
          ]
        }
      ],
      "source": [
        "model.summary()  # tf.keras.utils.plot_model(model, show_shapes=True)"
      ]
    },
    {
      "cell_type": "code",
      "execution_count": 9,
      "metadata": {
        "id": "MbMjOflQ9hE1"
      },
      "outputs": [],
      "source": [
        "# Model checkpoint callback\n",
        "cp_callback = tf.keras.callbacks.ModelCheckpoint(\n",
        "    model_save_path, verbose=1, save_weights_only=False)\n",
        "# Callback for early stopping\n",
        "es_callback = tf.keras.callbacks.EarlyStopping(patience=20, verbose=1)"
      ]
    },
    {
      "cell_type": "code",
      "execution_count": 10,
      "metadata": {},
      "outputs": [],
      "source": [
        "from tensorflow.keras.callbacks import  ReduceLROnPlateau\n",
        "reduce_lr_callback = ReduceLROnPlateau(\n",
        "    monitor='val_loss',      # Metric to monitor\n",
        "    factor=0.5,              # Reduce LR by this factor\n",
        "    patience=5,              # Epochs with no improvement to wait\n",
        "    min_lr=1e-6,             # Minimum LR\n",
        "    verbose=1                # Print updates\n",
        ")"
      ]
    },
    {
      "cell_type": "code",
      "execution_count": 11,
      "metadata": {
        "id": "c3Dac0M_9hE2"
      },
      "outputs": [],
      "source": [
        "# Model compilation\n",
        "model.compile(\n",
        "    optimizer='adam',\n",
        "    loss='sparse_categorical_crossentropy',\n",
        "    metrics=['accuracy']\n",
        ")"
      ]
    },
    {
      "cell_type": "markdown",
      "metadata": {
        "id": "7XI0j1Iu9hE2"
      },
      "source": [
        "# Model training"
      ]
    },
    {
      "cell_type": "code",
      "execution_count": 12,
      "metadata": {
        "colab": {
          "base_uri": "https://localhost:8080/"
        },
        "id": "WirBl-JE9hE3",
        "outputId": "71b30ca2-8294-4d9d-8aa2-800d90d399de",
        "scrolled": true
      },
      "outputs": [
        {
          "name": "stdout",
          "output_type": "stream",
          "text": [
            "Epoch 1/1000\n",
            "143/147 [============================>.] - ETA: 0s - loss: 1.9711 - accuracy: 0.4516\n",
            "Epoch 1: saving model to model/keypoint_classifier\\keypoint_classifier_updated2.keras\n",
            "147/147 [==============================] - 2s 6ms/step - loss: 1.9497 - accuracy: 0.4579 - val_loss: 2.3423 - val_accuracy: 0.2647 - lr: 0.0010\n",
            "Epoch 2/1000\n",
            "140/147 [===========================>..] - ETA: 0s - loss: 0.8288 - accuracy: 0.7914\n",
            "Epoch 2: saving model to model/keypoint_classifier\\keypoint_classifier_updated2.keras\n",
            "147/147 [==============================] - 1s 5ms/step - loss: 0.8176 - accuracy: 0.7949 - val_loss: 1.0420 - val_accuracy: 0.8069 - lr: 0.0010\n",
            "Epoch 3/1000\n",
            "146/147 [============================>.] - ETA: 0s - loss: 0.4486 - accuracy: 0.8855\n",
            "Epoch 3: saving model to model/keypoint_classifier\\keypoint_classifier_updated2.keras\n",
            "147/147 [==============================] - 1s 5ms/step - loss: 0.4475 - accuracy: 0.8860 - val_loss: 0.3140 - val_accuracy: 0.9687 - lr: 0.0010\n",
            "Epoch 4/1000\n",
            "144/147 [============================>.] - ETA: 0s - loss: 0.2912 - accuracy: 0.9274\n",
            "Epoch 4: saving model to model/keypoint_classifier\\keypoint_classifier_updated2.keras\n",
            "147/147 [==============================] - 1s 5ms/step - loss: 0.2895 - accuracy: 0.9279 - val_loss: 0.0984 - val_accuracy: 0.9829 - lr: 0.0010\n",
            "Epoch 5/1000\n",
            "139/147 [===========================>..] - ETA: 0s - loss: 0.2076 - accuracy: 0.9496\n",
            "Epoch 5: saving model to model/keypoint_classifier\\keypoint_classifier_updated2.keras\n",
            "147/147 [==============================] - 1s 5ms/step - loss: 0.2063 - accuracy: 0.9498 - val_loss: 0.0624 - val_accuracy: 0.9823 - lr: 0.0010\n",
            "Epoch 6/1000\n",
            "134/147 [==========================>...] - ETA: 0s - loss: 0.1659 - accuracy: 0.9597\n",
            "Epoch 6: saving model to model/keypoint_classifier\\keypoint_classifier_updated2.keras\n",
            "147/147 [==============================] - 1s 5ms/step - loss: 0.1648 - accuracy: 0.9604 - val_loss: 0.0439 - val_accuracy: 0.9871 - lr: 0.0010\n",
            "Epoch 7/1000\n",
            "136/147 [==========================>...] - ETA: 0s - loss: 0.1354 - accuracy: 0.9655\n",
            "Epoch 7: saving model to model/keypoint_classifier\\keypoint_classifier_updated2.keras\n",
            "147/147 [==============================] - 1s 5ms/step - loss: 0.1338 - accuracy: 0.9660 - val_loss: 0.0289 - val_accuracy: 0.9938 - lr: 0.0010\n",
            "Epoch 8/1000\n",
            "139/147 [===========================>..] - ETA: 0s - loss: 0.1095 - accuracy: 0.9730\n",
            "Epoch 8: saving model to model/keypoint_classifier\\keypoint_classifier_updated2.keras\n",
            "147/147 [==============================] - 1s 5ms/step - loss: 0.1094 - accuracy: 0.9732 - val_loss: 0.0202 - val_accuracy: 0.9960 - lr: 0.0010\n",
            "Epoch 9/1000\n",
            "140/147 [===========================>..] - ETA: 0s - loss: 0.0925 - accuracy: 0.9771\n",
            "Epoch 9: saving model to model/keypoint_classifier\\keypoint_classifier_updated2.keras\n",
            "147/147 [==============================] - 1s 5ms/step - loss: 0.0924 - accuracy: 0.9772 - val_loss: 0.0236 - val_accuracy: 0.9947 - lr: 0.0010\n",
            "Epoch 10/1000\n",
            "142/147 [===========================>..] - ETA: 0s - loss: 0.0798 - accuracy: 0.9818\n",
            "Epoch 10: saving model to model/keypoint_classifier\\keypoint_classifier_updated2.keras\n",
            "147/147 [==============================] - 1s 5ms/step - loss: 0.0803 - accuracy: 0.9815 - val_loss: 0.0182 - val_accuracy: 0.9962 - lr: 0.0010\n",
            "Epoch 11/1000\n",
            "135/147 [==========================>...] - ETA: 0s - loss: 0.0728 - accuracy: 0.9814\n",
            "Epoch 11: saving model to model/keypoint_classifier\\keypoint_classifier_updated2.keras\n",
            "147/147 [==============================] - 1s 5ms/step - loss: 0.0733 - accuracy: 0.9814 - val_loss: 0.0302 - val_accuracy: 0.9901 - lr: 0.0010\n",
            "Epoch 12/1000\n",
            "145/147 [============================>.] - ETA: 0s - loss: 0.0683 - accuracy: 0.9827\n",
            "Epoch 12: saving model to model/keypoint_classifier\\keypoint_classifier_updated2.keras\n",
            "147/147 [==============================] - 1s 5ms/step - loss: 0.0683 - accuracy: 0.9826 - val_loss: 0.0126 - val_accuracy: 0.9968 - lr: 0.0010\n",
            "Epoch 13/1000\n",
            "145/147 [============================>.] - ETA: 0s - loss: 0.0672 - accuracy: 0.9829\n",
            "Epoch 13: saving model to model/keypoint_classifier\\keypoint_classifier_updated2.keras\n",
            "147/147 [==============================] - 1s 5ms/step - loss: 0.0676 - accuracy: 0.9827 - val_loss: 0.0158 - val_accuracy: 0.9957 - lr: 0.0010\n",
            "Epoch 14/1000\n",
            "137/147 [==========================>...] - ETA: 0s - loss: 0.0569 - accuracy: 0.9847\n",
            "Epoch 14: saving model to model/keypoint_classifier\\keypoint_classifier_updated2.keras\n",
            "147/147 [==============================] - 1s 5ms/step - loss: 0.0568 - accuracy: 0.9848 - val_loss: 0.0166 - val_accuracy: 0.9947 - lr: 0.0010\n",
            "Epoch 15/1000\n",
            "147/147 [==============================] - ETA: 0s - loss: 0.0547 - accuracy: 0.9858\n",
            "Epoch 15: saving model to model/keypoint_classifier\\keypoint_classifier_updated2.keras\n",
            "147/147 [==============================] - 1s 5ms/step - loss: 0.0547 - accuracy: 0.9858 - val_loss: 0.0178 - val_accuracy: 0.9941 - lr: 0.0010\n",
            "Epoch 16/1000\n",
            "140/147 [===========================>..] - ETA: 0s - loss: 0.0469 - accuracy: 0.9883\n",
            "Epoch 16: saving model to model/keypoint_classifier\\keypoint_classifier_updated2.keras\n",
            "147/147 [==============================] - 1s 5ms/step - loss: 0.0471 - accuracy: 0.9882 - val_loss: 0.0134 - val_accuracy: 0.9954 - lr: 0.0010\n",
            "Epoch 17/1000\n",
            "140/147 [===========================>..] - ETA: 0s - loss: 0.0503 - accuracy: 0.9852\n",
            "Epoch 17: saving model to model/keypoint_classifier\\keypoint_classifier_updated2.keras\n",
            "147/147 [==============================] - 1s 5ms/step - loss: 0.0496 - accuracy: 0.9853 - val_loss: 0.0110 - val_accuracy: 0.9971 - lr: 0.0010\n",
            "Epoch 18/1000\n",
            "138/147 [===========================>..] - ETA: 0s - loss: 0.0478 - accuracy: 0.9874\n",
            "Epoch 18: saving model to model/keypoint_classifier\\keypoint_classifier_updated2.keras\n",
            "147/147 [==============================] - 1s 5ms/step - loss: 0.0481 - accuracy: 0.9876 - val_loss: 0.0126 - val_accuracy: 0.9970 - lr: 0.0010\n",
            "Epoch 19/1000\n",
            "138/147 [===========================>..] - ETA: 0s - loss: 0.0463 - accuracy: 0.9877\n",
            "Epoch 19: saving model to model/keypoint_classifier\\keypoint_classifier_updated2.keras\n",
            "147/147 [==============================] - 1s 5ms/step - loss: 0.0466 - accuracy: 0.9875 - val_loss: 0.0163 - val_accuracy: 0.9946 - lr: 0.0010\n",
            "Epoch 20/1000\n",
            "144/147 [============================>.] - ETA: 0s - loss: 0.0504 - accuracy: 0.9867\n",
            "Epoch 20: saving model to model/keypoint_classifier\\keypoint_classifier_updated2.keras\n",
            "147/147 [==============================] - 1s 5ms/step - loss: 0.0504 - accuracy: 0.9867 - val_loss: 0.0086 - val_accuracy: 0.9982 - lr: 0.0010\n",
            "Epoch 21/1000\n",
            "146/147 [============================>.] - ETA: 0s - loss: 0.0402 - accuracy: 0.9891\n",
            "Epoch 21: saving model to model/keypoint_classifier\\keypoint_classifier_updated2.keras\n",
            "147/147 [==============================] - 1s 5ms/step - loss: 0.0401 - accuracy: 0.9891 - val_loss: 0.0073 - val_accuracy: 0.9982 - lr: 0.0010\n",
            "Epoch 22/1000\n",
            "138/147 [===========================>..] - ETA: 0s - loss: 0.0370 - accuracy: 0.9901\n",
            "Epoch 22: saving model to model/keypoint_classifier\\keypoint_classifier_updated2.keras\n",
            "147/147 [==============================] - 1s 5ms/step - loss: 0.0373 - accuracy: 0.9899 - val_loss: 0.0083 - val_accuracy: 0.9984 - lr: 0.0010\n",
            "Epoch 23/1000\n",
            "146/147 [============================>.] - ETA: 0s - loss: 0.0420 - accuracy: 0.9883\n",
            "Epoch 23: saving model to model/keypoint_classifier\\keypoint_classifier_updated2.keras\n",
            "147/147 [==============================] - 1s 5ms/step - loss: 0.0419 - accuracy: 0.9883 - val_loss: 0.0167 - val_accuracy: 0.9935 - lr: 0.0010\n",
            "Epoch 24/1000\n",
            "139/147 [===========================>..] - ETA: 0s - loss: 0.0376 - accuracy: 0.9900\n",
            "Epoch 24: saving model to model/keypoint_classifier\\keypoint_classifier_updated2.keras\n",
            "147/147 [==============================] - 1s 5ms/step - loss: 0.0377 - accuracy: 0.9901 - val_loss: 0.0137 - val_accuracy: 0.9970 - lr: 0.0010\n",
            "Epoch 25/1000\n",
            "146/147 [============================>.] - ETA: 0s - loss: 0.0365 - accuracy: 0.9896\n",
            "Epoch 25: saving model to model/keypoint_classifier\\keypoint_classifier_updated2.keras\n",
            "147/147 [==============================] - 1s 5ms/step - loss: 0.0365 - accuracy: 0.9896 - val_loss: 0.0083 - val_accuracy: 0.9974 - lr: 0.0010\n",
            "Epoch 26/1000\n",
            "140/147 [===========================>..] - ETA: 0s - loss: 0.0342 - accuracy: 0.9915\n",
            "Epoch 26: saving model to model/keypoint_classifier\\keypoint_classifier_updated2.keras\n",
            "\n",
            "Epoch 26: ReduceLROnPlateau reducing learning rate to 0.0005000000237487257.\n",
            "147/147 [==============================] - 1s 5ms/step - loss: 0.0342 - accuracy: 0.9914 - val_loss: 0.0139 - val_accuracy: 0.9967 - lr: 0.0010\n",
            "Epoch 27/1000\n",
            "138/147 [===========================>..] - ETA: 0s - loss: 0.0278 - accuracy: 0.9929\n",
            "Epoch 27: saving model to model/keypoint_classifier\\keypoint_classifier_updated2.keras\n",
            "147/147 [==============================] - 1s 5ms/step - loss: 0.0274 - accuracy: 0.9929 - val_loss: 0.0070 - val_accuracy: 0.9984 - lr: 5.0000e-04\n",
            "Epoch 28/1000\n",
            "135/147 [==========================>...] - ETA: 0s - loss: 0.0228 - accuracy: 0.9951\n",
            "Epoch 28: saving model to model/keypoint_classifier\\keypoint_classifier_updated2.keras\n",
            "147/147 [==============================] - 1s 5ms/step - loss: 0.0224 - accuracy: 0.9949 - val_loss: 0.0088 - val_accuracy: 0.9971 - lr: 5.0000e-04\n",
            "Epoch 29/1000\n",
            "141/147 [===========================>..] - ETA: 0s - loss: 0.0229 - accuracy: 0.9946\n",
            "Epoch 29: saving model to model/keypoint_classifier\\keypoint_classifier_updated2.keras\n",
            "147/147 [==============================] - 1s 5ms/step - loss: 0.0228 - accuracy: 0.9945 - val_loss: 0.0077 - val_accuracy: 0.9982 - lr: 5.0000e-04\n",
            "Epoch 30/1000\n",
            "137/147 [==========================>...] - ETA: 0s - loss: 0.0194 - accuracy: 0.9953\n",
            "Epoch 30: saving model to model/keypoint_classifier\\keypoint_classifier_updated2.keras\n",
            "147/147 [==============================] - 1s 5ms/step - loss: 0.0197 - accuracy: 0.9953 - val_loss: 0.0057 - val_accuracy: 0.9982 - lr: 5.0000e-04\n",
            "Epoch 31/1000\n",
            "136/147 [==========================>...] - ETA: 0s - loss: 0.0220 - accuracy: 0.9946\n",
            "Epoch 31: saving model to model/keypoint_classifier\\keypoint_classifier_updated2.keras\n",
            "147/147 [==============================] - 1s 5ms/step - loss: 0.0221 - accuracy: 0.9945 - val_loss: 0.0093 - val_accuracy: 0.9982 - lr: 5.0000e-04\n",
            "Epoch 32/1000\n",
            "144/147 [============================>.] - ETA: 0s - loss: 0.0198 - accuracy: 0.9950\n",
            "Epoch 32: saving model to model/keypoint_classifier\\keypoint_classifier_updated2.keras\n",
            "147/147 [==============================] - 1s 6ms/step - loss: 0.0196 - accuracy: 0.9951 - val_loss: 0.0049 - val_accuracy: 0.9984 - lr: 5.0000e-04\n",
            "Epoch 33/1000\n",
            "143/147 [============================>.] - ETA: 0s - loss: 0.0225 - accuracy: 0.9937\n",
            "Epoch 33: saving model to model/keypoint_classifier\\keypoint_classifier_updated2.keras\n",
            "147/147 [==============================] - 1s 5ms/step - loss: 0.0224 - accuracy: 0.9938 - val_loss: 0.0051 - val_accuracy: 0.9986 - lr: 5.0000e-04\n",
            "Epoch 34/1000\n",
            "145/147 [============================>.] - ETA: 0s - loss: 0.0176 - accuracy: 0.9948\n",
            "Epoch 34: saving model to model/keypoint_classifier\\keypoint_classifier_updated2.keras\n",
            "147/147 [==============================] - 1s 5ms/step - loss: 0.0174 - accuracy: 0.9948 - val_loss: 0.0055 - val_accuracy: 0.9987 - lr: 5.0000e-04\n",
            "Epoch 35/1000\n",
            "140/147 [===========================>..] - ETA: 0s - loss: 0.0201 - accuracy: 0.9949\n",
            "Epoch 35: saving model to model/keypoint_classifier\\keypoint_classifier_updated2.keras\n",
            "147/147 [==============================] - 1s 5ms/step - loss: 0.0198 - accuracy: 0.9949 - val_loss: 0.0068 - val_accuracy: 0.9974 - lr: 5.0000e-04\n",
            "Epoch 36/1000\n",
            "140/147 [===========================>..] - ETA: 0s - loss: 0.0170 - accuracy: 0.9951\n",
            "Epoch 36: saving model to model/keypoint_classifier\\keypoint_classifier_updated2.keras\n",
            "147/147 [==============================] - 1s 5ms/step - loss: 0.0172 - accuracy: 0.9951 - val_loss: 0.0055 - val_accuracy: 0.9986 - lr: 5.0000e-04\n",
            "Epoch 37/1000\n",
            "137/147 [==========================>...] - ETA: 0s - loss: 0.0167 - accuracy: 0.9959\n",
            "Epoch 37: saving model to model/keypoint_classifier\\keypoint_classifier_updated2.keras\n",
            "\n",
            "Epoch 37: ReduceLROnPlateau reducing learning rate to 0.0002500000118743628.\n",
            "147/147 [==============================] - 1s 5ms/step - loss: 0.0172 - accuracy: 0.9957 - val_loss: 0.0053 - val_accuracy: 0.9987 - lr: 5.0000e-04\n",
            "Epoch 38/1000\n",
            "146/147 [============================>.] - ETA: 0s - loss: 0.0169 - accuracy: 0.9954\n",
            "Epoch 38: saving model to model/keypoint_classifier\\keypoint_classifier_updated2.keras\n",
            "147/147 [==============================] - 1s 5ms/step - loss: 0.0169 - accuracy: 0.9954 - val_loss: 0.0070 - val_accuracy: 0.9982 - lr: 2.5000e-04\n",
            "Epoch 39/1000\n",
            "142/147 [===========================>..] - ETA: 0s - loss: 0.0145 - accuracy: 0.9967\n",
            "Epoch 39: saving model to model/keypoint_classifier\\keypoint_classifier_updated2.keras\n",
            "147/147 [==============================] - 1s 5ms/step - loss: 0.0151 - accuracy: 0.9964 - val_loss: 0.0047 - val_accuracy: 0.9984 - lr: 2.5000e-04\n",
            "Epoch 40/1000\n",
            "142/147 [===========================>..] - ETA: 0s - loss: 0.0150 - accuracy: 0.9957\n",
            "Epoch 40: saving model to model/keypoint_classifier\\keypoint_classifier_updated2.keras\n",
            "147/147 [==============================] - 1s 6ms/step - loss: 0.0149 - accuracy: 0.9956 - val_loss: 0.0041 - val_accuracy: 0.9987 - lr: 2.5000e-04\n",
            "Epoch 41/1000\n",
            "136/147 [==========================>...] - ETA: 0s - loss: 0.0148 - accuracy: 0.9960\n",
            "Epoch 41: saving model to model/keypoint_classifier\\keypoint_classifier_updated2.keras\n",
            "147/147 [==============================] - 1s 5ms/step - loss: 0.0154 - accuracy: 0.9960 - val_loss: 0.0055 - val_accuracy: 0.9984 - lr: 2.5000e-04\n",
            "Epoch 42/1000\n",
            "137/147 [==========================>...] - ETA: 0s - loss: 0.0138 - accuracy: 0.9970\n",
            "Epoch 42: saving model to model/keypoint_classifier\\keypoint_classifier_updated2.keras\n",
            "147/147 [==============================] - 1s 5ms/step - loss: 0.0136 - accuracy: 0.9970 - val_loss: 0.0042 - val_accuracy: 0.9986 - lr: 2.5000e-04\n",
            "Epoch 43/1000\n",
            "135/147 [==========================>...] - ETA: 0s - loss: 0.0147 - accuracy: 0.9958\n",
            "Epoch 43: saving model to model/keypoint_classifier\\keypoint_classifier_updated2.keras\n",
            "147/147 [==============================] - 1s 5ms/step - loss: 0.0148 - accuracy: 0.9957 - val_loss: 0.0053 - val_accuracy: 0.9987 - lr: 2.5000e-04\n",
            "Epoch 44/1000\n",
            "137/147 [==========================>...] - ETA: 0s - loss: 0.0147 - accuracy: 0.9967\n",
            "Epoch 44: saving model to model/keypoint_classifier\\keypoint_classifier_updated2.keras\n",
            "147/147 [==============================] - 1s 5ms/step - loss: 0.0146 - accuracy: 0.9967 - val_loss: 0.0051 - val_accuracy: 0.9987 - lr: 2.5000e-04\n",
            "Epoch 45/1000\n",
            "147/147 [==============================] - ETA: 0s - loss: 0.0141 - accuracy: 0.9967\n",
            "Epoch 45: saving model to model/keypoint_classifier\\keypoint_classifier_updated2.keras\n",
            "\n",
            "Epoch 45: ReduceLROnPlateau reducing learning rate to 0.0001250000059371814.\n",
            "147/147 [==============================] - 1s 5ms/step - loss: 0.0141 - accuracy: 0.9967 - val_loss: 0.0059 - val_accuracy: 0.9987 - lr: 2.5000e-04\n",
            "Epoch 46/1000\n",
            "138/147 [===========================>..] - ETA: 0s - loss: 0.0120 - accuracy: 0.9967\n",
            "Epoch 46: saving model to model/keypoint_classifier\\keypoint_classifier_updated2.keras\n",
            "147/147 [==============================] - 1s 5ms/step - loss: 0.0121 - accuracy: 0.9965 - val_loss: 0.0037 - val_accuracy: 0.9990 - lr: 1.2500e-04\n",
            "Epoch 47/1000\n",
            "145/147 [============================>.] - ETA: 0s - loss: 0.0151 - accuracy: 0.9968\n",
            "Epoch 47: saving model to model/keypoint_classifier\\keypoint_classifier_updated2.keras\n",
            "147/147 [==============================] - 1s 5ms/step - loss: 0.0150 - accuracy: 0.9968 - val_loss: 0.0045 - val_accuracy: 0.9986 - lr: 1.2500e-04\n",
            "Epoch 48/1000\n",
            "144/147 [============================>.] - ETA: 0s - loss: 0.0148 - accuracy: 0.9965\n",
            "Epoch 48: saving model to model/keypoint_classifier\\keypoint_classifier_updated2.keras\n",
            "147/147 [==============================] - 1s 5ms/step - loss: 0.0151 - accuracy: 0.9964 - val_loss: 0.0040 - val_accuracy: 0.9990 - lr: 1.2500e-04\n",
            "Epoch 49/1000\n",
            "144/147 [============================>.] - ETA: 0s - loss: 0.0110 - accuracy: 0.9977\n",
            "Epoch 49: saving model to model/keypoint_classifier\\keypoint_classifier_updated2.keras\n",
            "147/147 [==============================] - 1s 5ms/step - loss: 0.0110 - accuracy: 0.9977 - val_loss: 0.0039 - val_accuracy: 0.9989 - lr: 1.2500e-04\n",
            "Epoch 50/1000\n",
            "143/147 [============================>.] - ETA: 0s - loss: 0.0125 - accuracy: 0.9967\n",
            "Epoch 50: saving model to model/keypoint_classifier\\keypoint_classifier_updated2.keras\n",
            "147/147 [==============================] - 1s 5ms/step - loss: 0.0125 - accuracy: 0.9967 - val_loss: 0.0041 - val_accuracy: 0.9990 - lr: 1.2500e-04\n",
            "Epoch 51/1000\n",
            "137/147 [==========================>...] - ETA: 0s - loss: 0.0110 - accuracy: 0.9973\n",
            "Epoch 51: saving model to model/keypoint_classifier\\keypoint_classifier_updated2.keras\n",
            "\n",
            "Epoch 51: ReduceLROnPlateau reducing learning rate to 6.25000029685907e-05.\n",
            "147/147 [==============================] - 1s 5ms/step - loss: 0.0107 - accuracy: 0.9973 - val_loss: 0.0052 - val_accuracy: 0.9986 - lr: 1.2500e-04\n",
            "Epoch 52/1000\n",
            "139/147 [===========================>..] - ETA: 0s - loss: 0.0108 - accuracy: 0.9976\n",
            "Epoch 52: saving model to model/keypoint_classifier\\keypoint_classifier_updated2.keras\n",
            "147/147 [==============================] - 1s 5ms/step - loss: 0.0108 - accuracy: 0.9976 - val_loss: 0.0042 - val_accuracy: 0.9989 - lr: 6.2500e-05\n",
            "Epoch 53/1000\n",
            "136/147 [==========================>...] - ETA: 0s - loss: 0.0101 - accuracy: 0.9974\n",
            "Epoch 53: saving model to model/keypoint_classifier\\keypoint_classifier_updated2.keras\n",
            "147/147 [==============================] - 1s 5ms/step - loss: 0.0100 - accuracy: 0.9974 - val_loss: 0.0037 - val_accuracy: 0.9990 - lr: 6.2500e-05\n",
            "Epoch 54/1000\n",
            "142/147 [===========================>..] - ETA: 0s - loss: 0.0109 - accuracy: 0.9973\n",
            "Epoch 54: saving model to model/keypoint_classifier\\keypoint_classifier_updated2.keras\n",
            "147/147 [==============================] - 1s 5ms/step - loss: 0.0109 - accuracy: 0.9973 - val_loss: 0.0040 - val_accuracy: 0.9989 - lr: 6.2500e-05\n",
            "Epoch 55/1000\n",
            "137/147 [==========================>...] - ETA: 0s - loss: 0.0086 - accuracy: 0.9982\n",
            "Epoch 55: saving model to model/keypoint_classifier\\keypoint_classifier_updated2.keras\n",
            "147/147 [==============================] - 1s 6ms/step - loss: 0.0084 - accuracy: 0.9982 - val_loss: 0.0036 - val_accuracy: 0.9990 - lr: 6.2500e-05\n",
            "Epoch 56/1000\n",
            "144/147 [============================>.] - ETA: 0s - loss: 0.0106 - accuracy: 0.9971\n",
            "Epoch 56: saving model to model/keypoint_classifier\\keypoint_classifier_updated2.keras\n",
            "147/147 [==============================] - 1s 5ms/step - loss: 0.0107 - accuracy: 0.9971 - val_loss: 0.0040 - val_accuracy: 0.9990 - lr: 6.2500e-05\n",
            "Epoch 57/1000\n",
            "141/147 [===========================>..] - ETA: 0s - loss: 0.0100 - accuracy: 0.9971\n",
            "Epoch 57: saving model to model/keypoint_classifier\\keypoint_classifier_updated2.keras\n",
            "147/147 [==============================] - 1s 5ms/step - loss: 0.0101 - accuracy: 0.9970 - val_loss: 0.0041 - val_accuracy: 0.9986 - lr: 6.2500e-05\n",
            "Epoch 58/1000\n",
            "136/147 [==========================>...] - ETA: 0s - loss: 0.0119 - accuracy: 0.9968\n",
            "Epoch 58: saving model to model/keypoint_classifier\\keypoint_classifier_updated2.keras\n",
            "147/147 [==============================] - 1s 5ms/step - loss: 0.0115 - accuracy: 0.9970 - val_loss: 0.0034 - val_accuracy: 0.9992 - lr: 6.2500e-05\n",
            "Epoch 59/1000\n",
            "138/147 [===========================>..] - ETA: 0s - loss: 0.0109 - accuracy: 0.9973\n",
            "Epoch 59: saving model to model/keypoint_classifier\\keypoint_classifier_updated2.keras\n",
            "147/147 [==============================] - 1s 5ms/step - loss: 0.0107 - accuracy: 0.9974 - val_loss: 0.0037 - val_accuracy: 0.9990 - lr: 6.2500e-05\n",
            "Epoch 60/1000\n",
            "146/147 [============================>.] - ETA: 0s - loss: 0.0102 - accuracy: 0.9974\n",
            "Epoch 60: saving model to model/keypoint_classifier\\keypoint_classifier_updated2.keras\n",
            "147/147 [==============================] - 1s 5ms/step - loss: 0.0101 - accuracy: 0.9974 - val_loss: 0.0038 - val_accuracy: 0.9990 - lr: 6.2500e-05\n",
            "Epoch 61/1000\n",
            "142/147 [===========================>..] - ETA: 0s - loss: 0.0106 - accuracy: 0.9976\n",
            "Epoch 61: saving model to model/keypoint_classifier\\keypoint_classifier_updated2.keras\n",
            "147/147 [==============================] - 1s 5ms/step - loss: 0.0105 - accuracy: 0.9977 - val_loss: 0.0039 - val_accuracy: 0.9986 - lr: 6.2500e-05\n",
            "Epoch 62/1000\n",
            "139/147 [===========================>..] - ETA: 0s - loss: 0.0090 - accuracy: 0.9981\n",
            "Epoch 62: saving model to model/keypoint_classifier\\keypoint_classifier_updated2.keras\n",
            "147/147 [==============================] - 1s 5ms/step - loss: 0.0093 - accuracy: 0.9980 - val_loss: 0.0038 - val_accuracy: 0.9989 - lr: 6.2500e-05\n",
            "Epoch 63/1000\n",
            "139/147 [===========================>..] - ETA: 0s - loss: 0.0093 - accuracy: 0.9972\n",
            "Epoch 63: saving model to model/keypoint_classifier\\keypoint_classifier_updated2.keras\n",
            "\n",
            "Epoch 63: ReduceLROnPlateau reducing learning rate to 3.125000148429535e-05.\n",
            "147/147 [==============================] - 1s 5ms/step - loss: 0.0093 - accuracy: 0.9972 - val_loss: 0.0039 - val_accuracy: 0.9990 - lr: 6.2500e-05\n",
            "Epoch 64/1000\n",
            "138/147 [===========================>..] - ETA: 0s - loss: 0.0104 - accuracy: 0.9975\n",
            "Epoch 64: saving model to model/keypoint_classifier\\keypoint_classifier_updated2.keras\n",
            "147/147 [==============================] - 1s 5ms/step - loss: 0.0103 - accuracy: 0.9975 - val_loss: 0.0038 - val_accuracy: 0.9990 - lr: 3.1250e-05\n",
            "Epoch 65/1000\n",
            "141/147 [===========================>..] - ETA: 0s - loss: 0.0097 - accuracy: 0.9978\n",
            "Epoch 65: saving model to model/keypoint_classifier\\keypoint_classifier_updated2.keras\n",
            "147/147 [==============================] - 1s 5ms/step - loss: 0.0097 - accuracy: 0.9978 - val_loss: 0.0037 - val_accuracy: 0.9990 - lr: 3.1250e-05\n",
            "Epoch 66/1000\n",
            "147/147 [==============================] - ETA: 0s - loss: 0.0093 - accuracy: 0.9977\n",
            "Epoch 66: saving model to model/keypoint_classifier\\keypoint_classifier_updated2.keras\n",
            "147/147 [==============================] - 1s 5ms/step - loss: 0.0093 - accuracy: 0.9977 - val_loss: 0.0038 - val_accuracy: 0.9990 - lr: 3.1250e-05\n",
            "Epoch 67/1000\n",
            "146/147 [============================>.] - ETA: 0s - loss: 0.0116 - accuracy: 0.9968\n",
            "Epoch 67: saving model to model/keypoint_classifier\\keypoint_classifier_updated2.keras\n",
            "147/147 [==============================] - 1s 6ms/step - loss: 0.0116 - accuracy: 0.9969 - val_loss: 0.0039 - val_accuracy: 0.9989 - lr: 3.1250e-05\n",
            "Epoch 68/1000\n",
            "136/147 [==========================>...] - ETA: 0s - loss: 0.0103 - accuracy: 0.9972\n",
            "Epoch 68: saving model to model/keypoint_classifier\\keypoint_classifier_updated2.keras\n",
            "\n",
            "Epoch 68: ReduceLROnPlateau reducing learning rate to 1.5625000742147677e-05.\n",
            "147/147 [==============================] - 1s 5ms/step - loss: 0.0102 - accuracy: 0.9972 - val_loss: 0.0038 - val_accuracy: 0.9992 - lr: 3.1250e-05\n",
            "Epoch 69/1000\n",
            "138/147 [===========================>..] - ETA: 0s - loss: 0.0106 - accuracy: 0.9972\n",
            "Epoch 69: saving model to model/keypoint_classifier\\keypoint_classifier_updated2.keras\n",
            "147/147 [==============================] - 1s 5ms/step - loss: 0.0105 - accuracy: 0.9972 - val_loss: 0.0038 - val_accuracy: 0.9990 - lr: 1.5625e-05\n",
            "Epoch 70/1000\n",
            "142/147 [===========================>..] - ETA: 0s - loss: 0.0096 - accuracy: 0.9978\n",
            "Epoch 70: saving model to model/keypoint_classifier\\keypoint_classifier_updated2.keras\n",
            "147/147 [==============================] - 1s 5ms/step - loss: 0.0095 - accuracy: 0.9978 - val_loss: 0.0038 - val_accuracy: 0.9989 - lr: 1.5625e-05\n",
            "Epoch 71/1000\n",
            "137/147 [==========================>...] - ETA: 0s - loss: 0.0109 - accuracy: 0.9974\n",
            "Epoch 71: saving model to model/keypoint_classifier\\keypoint_classifier_updated2.keras\n",
            "147/147 [==============================] - 1s 5ms/step - loss: 0.0115 - accuracy: 0.9972 - val_loss: 0.0037 - val_accuracy: 0.9989 - lr: 1.5625e-05\n",
            "Epoch 72/1000\n",
            "142/147 [===========================>..] - ETA: 0s - loss: 0.0101 - accuracy: 0.9976\n",
            "Epoch 72: saving model to model/keypoint_classifier\\keypoint_classifier_updated2.keras\n",
            "147/147 [==============================] - 1s 5ms/step - loss: 0.0105 - accuracy: 0.9975 - val_loss: 0.0039 - val_accuracy: 0.9989 - lr: 1.5625e-05\n",
            "Epoch 73/1000\n",
            "147/147 [==============================] - ETA: 0s - loss: 0.0089 - accuracy: 0.9980\n",
            "Epoch 73: saving model to model/keypoint_classifier\\keypoint_classifier_updated2.keras\n",
            "\n",
            "Epoch 73: ReduceLROnPlateau reducing learning rate to 7.812500371073838e-06.\n",
            "147/147 [==============================] - 1s 5ms/step - loss: 0.0089 - accuracy: 0.9980 - val_loss: 0.0040 - val_accuracy: 0.9990 - lr: 1.5625e-05\n",
            "Epoch 74/1000\n",
            "144/147 [============================>.] - ETA: 0s - loss: 0.0089 - accuracy: 0.9977\n",
            "Epoch 74: saving model to model/keypoint_classifier\\keypoint_classifier_updated2.keras\n",
            "147/147 [==============================] - 1s 5ms/step - loss: 0.0089 - accuracy: 0.9977 - val_loss: 0.0040 - val_accuracy: 0.9990 - lr: 7.8125e-06\n",
            "Epoch 75/1000\n",
            "138/147 [===========================>..] - ETA: 0s - loss: 0.0087 - accuracy: 0.9978\n",
            "Epoch 75: saving model to model/keypoint_classifier\\keypoint_classifier_updated2.keras\n",
            "147/147 [==============================] - 1s 5ms/step - loss: 0.0089 - accuracy: 0.9978 - val_loss: 0.0040 - val_accuracy: 0.9990 - lr: 7.8125e-06\n",
            "Epoch 76/1000\n",
            "140/147 [===========================>..] - ETA: 0s - loss: 0.0108 - accuracy: 0.9970\n",
            "Epoch 76: saving model to model/keypoint_classifier\\keypoint_classifier_updated2.keras\n",
            "147/147 [==============================] - 1s 5ms/step - loss: 0.0105 - accuracy: 0.9972 - val_loss: 0.0040 - val_accuracy: 0.9990 - lr: 7.8125e-06\n",
            "Epoch 77/1000\n",
            "136/147 [==========================>...] - ETA: 0s - loss: 0.0093 - accuracy: 0.9975\n",
            "Epoch 77: saving model to model/keypoint_classifier\\keypoint_classifier_updated2.keras\n",
            "147/147 [==============================] - 1s 5ms/step - loss: 0.0092 - accuracy: 0.9975 - val_loss: 0.0040 - val_accuracy: 0.9990 - lr: 7.8125e-06\n",
            "Epoch 78/1000\n",
            "147/147 [==============================] - ETA: 0s - loss: 0.0081 - accuracy: 0.9982\n",
            "Epoch 78: saving model to model/keypoint_classifier\\keypoint_classifier_updated2.keras\n",
            "\n",
            "Epoch 78: ReduceLROnPlateau reducing learning rate to 3.906250185536919e-06.\n",
            "147/147 [==============================] - 1s 5ms/step - loss: 0.0081 - accuracy: 0.9982 - val_loss: 0.0040 - val_accuracy: 0.9990 - lr: 7.8125e-06\n",
            "Epoch 78: early stopping\n"
          ]
        },
        {
          "data": {
            "text/plain": [
              "<keras.callbacks.History at 0x1e4328e8c10>"
            ]
          },
          "execution_count": 12,
          "metadata": {},
          "output_type": "execute_result"
        }
      ],
      "source": [
        "model.fit(\n",
        "    X_train,\n",
        "    y_train,\n",
        "    epochs=1000,\n",
        "    batch_size=128,\n",
        "    validation_data=(X_test, y_test),\n",
        "    callbacks=[cp_callback, es_callback, reduce_lr_callback]\n",
        ")"
      ]
    },
    {
      "cell_type": "code",
      "execution_count": 13,
      "metadata": {
        "colab": {
          "base_uri": "https://localhost:8080/"
        },
        "id": "pxvb2Y299hE3",
        "outputId": "59eb3185-2e37-4b9e-bc9d-ab1b8ac29b7f"
      },
      "outputs": [
        {
          "name": "stdout",
          "output_type": "stream",
          "text": [
            " 1/49 [..............................] - ETA: 1s - loss: 8.7956e-06 - accuracy: 1.0000"
          ]
        },
        {
          "name": "stdout",
          "output_type": "stream",
          "text": [
            "49/49 [==============================] - 0s 2ms/step - loss: 0.0040 - accuracy: 0.9990\n"
          ]
        }
      ],
      "source": [
        "# Model evaluation\n",
        "val_loss, val_acc = model.evaluate(X_test, y_test, batch_size=128)"
      ]
    },
    {
      "cell_type": "code",
      "execution_count": 14,
      "metadata": {
        "id": "RBkmDeUW9hE4"
      },
      "outputs": [],
      "source": [
        "# Loading the saved model\n",
        "model = tf.keras.models.load_model(model_save_path)"
      ]
    },
    {
      "cell_type": "code",
      "execution_count": 15,
      "metadata": {
        "colab": {
          "base_uri": "https://localhost:8080/"
        },
        "id": "tFz9Tb0I9hE4",
        "outputId": "1c3b3528-54ae-4ee2-ab04-77429211cbef"
      },
      "outputs": [
        {
          "name": "stdout",
          "output_type": "stream",
          "text": [
            "1/1 [==============================] - 0s 124ms/step\n",
            "[9.03562295e-07 5.18086893e-11 1.82473307e-11 8.07302905e-11\n",
            " 3.41182504e-09 5.44565226e-11 1.44059147e-08 5.17913750e-12\n",
            " 2.62231636e-09 1.02435316e-09 7.42627648e-08 4.53438155e-12\n",
            " 1.34824573e-11 4.70926076e-11 1.42441026e-09 9.58348401e-11\n",
            " 1.08725674e-10 1.06201582e-10 5.76380810e-09 9.99998927e-01\n",
            " 6.87967044e-11 2.73174972e-12 4.11703588e-11 1.06584665e-07\n",
            " 1.30105010e-10 2.61344939e-12]\n",
            "19\n"
          ]
        }
      ],
      "source": [
        "# Inference test\n",
        "predict_result = model.predict(np.array([X_test[0]]))\n",
        "print(np.squeeze(predict_result))\n",
        "print(np.argmax(np.squeeze(predict_result)))"
      ]
    },
    {
      "cell_type": "markdown",
      "metadata": {
        "id": "S3U4yNWx9hE4"
      },
      "source": [
        "# Confusion matrix"
      ]
    },
    {
      "cell_type": "code",
      "execution_count": 16,
      "metadata": {
        "colab": {
          "base_uri": "https://localhost:8080/",
          "height": 582
        },
        "id": "AP1V6SCk9hE5",
        "outputId": "08e41a80-7a4a-4619-8125-ecc371368d19"
      },
      "outputs": [
        {
          "name": "stdout",
          "output_type": "stream",
          "text": [
            "196/196 [==============================] - 0s 1ms/step\n"
          ]
        },
        {
          "data": {
            "image/png": "[encoded data removed]",
            "text/plain": [
              "<Figure size 700x600 with 2 Axes>"
            ]
          },
          "metadata": {},
          "output_type": "display_data"
        },
        {
          "name": "stdout",
          "output_type": "stream",
          "text": [
            "Classification Report\n",
            "              precision    recall  f1-score   support\n",
            "\n",
            "           0       0.99      1.00      1.00       192\n",
            "           1       1.00      1.00      1.00       151\n",
            "           2       1.00      1.00      1.00       282\n",
            "           3       1.00      1.00      1.00       284\n",
            "           4       0.99      1.00      1.00       232\n",
            "           5       1.00      1.00      1.00       226\n",
            "           6       1.00      1.00      1.00       215\n",
            "           7       1.00      1.00      1.00       215\n",
            "           8       1.00      1.00      1.00       298\n",
            "           9       1.00      1.00      1.00       289\n",
            "          10       1.00      1.00      1.00       222\n",
            "          11       1.00      1.00      1.00       195\n",
            "          12       1.00      1.00      1.00       194\n",
            "          13       1.00      1.00      1.00       241\n",
            "          14       1.00      1.00      1.00       233\n",
            "          15       1.00      1.00      1.00       252\n",
            "          16       1.00      1.00      1.00       261\n",
            "          17       1.00      0.99      1.00       235\n",
            "          18       1.00      0.99      0.99       284\n",
            "          19       1.00      1.00      1.00       227\n",
            "          20       1.00      1.00      1.00       266\n",
            "          21       1.00      1.00      1.00       236\n",
            "          22       1.00      1.00      1.00       265\n",
            "          23       1.00      1.00      1.00       274\n",
            "          24       1.00      1.00      1.00       248\n",
            "          25       0.99      1.00      0.99       254\n",
            "\n",
            "    accuracy                           1.00      6271\n",
            "   macro avg       1.00      1.00      1.00      6271\n",
            "weighted avg       1.00      1.00      1.00      6271\n",
            "\n"
          ]
        }
      ],
      "source": [
        "import pandas as pd\n",
        "import seaborn as sns\n",
        "import matplotlib.pyplot as plt\n",
        "from sklearn.metrics import confusion_matrix, classification_report\n",
        "\n",
        "def print_confusion_matrix(y_true, y_pred, report=True):\n",
        "    labels = sorted(list(set(y_true)))\n",
        "    cmx_data = confusion_matrix(y_true, y_pred, labels=labels)\n",
        "    \n",
        "    df_cmx = pd.DataFrame(cmx_data, index=labels, columns=labels)\n",
        " \n",
        "    fig, ax = plt.subplots(figsize=(7, 6))\n",
        "    sns.heatmap(df_cmx, annot=True, fmt='g' ,square=False)\n",
        "    ax.set_ylim(len(set(y_true)), 0)\n",
        "    plt.show()\n",
        "    \n",
        "    if report:\n",
        "        print('Classification Report')\n",
        "        print(classification_report(y_test, y_pred))\n",
        "\n",
        "Y_pred = model.predict(X_test)\n",
        "y_pred = np.argmax(Y_pred, axis=1)\n",
        "\n",
        "print_confusion_matrix(y_test, y_pred)"
      ]
    },
    {
      "cell_type": "markdown",
      "metadata": {
        "id": "FNP6aqzc9hE5"
      },
      "source": [
        "# Convert to model for Tensorflow-Lite"
      ]
    },
    {
      "cell_type": "code",
      "execution_count": 17,
      "metadata": {
        "id": "ODjnYyld9hE6"
      },
      "outputs": [],
      "source": [
        "# Save as a model dedicated to inference\n",
        "model.save(model_save_path, include_optimizer=False)"
      ]
    },
    {
      "cell_type": "code",
      "execution_count": 18,
      "metadata": {
        "colab": {
          "base_uri": "https://localhost:8080/"
        },
        "id": "zRfuK8Y59hE6",
        "outputId": "a4ca585c-b5d5-4244-8291-8674063209bb"
      },
      "outputs": [
        {
          "name": "stdout",
          "output_type": "stream",
          "text": [
            "INFO:tensorflow:Assets written to: C:\\Users\\ARAVIN~1\\AppData\\Local\\Temp\\tmp2cvfgj4d\\assets\n"
          ]
        },
        {
          "data": {
            "text/plain": [
              "23304"
            ]
          },
          "execution_count": 18,
          "metadata": {},
          "output_type": "execute_result"
        }
      ],
      "source": [
        "# Transform model (quantization)\n",
        "\n",
        "converter = tf.lite.TFLiteConverter.from_keras_model(model)\n",
        "converter.optimizations = [tf.lite.Optimize.DEFAULT]\n",
        "tflite_quantized_model = converter.convert()\n",
        "\n",
        "open(tflite_save_path, 'wb').write(tflite_quantized_model)"
      ]
    },
    {
      "cell_type": "markdown",
      "metadata": {
        "id": "CHBPBXdx9hE6"
      },
      "source": [
        "# Inference test"
      ]
    },
    {
      "cell_type": "code",
      "execution_count": 19,
      "metadata": {
        "id": "mGAzLocO9hE7"
      },
      "outputs": [],
      "source": [
        "interpreter = tf.lite.Interpreter(model_path=tflite_save_path)\n",
        "interpreter.allocate_tensors()"
      ]
    },
    {
      "cell_type": "code",
      "execution_count": 20,
      "metadata": {
        "id": "oQuDK8YS9hE7"
      },
      "outputs": [],
      "source": [
        "# Get I / O tensor\n",
        "input_details = interpreter.get_input_details()\n",
        "output_details = interpreter.get_output_details()"
      ]
    },
    {
      "cell_type": "code",
      "execution_count": 21,
      "metadata": {
        "id": "2_ixAf_l9hE7"
      },
      "outputs": [],
      "source": [
        "interpreter.set_tensor(input_details[0]['index'], np.array([X_test[0]]))"
      ]
    },
    {
      "cell_type": "code",
      "execution_count": 22,
      "metadata": {
        "colab": {
          "base_uri": "https://localhost:8080/"
        },
        "id": "s4FoAnuc9hE7",
        "outputId": "91f18257-8d8b-4ef3-c558-e9b5f94fabbf",
        "scrolled": true
      },
      "outputs": [
        {
          "name": "stdout",
          "output_type": "stream",
          "text": [
            "CPU times: total: 0 ns\n",
            "Wall time: 9.29 ms\n"
          ]
        }
      ],
      "source": [
        "%%time\n",
        "# Inference implementation\n",
        "interpreter.invoke()\n",
        "tflite_results = interpreter.get_tensor(output_details[0]['index'])"
      ]
    },
    {
      "cell_type": "code",
      "execution_count": 23,
      "metadata": {
        "colab": {
          "base_uri": "https://localhost:8080/"
        },
        "id": "vONjp19J9hE8",
        "outputId": "77205e24-fd00-42c4-f7b6-e06e527c2cba"
      },
      "outputs": [
        {
          "name": "stdout",
          "output_type": "stream",
          "text": [
            "[8.71801888e-07 4.65578132e-11 1.83314041e-11 8.33108929e-11\n",
            " 3.49331364e-09 4.80102520e-11 1.61367506e-08 5.07375435e-12\n",
            " 2.41674503e-09 1.05349840e-09 8.22793496e-08 4.35524360e-12\n",
            " 1.32939285e-11 4.91701610e-11 1.33431732e-09 9.31591956e-11\n",
            " 1.05589780e-10 9.92639582e-11 5.33847588e-09 9.99998927e-01\n",
            " 6.69705263e-11 2.87114473e-12 3.88272782e-11 1.03236644e-07\n",
            " 1.22389140e-10 2.74325267e-12]\n",
            "19\n"
          ]
        }
      ],
      "source": [
        "print(np.squeeze(tflite_results))\n",
        "print(np.argmax(np.squeeze(tflite_results)))"
      ]
    }
  ],
  "metadata": {
    "accelerator": "GPU",
    "colab": {
      "collapsed_sections": [],
      "name": "keypoint_classification_EN.ipynb",
      "provenance": [],
      "toc_visible": true
    },
    "kernelspec": {
      "display_name": "repo",
      "language": "python",
      "name": "python3"
    },
    "language_info": {
      "codemirror_mode": {
        "name": "ipython",
        "version": 3
      },
      "file_extension": ".py",
      "mimetype": "text/x-python",
      "name": "python",
      "nbconvert_exporter": "python",
      "pygments_lexer": "ipython3",
      "version": "3.9.9"
    }
  },
  "nbformat": 4,
  "nbformat_minor": 0
}
